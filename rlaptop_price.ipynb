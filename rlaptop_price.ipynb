{
  "nbformat": 4,
  "nbformat_minor": 0,
  "metadata": {
    "colab": {
      "provenance": [],
      "mount_file_id": "1cwFcceVYWdD1ksZL3yioWLgeVsz8YM_z",
      "authorship_tag": "ABX9TyP7ty2TdQ1SLDUiMATePM8F",
      "include_colab_link": true
    },
    "kernelspec": {
      "name": "python3",
      "display_name": "Python 3"
    },
    "language_info": {
      "name": "python"
    }
  },
  "cells": [
    {
      "cell_type": "markdown",
      "metadata": {
        "id": "view-in-github",
        "colab_type": "text"
      },
      "source": [
        "<a href=\"https://colab.research.google.com/github/Pronoy2324/Laptop_price_predictor/blob/main/rlaptop_price.ipynb\" target=\"_parent\"><img src=\"https://colab.research.google.com/assets/colab-badge.svg\" alt=\"Open In Colab\"/></a>"
      ]
    },
    {
      "cell_type": "code",
      "execution_count": 316,
      "metadata": {
        "id": "zsgBhSNFi0f8"
      },
      "outputs": [],
      "source": [
        "import pandas as pd\n",
        "import numpy as np\n",
        "import seaborn as sns\n",
        "import matplotlib.pyplot as plt\n",
        "import warnings\n",
        "warnings.filterwarnings('ignore')"
      ]
    },
    {
      "cell_type": "code",
      "source": [
        "df =pd.read_csv('/content/drive/MyDrive/datasets/laptop_data.csv')"
      ],
      "metadata": {
        "id": "w4TAQHDcjG9Y"
      },
      "execution_count": 241,
      "outputs": []
    },
    {
      "cell_type": "code",
      "source": [
        "df.head()"
      ],
      "metadata": {
        "colab": {
          "base_uri": "https://localhost:8080/",
          "height": 206
        },
        "id": "VisWFV9ujNUS",
        "outputId": "8b102f36-3b83-4391-8228-c9207d9ac2d1"
      },
      "execution_count": 242,
      "outputs": [
        {
          "output_type": "execute_result",
          "data": {
            "text/plain": [
              "   Unnamed: 0 Company   TypeName  Inches                    ScreenResolution  \\\n",
              "0           0   Apple  Ultrabook    13.3  IPS Panel Retina Display 2560x1600   \n",
              "1           1   Apple  Ultrabook    13.3                            1440x900   \n",
              "2           2      HP   Notebook    15.6                   Full HD 1920x1080   \n",
              "3           3   Apple  Ultrabook    15.4  IPS Panel Retina Display 2880x1800   \n",
              "4           4   Apple  Ultrabook    13.3  IPS Panel Retina Display 2560x1600   \n",
              "\n",
              "                          Cpu   Ram               Memory  \\\n",
              "0        Intel Core i5 2.3GHz   8GB            128GB SSD   \n",
              "1        Intel Core i5 1.8GHz   8GB  128GB Flash Storage   \n",
              "2  Intel Core i5 7200U 2.5GHz   8GB            256GB SSD   \n",
              "3        Intel Core i7 2.7GHz  16GB            512GB SSD   \n",
              "4        Intel Core i5 3.1GHz   8GB            256GB SSD   \n",
              "\n",
              "                            Gpu  OpSys  Weight        Price  \n",
              "0  Intel Iris Plus Graphics 640  macOS  1.37kg   71378.6832  \n",
              "1        Intel HD Graphics 6000  macOS  1.34kg   47895.5232  \n",
              "2         Intel HD Graphics 620  No OS  1.86kg   30636.0000  \n",
              "3            AMD Radeon Pro 455  macOS  1.83kg  135195.3360  \n",
              "4  Intel Iris Plus Graphics 650  macOS  1.37kg   96095.8080  "
            ],
            "text/html": [
              "\n",
              "  <div id=\"df-761b16e4-5f24-4ba6-82ce-5e29d2b31161\">\n",
              "    <div class=\"colab-df-container\">\n",
              "      <div>\n",
              "<style scoped>\n",
              "    .dataframe tbody tr th:only-of-type {\n",
              "        vertical-align: middle;\n",
              "    }\n",
              "\n",
              "    .dataframe tbody tr th {\n",
              "        vertical-align: top;\n",
              "    }\n",
              "\n",
              "    .dataframe thead th {\n",
              "        text-align: right;\n",
              "    }\n",
              "</style>\n",
              "<table border=\"1\" class=\"dataframe\">\n",
              "  <thead>\n",
              "    <tr style=\"text-align: right;\">\n",
              "      <th></th>\n",
              "      <th>Unnamed: 0</th>\n",
              "      <th>Company</th>\n",
              "      <th>TypeName</th>\n",
              "      <th>Inches</th>\n",
              "      <th>ScreenResolution</th>\n",
              "      <th>Cpu</th>\n",
              "      <th>Ram</th>\n",
              "      <th>Memory</th>\n",
              "      <th>Gpu</th>\n",
              "      <th>OpSys</th>\n",
              "      <th>Weight</th>\n",
              "      <th>Price</th>\n",
              "    </tr>\n",
              "  </thead>\n",
              "  <tbody>\n",
              "    <tr>\n",
              "      <th>0</th>\n",
              "      <td>0</td>\n",
              "      <td>Apple</td>\n",
              "      <td>Ultrabook</td>\n",
              "      <td>13.3</td>\n",
              "      <td>IPS Panel Retina Display 2560x1600</td>\n",
              "      <td>Intel Core i5 2.3GHz</td>\n",
              "      <td>8GB</td>\n",
              "      <td>128GB SSD</td>\n",
              "      <td>Intel Iris Plus Graphics 640</td>\n",
              "      <td>macOS</td>\n",
              "      <td>1.37kg</td>\n",
              "      <td>71378.6832</td>\n",
              "    </tr>\n",
              "    <tr>\n",
              "      <th>1</th>\n",
              "      <td>1</td>\n",
              "      <td>Apple</td>\n",
              "      <td>Ultrabook</td>\n",
              "      <td>13.3</td>\n",
              "      <td>1440x900</td>\n",
              "      <td>Intel Core i5 1.8GHz</td>\n",
              "      <td>8GB</td>\n",
              "      <td>128GB Flash Storage</td>\n",
              "      <td>Intel HD Graphics 6000</td>\n",
              "      <td>macOS</td>\n",
              "      <td>1.34kg</td>\n",
              "      <td>47895.5232</td>\n",
              "    </tr>\n",
              "    <tr>\n",
              "      <th>2</th>\n",
              "      <td>2</td>\n",
              "      <td>HP</td>\n",
              "      <td>Notebook</td>\n",
              "      <td>15.6</td>\n",
              "      <td>Full HD 1920x1080</td>\n",
              "      <td>Intel Core i5 7200U 2.5GHz</td>\n",
              "      <td>8GB</td>\n",
              "      <td>256GB SSD</td>\n",
              "      <td>Intel HD Graphics 620</td>\n",
              "      <td>No OS</td>\n",
              "      <td>1.86kg</td>\n",
              "      <td>30636.0000</td>\n",
              "    </tr>\n",
              "    <tr>\n",
              "      <th>3</th>\n",
              "      <td>3</td>\n",
              "      <td>Apple</td>\n",
              "      <td>Ultrabook</td>\n",
              "      <td>15.4</td>\n",
              "      <td>IPS Panel Retina Display 2880x1800</td>\n",
              "      <td>Intel Core i7 2.7GHz</td>\n",
              "      <td>16GB</td>\n",
              "      <td>512GB SSD</td>\n",
              "      <td>AMD Radeon Pro 455</td>\n",
              "      <td>macOS</td>\n",
              "      <td>1.83kg</td>\n",
              "      <td>135195.3360</td>\n",
              "    </tr>\n",
              "    <tr>\n",
              "      <th>4</th>\n",
              "      <td>4</td>\n",
              "      <td>Apple</td>\n",
              "      <td>Ultrabook</td>\n",
              "      <td>13.3</td>\n",
              "      <td>IPS Panel Retina Display 2560x1600</td>\n",
              "      <td>Intel Core i5 3.1GHz</td>\n",
              "      <td>8GB</td>\n",
              "      <td>256GB SSD</td>\n",
              "      <td>Intel Iris Plus Graphics 650</td>\n",
              "      <td>macOS</td>\n",
              "      <td>1.37kg</td>\n",
              "      <td>96095.8080</td>\n",
              "    </tr>\n",
              "  </tbody>\n",
              "</table>\n",
              "</div>\n",
              "      <button class=\"colab-df-convert\" onclick=\"convertToInteractive('df-761b16e4-5f24-4ba6-82ce-5e29d2b31161')\"\n",
              "              title=\"Convert this dataframe to an interactive table.\"\n",
              "              style=\"display:none;\">\n",
              "        \n",
              "  <svg xmlns=\"http://www.w3.org/2000/svg\" height=\"24px\"viewBox=\"0 0 24 24\"\n",
              "       width=\"24px\">\n",
              "    <path d=\"M0 0h24v24H0V0z\" fill=\"none\"/>\n",
              "    <path d=\"M18.56 5.44l.94 2.06.94-2.06 2.06-.94-2.06-.94-.94-2.06-.94 2.06-2.06.94zm-11 1L8.5 8.5l.94-2.06 2.06-.94-2.06-.94L8.5 2.5l-.94 2.06-2.06.94zm10 10l.94 2.06.94-2.06 2.06-.94-2.06-.94-.94-2.06-.94 2.06-2.06.94z\"/><path d=\"M17.41 7.96l-1.37-1.37c-.4-.4-.92-.59-1.43-.59-.52 0-1.04.2-1.43.59L10.3 9.45l-7.72 7.72c-.78.78-.78 2.05 0 2.83L4 21.41c.39.39.9.59 1.41.59.51 0 1.02-.2 1.41-.59l7.78-7.78 2.81-2.81c.8-.78.8-2.07 0-2.86zM5.41 20L4 18.59l7.72-7.72 1.47 1.35L5.41 20z\"/>\n",
              "  </svg>\n",
              "      </button>\n",
              "      \n",
              "  <style>\n",
              "    .colab-df-container {\n",
              "      display:flex;\n",
              "      flex-wrap:wrap;\n",
              "      gap: 12px;\n",
              "    }\n",
              "\n",
              "    .colab-df-convert {\n",
              "      background-color: #E8F0FE;\n",
              "      border: none;\n",
              "      border-radius: 50%;\n",
              "      cursor: pointer;\n",
              "      display: none;\n",
              "      fill: #1967D2;\n",
              "      height: 32px;\n",
              "      padding: 0 0 0 0;\n",
              "      width: 32px;\n",
              "    }\n",
              "\n",
              "    .colab-df-convert:hover {\n",
              "      background-color: #E2EBFA;\n",
              "      box-shadow: 0px 1px 2px rgba(60, 64, 67, 0.3), 0px 1px 3px 1px rgba(60, 64, 67, 0.15);\n",
              "      fill: #174EA6;\n",
              "    }\n",
              "\n",
              "    [theme=dark] .colab-df-convert {\n",
              "      background-color: #3B4455;\n",
              "      fill: #D2E3FC;\n",
              "    }\n",
              "\n",
              "    [theme=dark] .colab-df-convert:hover {\n",
              "      background-color: #434B5C;\n",
              "      box-shadow: 0px 1px 3px 1px rgba(0, 0, 0, 0.15);\n",
              "      filter: drop-shadow(0px 1px 2px rgba(0, 0, 0, 0.3));\n",
              "      fill: #FFFFFF;\n",
              "    }\n",
              "  </style>\n",
              "\n",
              "      <script>\n",
              "        const buttonEl =\n",
              "          document.querySelector('#df-761b16e4-5f24-4ba6-82ce-5e29d2b31161 button.colab-df-convert');\n",
              "        buttonEl.style.display =\n",
              "          google.colab.kernel.accessAllowed ? 'block' : 'none';\n",
              "\n",
              "        async function convertToInteractive(key) {\n",
              "          const element = document.querySelector('#df-761b16e4-5f24-4ba6-82ce-5e29d2b31161');\n",
              "          const dataTable =\n",
              "            await google.colab.kernel.invokeFunction('convertToInteractive',\n",
              "                                                     [key], {});\n",
              "          if (!dataTable) return;\n",
              "\n",
              "          const docLinkHtml = 'Like what you see? Visit the ' +\n",
              "            '<a target=\"_blank\" href=https://colab.research.google.com/notebooks/data_table.ipynb>data table notebook</a>'\n",
              "            + ' to learn more about interactive tables.';\n",
              "          element.innerHTML = '';\n",
              "          dataTable['output_type'] = 'display_data';\n",
              "          await google.colab.output.renderOutput(dataTable, element);\n",
              "          const docLink = document.createElement('div');\n",
              "          docLink.innerHTML = docLinkHtml;\n",
              "          element.appendChild(docLink);\n",
              "        }\n",
              "      </script>\n",
              "    </div>\n",
              "  </div>\n",
              "  "
            ]
          },
          "metadata": {},
          "execution_count": 242
        }
      ]
    },
    {
      "cell_type": "code",
      "source": [
        "df.nunique()"
      ],
      "metadata": {
        "colab": {
          "base_uri": "https://localhost:8080/"
        },
        "id": "3AOY4KnHjQVn",
        "outputId": "78b661da-09a6-4aae-a0f6-218a0464c1d5"
      },
      "execution_count": 243,
      "outputs": [
        {
          "output_type": "execute_result",
          "data": {
            "text/plain": [
              "Unnamed: 0          1303\n",
              "Company               19\n",
              "TypeName               6\n",
              "Inches                18\n",
              "ScreenResolution      40\n",
              "Cpu                  118\n",
              "Ram                    9\n",
              "Memory                39\n",
              "Gpu                  110\n",
              "OpSys                  9\n",
              "Weight               179\n",
              "Price                791\n",
              "dtype: int64"
            ]
          },
          "metadata": {},
          "execution_count": 243
        }
      ]
    },
    {
      "cell_type": "code",
      "source": [
        "df['Touchscreen']=df['ScreenResolution'].apply(lambda x : 1 if 'Touchscreen' in x else 0)"
      ],
      "metadata": {
        "id": "lhus88JYkQw1"
      },
      "execution_count": 245,
      "outputs": []
    },
    {
      "cell_type": "code",
      "source": [
        "df['IPS_panel']=df['ScreenResolution'].apply(lambda x : 1 if 'IPS' in x else 0)"
      ],
      "metadata": {
        "id": "yyxc7z_qlaO9"
      },
      "execution_count": 246,
      "outputs": []
    },
    {
      "cell_type": "code",
      "source": [
        "new=df['ScreenResolution'].str.split('x',n=1,expand=True)"
      ],
      "metadata": {
        "id": "z0I9H5Q_lrjv"
      },
      "execution_count": 247,
      "outputs": []
    },
    {
      "cell_type": "code",
      "source": [
        "df['x_res']=new.iloc[:,0].str.extract('(\\d+)')\n",
        "df['y_res']=new.iloc[:,1]"
      ],
      "metadata": {
        "id": "SE5a9mNIjl_U"
      },
      "execution_count": 248,
      "outputs": []
    },
    {
      "cell_type": "code",
      "source": [
        "df['Ram']=df['Ram'].apply(lambda x : x.replace('GB',''))\n",
        "df['Weight']=df['Weight'].apply(lambda x : x.replace('kg',''))"
      ],
      "metadata": {
        "id": "YQV4RGCbnQkf"
      },
      "execution_count": 250,
      "outputs": []
    },
    {
      "cell_type": "code",
      "source": [
        "def memory_ext(x,tech):\n",
        "  if tech in x:\n",
        "    index= x.split(' ').index(tech)-1\n",
        "    return x.split(' ')[index]\n",
        "  else:\n",
        "    return 0"
      ],
      "metadata": {
        "id": "H8tgEpBSn9Ge"
      },
      "execution_count": 251,
      "outputs": []
    },
    {
      "cell_type": "code",
      "source": [
        "df['SSD']=df['Memory'].apply(memory_ext,tech='SSD')"
      ],
      "metadata": {
        "id": "CSanJ2nZnhtr"
      },
      "execution_count": 252,
      "outputs": []
    },
    {
      "cell_type": "code",
      "source": [
        "df['HDD']=df['Memory'].apply(memory_ext,tech='HDD')"
      ],
      "metadata": {
        "id": "-fT06rQYo8bN"
      },
      "execution_count": 253,
      "outputs": []
    },
    {
      "cell_type": "code",
      "source": [
        "df['Flash']=df['Memory'].apply(memory_ext,tech='Flash')\n",
        "df['Hybrid']=df['Memory'].apply(memory_ext,tech='Hybrid')"
      ],
      "metadata": {
        "id": "CVN16sBlpApf"
      },
      "execution_count": 254,
      "outputs": []
    },
    {
      "cell_type": "code",
      "source": [
        "def tb_to_gb(x):\n",
        "  if x != 0:\n",
        "    if 'TB' in x:\n",
        "      return int(float(x.replace('TB','')) * 1024)\n",
        "    elif 'GB' in x:\n",
        "      return int(x.replace('GB',''))\n",
        "  else:\n",
        "    return 0"
      ],
      "metadata": {
        "id": "YvJ3avhxqK3f"
      },
      "execution_count": 257,
      "outputs": []
    },
    {
      "cell_type": "code",
      "source": [
        "df['HDD']=df['HDD'].apply(tb_to_gb)"
      ],
      "metadata": {
        "id": "c5LxOgjJqlzF"
      },
      "execution_count": 258,
      "outputs": []
    },
    {
      "cell_type": "code",
      "source": [
        "df['SSD']=df['SSD'].apply(tb_to_gb)"
      ],
      "metadata": {
        "id": "u51KhCMxs6Aq"
      },
      "execution_count": 259,
      "outputs": []
    },
    {
      "cell_type": "code",
      "source": [
        "df['Flash']=df['Flash'].apply(tb_to_gb)"
      ],
      "metadata": {
        "id": "fSfif33Qt72p"
      },
      "execution_count": 260,
      "outputs": []
    },
    {
      "cell_type": "code",
      "source": [
        "df['Hybrid']=df['Hybrid'].apply(tb_to_gb)"
      ],
      "metadata": {
        "id": "lVvBm4mnuAlI"
      },
      "execution_count": 261,
      "outputs": []
    },
    {
      "cell_type": "code",
      "source": [
        "def cpu_ext(x):\n",
        "  if 'Intel' in x:\n",
        "    if 'i3' in x.split(' ') or 'i5' in x.split(' ') or 'i7' in x.split(' '):\n",
        "      return ' '.join(x.split(' ')[0:3])\n",
        "    else:\n",
        "      return 'Intel Others'\n",
        "  elif 'AMD' in x:\n",
        "    if 'A9-Series' in x.split(' ') or 'A6-Series' in x.split(' ') or 'A12-Series' in x.split(' '):\n",
        "      return ' '.join(x.split(' ')[0:2])\n",
        "    else:\n",
        "      return 'AMD Other'\n",
        "  else:\n",
        "    return 'Others'\n",
        "\n",
        "def Gpu_ext(x):\n",
        "  if 'Nvidia' in x:   \n",
        "    return 'Nvidia'\n",
        "  elif 'Intel' in x:\n",
        "    return 'Intel'\n",
        "  elif 'AMD' in x:\n",
        "    return 'AMD'\n",
        "  else:\n",
        "    return 'others'\n",
        "\n",
        "def cat_os(inp):\n",
        "    if inp == 'Windows 10' or inp == 'Windows 7' or inp == 'Windows 10 S':\n",
        "        return 'Windows'\n",
        "    elif inp == 'macOS' or inp == 'Mac OS X':\n",
        "        return 'Mac'\n",
        "    else:\n",
        "        return 'Others/No OS/Linux'"
      ],
      "metadata": {
        "id": "CoQ0oDGfyazd"
      },
      "execution_count": 279,
      "outputs": []
    },
    {
      "cell_type": "code",
      "source": [
        "df['Cpu_name']=df['Cpu'].apply(cpu_ext)"
      ],
      "metadata": {
        "id": "WwbaaHOt0uaC"
      },
      "execution_count": 266,
      "outputs": []
    },
    {
      "cell_type": "code",
      "source": [
        "df['Gpu_brand']=df['Gpu'].apply(Gpu_ext)"
      ],
      "metadata": {
        "id": "mqEV7WLK1k3z"
      },
      "execution_count": 276,
      "outputs": []
    },
    {
      "cell_type": "code",
      "source": [
        "df['OpSys']=df['OpSys'].apply(cat_os)"
      ],
      "metadata": {
        "id": "BPWhu5u73uB2"
      },
      "execution_count": 281,
      "outputs": []
    },
    {
      "cell_type": "code",
      "source": [
        "df['x_res']=df['x_res'].astype('int64')"
      ],
      "metadata": {
        "id": "STq3qZo44vmL"
      },
      "execution_count": 286,
      "outputs": []
    },
    {
      "cell_type": "code",
      "source": [
        "df['y_res']=df['y_res'].astype('int64')"
      ],
      "metadata": {
        "id": "Z6XBCQPW464q"
      },
      "execution_count": 287,
      "outputs": []
    },
    {
      "cell_type": "code",
      "source": [
        "df['ppi'] = (((df['x_res']**2) + (df['y_res']**2))**0.5/df['Inches']).astype('float')"
      ],
      "metadata": {
        "id": "efYKGDvM4Tfk"
      },
      "execution_count": 288,
      "outputs": []
    },
    {
      "cell_type": "code",
      "source": [
        "df['Weight']=df['Weight'].astype('float64')"
      ],
      "metadata": {
        "id": "YdT2dNuCAKTG"
      },
      "execution_count": 305,
      "outputs": []
    },
    {
      "cell_type": "code",
      "source": [
        "df['Ram']=df['Ram'].astype('int64')"
      ],
      "metadata": {
        "id": "qaDxYhULP2uH"
      },
      "execution_count": 390,
      "outputs": []
    },
    {
      "cell_type": "code",
      "source": [
        "data=df.drop(['Unnamed: 0','Inches','ScreenResolution','Cpu','Gpu','Memory','x_res','y_res'],axis=1)"
      ],
      "metadata": {
        "id": "tL-WZdYP5Gm1"
      },
      "execution_count": 391,
      "outputs": []
    },
    {
      "cell_type": "code",
      "source": [
        "data.head()"
      ],
      "metadata": {
        "colab": {
          "base_uri": "https://localhost:8080/",
          "height": 206
        },
        "id": "sOpb3WyJ-gS9",
        "outputId": "fdb52239-0397-4c29-c3cd-7440f9f604f8"
      },
      "execution_count": 307,
      "outputs": [
        {
          "output_type": "execute_result",
          "data": {
            "text/plain": [
              "  Company   TypeName Ram               OpSys  Weight        Price  \\\n",
              "0   Apple  Ultrabook   8                 Mac    1.37   71378.6832   \n",
              "1   Apple  Ultrabook   8                 Mac    1.34   47895.5232   \n",
              "2      HP   Notebook   8  Others/No OS/Linux    1.86   30636.0000   \n",
              "3   Apple  Ultrabook  16                 Mac    1.83  135195.3360   \n",
              "4   Apple  Ultrabook   8                 Mac    1.37   96095.8080   \n",
              "\n",
              "   Touchscreen  IPS_panel  SSD  HDD  Flash  Hybrid       Cpu_name Gpu_brand  \\\n",
              "0            0          1  128    0      0       0  Intel Core i5     Intel   \n",
              "1            0          0    0    0    128       0  Intel Core i5     Intel   \n",
              "2            0          0  256    0      0       0  Intel Core i5     Intel   \n",
              "3            0          1  512    0      0       0  Intel Core i7       AMD   \n",
              "4            0          1  256    0      0       0  Intel Core i5     Intel   \n",
              "\n",
              "          ppi  \n",
              "0  226.983005  \n",
              "1  127.677940  \n",
              "2  141.211998  \n",
              "3  220.534624  \n",
              "4  226.983005  "
            ],
            "text/html": [
              "\n",
              "  <div id=\"df-1de4a816-ab6b-4d34-869c-b153ef67c642\">\n",
              "    <div class=\"colab-df-container\">\n",
              "      <div>\n",
              "<style scoped>\n",
              "    .dataframe tbody tr th:only-of-type {\n",
              "        vertical-align: middle;\n",
              "    }\n",
              "\n",
              "    .dataframe tbody tr th {\n",
              "        vertical-align: top;\n",
              "    }\n",
              "\n",
              "    .dataframe thead th {\n",
              "        text-align: right;\n",
              "    }\n",
              "</style>\n",
              "<table border=\"1\" class=\"dataframe\">\n",
              "  <thead>\n",
              "    <tr style=\"text-align: right;\">\n",
              "      <th></th>\n",
              "      <th>Company</th>\n",
              "      <th>TypeName</th>\n",
              "      <th>Ram</th>\n",
              "      <th>OpSys</th>\n",
              "      <th>Weight</th>\n",
              "      <th>Price</th>\n",
              "      <th>Touchscreen</th>\n",
              "      <th>IPS_panel</th>\n",
              "      <th>SSD</th>\n",
              "      <th>HDD</th>\n",
              "      <th>Flash</th>\n",
              "      <th>Hybrid</th>\n",
              "      <th>Cpu_name</th>\n",
              "      <th>Gpu_brand</th>\n",
              "      <th>ppi</th>\n",
              "    </tr>\n",
              "  </thead>\n",
              "  <tbody>\n",
              "    <tr>\n",
              "      <th>0</th>\n",
              "      <td>Apple</td>\n",
              "      <td>Ultrabook</td>\n",
              "      <td>8</td>\n",
              "      <td>Mac</td>\n",
              "      <td>1.37</td>\n",
              "      <td>71378.6832</td>\n",
              "      <td>0</td>\n",
              "      <td>1</td>\n",
              "      <td>128</td>\n",
              "      <td>0</td>\n",
              "      <td>0</td>\n",
              "      <td>0</td>\n",
              "      <td>Intel Core i5</td>\n",
              "      <td>Intel</td>\n",
              "      <td>226.983005</td>\n",
              "    </tr>\n",
              "    <tr>\n",
              "      <th>1</th>\n",
              "      <td>Apple</td>\n",
              "      <td>Ultrabook</td>\n",
              "      <td>8</td>\n",
              "      <td>Mac</td>\n",
              "      <td>1.34</td>\n",
              "      <td>47895.5232</td>\n",
              "      <td>0</td>\n",
              "      <td>0</td>\n",
              "      <td>0</td>\n",
              "      <td>0</td>\n",
              "      <td>128</td>\n",
              "      <td>0</td>\n",
              "      <td>Intel Core i5</td>\n",
              "      <td>Intel</td>\n",
              "      <td>127.677940</td>\n",
              "    </tr>\n",
              "    <tr>\n",
              "      <th>2</th>\n",
              "      <td>HP</td>\n",
              "      <td>Notebook</td>\n",
              "      <td>8</td>\n",
              "      <td>Others/No OS/Linux</td>\n",
              "      <td>1.86</td>\n",
              "      <td>30636.0000</td>\n",
              "      <td>0</td>\n",
              "      <td>0</td>\n",
              "      <td>256</td>\n",
              "      <td>0</td>\n",
              "      <td>0</td>\n",
              "      <td>0</td>\n",
              "      <td>Intel Core i5</td>\n",
              "      <td>Intel</td>\n",
              "      <td>141.211998</td>\n",
              "    </tr>\n",
              "    <tr>\n",
              "      <th>3</th>\n",
              "      <td>Apple</td>\n",
              "      <td>Ultrabook</td>\n",
              "      <td>16</td>\n",
              "      <td>Mac</td>\n",
              "      <td>1.83</td>\n",
              "      <td>135195.3360</td>\n",
              "      <td>0</td>\n",
              "      <td>1</td>\n",
              "      <td>512</td>\n",
              "      <td>0</td>\n",
              "      <td>0</td>\n",
              "      <td>0</td>\n",
              "      <td>Intel Core i7</td>\n",
              "      <td>AMD</td>\n",
              "      <td>220.534624</td>\n",
              "    </tr>\n",
              "    <tr>\n",
              "      <th>4</th>\n",
              "      <td>Apple</td>\n",
              "      <td>Ultrabook</td>\n",
              "      <td>8</td>\n",
              "      <td>Mac</td>\n",
              "      <td>1.37</td>\n",
              "      <td>96095.8080</td>\n",
              "      <td>0</td>\n",
              "      <td>1</td>\n",
              "      <td>256</td>\n",
              "      <td>0</td>\n",
              "      <td>0</td>\n",
              "      <td>0</td>\n",
              "      <td>Intel Core i5</td>\n",
              "      <td>Intel</td>\n",
              "      <td>226.983005</td>\n",
              "    </tr>\n",
              "  </tbody>\n",
              "</table>\n",
              "</div>\n",
              "      <button class=\"colab-df-convert\" onclick=\"convertToInteractive('df-1de4a816-ab6b-4d34-869c-b153ef67c642')\"\n",
              "              title=\"Convert this dataframe to an interactive table.\"\n",
              "              style=\"display:none;\">\n",
              "        \n",
              "  <svg xmlns=\"http://www.w3.org/2000/svg\" height=\"24px\"viewBox=\"0 0 24 24\"\n",
              "       width=\"24px\">\n",
              "    <path d=\"M0 0h24v24H0V0z\" fill=\"none\"/>\n",
              "    <path d=\"M18.56 5.44l.94 2.06.94-2.06 2.06-.94-2.06-.94-.94-2.06-.94 2.06-2.06.94zm-11 1L8.5 8.5l.94-2.06 2.06-.94-2.06-.94L8.5 2.5l-.94 2.06-2.06.94zm10 10l.94 2.06.94-2.06 2.06-.94-2.06-.94-.94-2.06-.94 2.06-2.06.94z\"/><path d=\"M17.41 7.96l-1.37-1.37c-.4-.4-.92-.59-1.43-.59-.52 0-1.04.2-1.43.59L10.3 9.45l-7.72 7.72c-.78.78-.78 2.05 0 2.83L4 21.41c.39.39.9.59 1.41.59.51 0 1.02-.2 1.41-.59l7.78-7.78 2.81-2.81c.8-.78.8-2.07 0-2.86zM5.41 20L4 18.59l7.72-7.72 1.47 1.35L5.41 20z\"/>\n",
              "  </svg>\n",
              "      </button>\n",
              "      \n",
              "  <style>\n",
              "    .colab-df-container {\n",
              "      display:flex;\n",
              "      flex-wrap:wrap;\n",
              "      gap: 12px;\n",
              "    }\n",
              "\n",
              "    .colab-df-convert {\n",
              "      background-color: #E8F0FE;\n",
              "      border: none;\n",
              "      border-radius: 50%;\n",
              "      cursor: pointer;\n",
              "      display: none;\n",
              "      fill: #1967D2;\n",
              "      height: 32px;\n",
              "      padding: 0 0 0 0;\n",
              "      width: 32px;\n",
              "    }\n",
              "\n",
              "    .colab-df-convert:hover {\n",
              "      background-color: #E2EBFA;\n",
              "      box-shadow: 0px 1px 2px rgba(60, 64, 67, 0.3), 0px 1px 3px 1px rgba(60, 64, 67, 0.15);\n",
              "      fill: #174EA6;\n",
              "    }\n",
              "\n",
              "    [theme=dark] .colab-df-convert {\n",
              "      background-color: #3B4455;\n",
              "      fill: #D2E3FC;\n",
              "    }\n",
              "\n",
              "    [theme=dark] .colab-df-convert:hover {\n",
              "      background-color: #434B5C;\n",
              "      box-shadow: 0px 1px 3px 1px rgba(0, 0, 0, 0.15);\n",
              "      filter: drop-shadow(0px 1px 2px rgba(0, 0, 0, 0.3));\n",
              "      fill: #FFFFFF;\n",
              "    }\n",
              "  </style>\n",
              "\n",
              "      <script>\n",
              "        const buttonEl =\n",
              "          document.querySelector('#df-1de4a816-ab6b-4d34-869c-b153ef67c642 button.colab-df-convert');\n",
              "        buttonEl.style.display =\n",
              "          google.colab.kernel.accessAllowed ? 'block' : 'none';\n",
              "\n",
              "        async function convertToInteractive(key) {\n",
              "          const element = document.querySelector('#df-1de4a816-ab6b-4d34-869c-b153ef67c642');\n",
              "          const dataTable =\n",
              "            await google.colab.kernel.invokeFunction('convertToInteractive',\n",
              "                                                     [key], {});\n",
              "          if (!dataTable) return;\n",
              "\n",
              "          const docLinkHtml = 'Like what you see? Visit the ' +\n",
              "            '<a target=\"_blank\" href=https://colab.research.google.com/notebooks/data_table.ipynb>data table notebook</a>'\n",
              "            + ' to learn more about interactive tables.';\n",
              "          element.innerHTML = '';\n",
              "          dataTable['output_type'] = 'display_data';\n",
              "          await google.colab.output.renderOutput(dataTable, element);\n",
              "          const docLink = document.createElement('div');\n",
              "          docLink.innerHTML = docLinkHtml;\n",
              "          element.appendChild(docLink);\n",
              "        }\n",
              "      </script>\n",
              "    </div>\n",
              "  </div>\n",
              "  "
            ]
          },
          "metadata": {},
          "execution_count": 307
        }
      ]
    },
    {
      "cell_type": "markdown",
      "source": [
        "### EDA"
      ],
      "metadata": {
        "id": "T6Vm5Gqa_AYw"
      }
    },
    {
      "cell_type": "code",
      "source": [
        "data.isnull().sum()"
      ],
      "metadata": {
        "colab": {
          "base_uri": "https://localhost:8080/"
        },
        "id": "kSsL0_sZ_FwN",
        "outputId": "a793a41c-2b99-49b4-8cb5-dcb9607262f6"
      },
      "execution_count": 296,
      "outputs": [
        {
          "output_type": "execute_result",
          "data": {
            "text/plain": [
              "Company        0\n",
              "TypeName       0\n",
              "Ram            0\n",
              "OpSys          0\n",
              "Weight         0\n",
              "Price          0\n",
              "Touchscreen    0\n",
              "IPS_panel      0\n",
              "SSD            0\n",
              "HDD            0\n",
              "Flash          0\n",
              "Hybrid         0\n",
              "Cpu_name       0\n",
              "Gpu_brand      0\n",
              "ppi            0\n",
              "dtype: int64"
            ]
          },
          "metadata": {},
          "execution_count": 296
        }
      ]
    },
    {
      "cell_type": "code",
      "source": [
        "data.info()"
      ],
      "metadata": {
        "colab": {
          "base_uri": "https://localhost:8080/"
        },
        "id": "SMExoHSt__IF",
        "outputId": "604aecf6-79c2-4a23-8a72-774b9f8619ea"
      },
      "execution_count": 308,
      "outputs": [
        {
          "output_type": "stream",
          "name": "stdout",
          "text": [
            "<class 'pandas.core.frame.DataFrame'>\n",
            "RangeIndex: 1303 entries, 0 to 1302\n",
            "Data columns (total 15 columns):\n",
            " #   Column       Non-Null Count  Dtype  \n",
            "---  ------       --------------  -----  \n",
            " 0   Company      1303 non-null   object \n",
            " 1   TypeName     1303 non-null   object \n",
            " 2   Ram          1303 non-null   object \n",
            " 3   OpSys        1303 non-null   object \n",
            " 4   Weight       1303 non-null   float64\n",
            " 5   Price        1303 non-null   float64\n",
            " 6   Touchscreen  1303 non-null   int64  \n",
            " 7   IPS_panel    1303 non-null   int64  \n",
            " 8   SSD          1303 non-null   int64  \n",
            " 9   HDD          1303 non-null   int64  \n",
            " 10  Flash        1303 non-null   int64  \n",
            " 11  Hybrid       1303 non-null   int64  \n",
            " 12  Cpu_name     1303 non-null   object \n",
            " 13  Gpu_brand    1303 non-null   object \n",
            " 14  ppi          1303 non-null   float64\n",
            "dtypes: float64(3), int64(6), object(6)\n",
            "memory usage: 152.8+ KB\n"
          ]
        }
      ]
    },
    {
      "cell_type": "code",
      "source": [
        "data.describe(include=['object','int64','float64'])"
      ],
      "metadata": {
        "colab": {
          "base_uri": "https://localhost:8080/",
          "height": 394
        },
        "id": "_-4MJh2y_Pqi",
        "outputId": "12dcf4fc-3cca-4647-de82-8e7d415c5a5b"
      },
      "execution_count": 310,
      "outputs": [
        {
          "output_type": "execute_result",
          "data": {
            "text/plain": [
              "       Company  TypeName   Ram    OpSys       Weight          Price  \\\n",
              "count     1303      1303  1303     1303  1303.000000    1303.000000   \n",
              "unique      19         6     9        3          NaN            NaN   \n",
              "top       Dell  Notebook     8  Windows          NaN            NaN   \n",
              "freq       297       727   619     1125          NaN            NaN   \n",
              "mean       NaN       NaN   NaN      NaN     2.038734   59870.042910   \n",
              "std        NaN       NaN   NaN      NaN     0.665475   37243.201786   \n",
              "min        NaN       NaN   NaN      NaN     0.690000    9270.720000   \n",
              "25%        NaN       NaN   NaN      NaN     1.500000   31914.720000   \n",
              "50%        NaN       NaN   NaN      NaN     2.040000   52054.560000   \n",
              "75%        NaN       NaN   NaN      NaN     2.300000   79274.246400   \n",
              "max        NaN       NaN   NaN      NaN     4.700000  324954.720000   \n",
              "\n",
              "        Touchscreen    IPS_panel          SSD          HDD        Flash  \\\n",
              "count   1303.000000  1303.000000  1303.000000  1303.000000  1303.000000   \n",
              "unique          NaN          NaN          NaN          NaN          NaN   \n",
              "top             NaN          NaN          NaN          NaN          NaN   \n",
              "freq            NaN          NaN          NaN          NaN          NaN   \n",
              "mean       0.147352     0.280123   183.045280   421.691481     4.555641   \n",
              "std        0.354593     0.449231   186.140451   526.344470    30.274090   \n",
              "min        0.000000     0.000000     0.000000     0.000000     0.000000   \n",
              "25%        0.000000     0.000000     0.000000     0.000000     0.000000   \n",
              "50%        0.000000     0.000000   256.000000     0.000000     0.000000   \n",
              "75%        0.000000     1.000000   256.000000  1024.000000     0.000000   \n",
              "max        1.000000     1.000000  1024.000000  2048.000000   512.000000   \n",
              "\n",
              "             Hybrid       Cpu_name Gpu_brand          ppi  \n",
              "count   1303.000000           1303      1303  1303.000000  \n",
              "unique          NaN              9         4          NaN  \n",
              "top             NaN  Intel Core i7     Intel          NaN  \n",
              "freq            NaN            527       722          NaN  \n",
              "mean       9.034536            NaN       NaN   141.690750  \n",
              "std       94.738890            NaN       NaN    33.103028  \n",
              "min        0.000000            NaN       NaN    90.583402  \n",
              "25%        0.000000            NaN       NaN   127.335675  \n",
              "50%        0.000000            NaN       NaN   141.211998  \n",
              "75%        0.000000            NaN       NaN   157.350512  \n",
              "max     1024.000000            NaN       NaN   276.053530  "
            ],
            "text/html": [
              "\n",
              "  <div id=\"df-8b9b8851-6d6b-45e7-a1c5-6e1354f18576\">\n",
              "    <div class=\"colab-df-container\">\n",
              "      <div>\n",
              "<style scoped>\n",
              "    .dataframe tbody tr th:only-of-type {\n",
              "        vertical-align: middle;\n",
              "    }\n",
              "\n",
              "    .dataframe tbody tr th {\n",
              "        vertical-align: top;\n",
              "    }\n",
              "\n",
              "    .dataframe thead th {\n",
              "        text-align: right;\n",
              "    }\n",
              "</style>\n",
              "<table border=\"1\" class=\"dataframe\">\n",
              "  <thead>\n",
              "    <tr style=\"text-align: right;\">\n",
              "      <th></th>\n",
              "      <th>Company</th>\n",
              "      <th>TypeName</th>\n",
              "      <th>Ram</th>\n",
              "      <th>OpSys</th>\n",
              "      <th>Weight</th>\n",
              "      <th>Price</th>\n",
              "      <th>Touchscreen</th>\n",
              "      <th>IPS_panel</th>\n",
              "      <th>SSD</th>\n",
              "      <th>HDD</th>\n",
              "      <th>Flash</th>\n",
              "      <th>Hybrid</th>\n",
              "      <th>Cpu_name</th>\n",
              "      <th>Gpu_brand</th>\n",
              "      <th>ppi</th>\n",
              "    </tr>\n",
              "  </thead>\n",
              "  <tbody>\n",
              "    <tr>\n",
              "      <th>count</th>\n",
              "      <td>1303</td>\n",
              "      <td>1303</td>\n",
              "      <td>1303</td>\n",
              "      <td>1303</td>\n",
              "      <td>1303.000000</td>\n",
              "      <td>1303.000000</td>\n",
              "      <td>1303.000000</td>\n",
              "      <td>1303.000000</td>\n",
              "      <td>1303.000000</td>\n",
              "      <td>1303.000000</td>\n",
              "      <td>1303.000000</td>\n",
              "      <td>1303.000000</td>\n",
              "      <td>1303</td>\n",
              "      <td>1303</td>\n",
              "      <td>1303.000000</td>\n",
              "    </tr>\n",
              "    <tr>\n",
              "      <th>unique</th>\n",
              "      <td>19</td>\n",
              "      <td>6</td>\n",
              "      <td>9</td>\n",
              "      <td>3</td>\n",
              "      <td>NaN</td>\n",
              "      <td>NaN</td>\n",
              "      <td>NaN</td>\n",
              "      <td>NaN</td>\n",
              "      <td>NaN</td>\n",
              "      <td>NaN</td>\n",
              "      <td>NaN</td>\n",
              "      <td>NaN</td>\n",
              "      <td>9</td>\n",
              "      <td>4</td>\n",
              "      <td>NaN</td>\n",
              "    </tr>\n",
              "    <tr>\n",
              "      <th>top</th>\n",
              "      <td>Dell</td>\n",
              "      <td>Notebook</td>\n",
              "      <td>8</td>\n",
              "      <td>Windows</td>\n",
              "      <td>NaN</td>\n",
              "      <td>NaN</td>\n",
              "      <td>NaN</td>\n",
              "      <td>NaN</td>\n",
              "      <td>NaN</td>\n",
              "      <td>NaN</td>\n",
              "      <td>NaN</td>\n",
              "      <td>NaN</td>\n",
              "      <td>Intel Core i7</td>\n",
              "      <td>Intel</td>\n",
              "      <td>NaN</td>\n",
              "    </tr>\n",
              "    <tr>\n",
              "      <th>freq</th>\n",
              "      <td>297</td>\n",
              "      <td>727</td>\n",
              "      <td>619</td>\n",
              "      <td>1125</td>\n",
              "      <td>NaN</td>\n",
              "      <td>NaN</td>\n",
              "      <td>NaN</td>\n",
              "      <td>NaN</td>\n",
              "      <td>NaN</td>\n",
              "      <td>NaN</td>\n",
              "      <td>NaN</td>\n",
              "      <td>NaN</td>\n",
              "      <td>527</td>\n",
              "      <td>722</td>\n",
              "      <td>NaN</td>\n",
              "    </tr>\n",
              "    <tr>\n",
              "      <th>mean</th>\n",
              "      <td>NaN</td>\n",
              "      <td>NaN</td>\n",
              "      <td>NaN</td>\n",
              "      <td>NaN</td>\n",
              "      <td>2.038734</td>\n",
              "      <td>59870.042910</td>\n",
              "      <td>0.147352</td>\n",
              "      <td>0.280123</td>\n",
              "      <td>183.045280</td>\n",
              "      <td>421.691481</td>\n",
              "      <td>4.555641</td>\n",
              "      <td>9.034536</td>\n",
              "      <td>NaN</td>\n",
              "      <td>NaN</td>\n",
              "      <td>141.690750</td>\n",
              "    </tr>\n",
              "    <tr>\n",
              "      <th>std</th>\n",
              "      <td>NaN</td>\n",
              "      <td>NaN</td>\n",
              "      <td>NaN</td>\n",
              "      <td>NaN</td>\n",
              "      <td>0.665475</td>\n",
              "      <td>37243.201786</td>\n",
              "      <td>0.354593</td>\n",
              "      <td>0.449231</td>\n",
              "      <td>186.140451</td>\n",
              "      <td>526.344470</td>\n",
              "      <td>30.274090</td>\n",
              "      <td>94.738890</td>\n",
              "      <td>NaN</td>\n",
              "      <td>NaN</td>\n",
              "      <td>33.103028</td>\n",
              "    </tr>\n",
              "    <tr>\n",
              "      <th>min</th>\n",
              "      <td>NaN</td>\n",
              "      <td>NaN</td>\n",
              "      <td>NaN</td>\n",
              "      <td>NaN</td>\n",
              "      <td>0.690000</td>\n",
              "      <td>9270.720000</td>\n",
              "      <td>0.000000</td>\n",
              "      <td>0.000000</td>\n",
              "      <td>0.000000</td>\n",
              "      <td>0.000000</td>\n",
              "      <td>0.000000</td>\n",
              "      <td>0.000000</td>\n",
              "      <td>NaN</td>\n",
              "      <td>NaN</td>\n",
              "      <td>90.583402</td>\n",
              "    </tr>\n",
              "    <tr>\n",
              "      <th>25%</th>\n",
              "      <td>NaN</td>\n",
              "      <td>NaN</td>\n",
              "      <td>NaN</td>\n",
              "      <td>NaN</td>\n",
              "      <td>1.500000</td>\n",
              "      <td>31914.720000</td>\n",
              "      <td>0.000000</td>\n",
              "      <td>0.000000</td>\n",
              "      <td>0.000000</td>\n",
              "      <td>0.000000</td>\n",
              "      <td>0.000000</td>\n",
              "      <td>0.000000</td>\n",
              "      <td>NaN</td>\n",
              "      <td>NaN</td>\n",
              "      <td>127.335675</td>\n",
              "    </tr>\n",
              "    <tr>\n",
              "      <th>50%</th>\n",
              "      <td>NaN</td>\n",
              "      <td>NaN</td>\n",
              "      <td>NaN</td>\n",
              "      <td>NaN</td>\n",
              "      <td>2.040000</td>\n",
              "      <td>52054.560000</td>\n",
              "      <td>0.000000</td>\n",
              "      <td>0.000000</td>\n",
              "      <td>256.000000</td>\n",
              "      <td>0.000000</td>\n",
              "      <td>0.000000</td>\n",
              "      <td>0.000000</td>\n",
              "      <td>NaN</td>\n",
              "      <td>NaN</td>\n",
              "      <td>141.211998</td>\n",
              "    </tr>\n",
              "    <tr>\n",
              "      <th>75%</th>\n",
              "      <td>NaN</td>\n",
              "      <td>NaN</td>\n",
              "      <td>NaN</td>\n",
              "      <td>NaN</td>\n",
              "      <td>2.300000</td>\n",
              "      <td>79274.246400</td>\n",
              "      <td>0.000000</td>\n",
              "      <td>1.000000</td>\n",
              "      <td>256.000000</td>\n",
              "      <td>1024.000000</td>\n",
              "      <td>0.000000</td>\n",
              "      <td>0.000000</td>\n",
              "      <td>NaN</td>\n",
              "      <td>NaN</td>\n",
              "      <td>157.350512</td>\n",
              "    </tr>\n",
              "    <tr>\n",
              "      <th>max</th>\n",
              "      <td>NaN</td>\n",
              "      <td>NaN</td>\n",
              "      <td>NaN</td>\n",
              "      <td>NaN</td>\n",
              "      <td>4.700000</td>\n",
              "      <td>324954.720000</td>\n",
              "      <td>1.000000</td>\n",
              "      <td>1.000000</td>\n",
              "      <td>1024.000000</td>\n",
              "      <td>2048.000000</td>\n",
              "      <td>512.000000</td>\n",
              "      <td>1024.000000</td>\n",
              "      <td>NaN</td>\n",
              "      <td>NaN</td>\n",
              "      <td>276.053530</td>\n",
              "    </tr>\n",
              "  </tbody>\n",
              "</table>\n",
              "</div>\n",
              "      <button class=\"colab-df-convert\" onclick=\"convertToInteractive('df-8b9b8851-6d6b-45e7-a1c5-6e1354f18576')\"\n",
              "              title=\"Convert this dataframe to an interactive table.\"\n",
              "              style=\"display:none;\">\n",
              "        \n",
              "  <svg xmlns=\"http://www.w3.org/2000/svg\" height=\"24px\"viewBox=\"0 0 24 24\"\n",
              "       width=\"24px\">\n",
              "    <path d=\"M0 0h24v24H0V0z\" fill=\"none\"/>\n",
              "    <path d=\"M18.56 5.44l.94 2.06.94-2.06 2.06-.94-2.06-.94-.94-2.06-.94 2.06-2.06.94zm-11 1L8.5 8.5l.94-2.06 2.06-.94-2.06-.94L8.5 2.5l-.94 2.06-2.06.94zm10 10l.94 2.06.94-2.06 2.06-.94-2.06-.94-.94-2.06-.94 2.06-2.06.94z\"/><path d=\"M17.41 7.96l-1.37-1.37c-.4-.4-.92-.59-1.43-.59-.52 0-1.04.2-1.43.59L10.3 9.45l-7.72 7.72c-.78.78-.78 2.05 0 2.83L4 21.41c.39.39.9.59 1.41.59.51 0 1.02-.2 1.41-.59l7.78-7.78 2.81-2.81c.8-.78.8-2.07 0-2.86zM5.41 20L4 18.59l7.72-7.72 1.47 1.35L5.41 20z\"/>\n",
              "  </svg>\n",
              "      </button>\n",
              "      \n",
              "  <style>\n",
              "    .colab-df-container {\n",
              "      display:flex;\n",
              "      flex-wrap:wrap;\n",
              "      gap: 12px;\n",
              "    }\n",
              "\n",
              "    .colab-df-convert {\n",
              "      background-color: #E8F0FE;\n",
              "      border: none;\n",
              "      border-radius: 50%;\n",
              "      cursor: pointer;\n",
              "      display: none;\n",
              "      fill: #1967D2;\n",
              "      height: 32px;\n",
              "      padding: 0 0 0 0;\n",
              "      width: 32px;\n",
              "    }\n",
              "\n",
              "    .colab-df-convert:hover {\n",
              "      background-color: #E2EBFA;\n",
              "      box-shadow: 0px 1px 2px rgba(60, 64, 67, 0.3), 0px 1px 3px 1px rgba(60, 64, 67, 0.15);\n",
              "      fill: #174EA6;\n",
              "    }\n",
              "\n",
              "    [theme=dark] .colab-df-convert {\n",
              "      background-color: #3B4455;\n",
              "      fill: #D2E3FC;\n",
              "    }\n",
              "\n",
              "    [theme=dark] .colab-df-convert:hover {\n",
              "      background-color: #434B5C;\n",
              "      box-shadow: 0px 1px 3px 1px rgba(0, 0, 0, 0.15);\n",
              "      filter: drop-shadow(0px 1px 2px rgba(0, 0, 0, 0.3));\n",
              "      fill: #FFFFFF;\n",
              "    }\n",
              "  </style>\n",
              "\n",
              "      <script>\n",
              "        const buttonEl =\n",
              "          document.querySelector('#df-8b9b8851-6d6b-45e7-a1c5-6e1354f18576 button.colab-df-convert');\n",
              "        buttonEl.style.display =\n",
              "          google.colab.kernel.accessAllowed ? 'block' : 'none';\n",
              "\n",
              "        async function convertToInteractive(key) {\n",
              "          const element = document.querySelector('#df-8b9b8851-6d6b-45e7-a1c5-6e1354f18576');\n",
              "          const dataTable =\n",
              "            await google.colab.kernel.invokeFunction('convertToInteractive',\n",
              "                                                     [key], {});\n",
              "          if (!dataTable) return;\n",
              "\n",
              "          const docLinkHtml = 'Like what you see? Visit the ' +\n",
              "            '<a target=\"_blank\" href=https://colab.research.google.com/notebooks/data_table.ipynb>data table notebook</a>'\n",
              "            + ' to learn more about interactive tables.';\n",
              "          element.innerHTML = '';\n",
              "          dataTable['output_type'] = 'display_data';\n",
              "          await google.colab.output.renderOutput(dataTable, element);\n",
              "          const docLink = document.createElement('div');\n",
              "          docLink.innerHTML = docLinkHtml;\n",
              "          element.appendChild(docLink);\n",
              "        }\n",
              "      </script>\n",
              "    </div>\n",
              "  </div>\n",
              "  "
            ]
          },
          "metadata": {},
          "execution_count": 310
        }
      ]
    },
    {
      "cell_type": "code",
      "source": [
        "fig = plt.subplots(figsize=(16,10))\n",
        "sns.distplot(data['Price'], kde=True)\n",
        "sns.histplot(data=df,x=\"ppi\",ax=axes[0,1])\n",
        "sns.histplot(data=df,x=\"Weight\",ax=axes[0,2])\n",
        "sns.distplot(data['SSD'], kde=True,ax=axes[0,3])\n",
        "sns.countplot('Company',data=df,ax=axes[1,2])\n",
        "sns.countplot('TypeName',data=df,ax=axes[1,3])\n",
        "sns.countplot('Ram',data=df,ax=axes[0,4])\n",
        "sns.countplot('Touchscreen',data=df,ax=axes[1,4])\n",
        "sns.countplot('IPS_panel',data=df,ax=axes[0,5])\n",
        "sns.countplot('Cpu_name',data=df,ax=axes[1,5])\n",
        "plt.xticks(rotation='vertical')\n",
        "plt.show()\n"
      ],
      "metadata": {
        "id": "zEqKI7tyAy9z"
      },
      "execution_count": null,
      "outputs": []
    },
    {
      "cell_type": "code",
      "source": [
        "fig,axes = plt.subplots(2,2, figsize=(16,10))\n",
        "sns.distplot(data['Price'], kde=True,ax=axes[0,0])\n",
        "sns.distplot(data['ppi'], kde=True,ax=axes[0,1])\n",
        "sns.distplot(data['Weight'], kde=True,ax=axes[1,0])\n",
        "sns.distplot(data['Ram'], kde=True,ax=axes[1,1])\n",
        "plt.xticks(rotation='vertical')\n",
        "plt.show()"
      ],
      "metadata": {
        "colab": {
          "base_uri": "https://localhost:8080/",
          "height": 619
        },
        "id": "DVUjEDV8DkVA",
        "outputId": "62294ec9-0359-453f-a21f-2ffb1f7da0cb"
      },
      "execution_count": 384,
      "outputs": [
        {
          "output_type": "display_data",
          "data": {
            "text/plain": [
              "<Figure size 1152x720 with 4 Axes>"
            ],
            "image/png": "[encoded data removed]"
          },
          "metadata": {
            "needs_background": "light"
          }
        }
      ]
    },
    {
      "cell_type": "code",
      "source": [
        "fig,axes = plt.subplots(2,2, figsize=(16,10))\n",
        "sns.countplot('Ram',data=data,ax=axes[0,0])\n",
        "sns.countplot('Touchscreen',data=data,ax=axes[0,1])\n",
        "sns.countplot('IPS_panel',data=data,ax=axes[1,0])\n",
        "sns.countplot('Cpu_name',data=data,ax=axes[1,1])\n",
        "plt.xticks(rotation='vertical')\n",
        "plt.show()"
      ],
      "metadata": {
        "colab": {
          "base_uri": "https://localhost:8080/",
          "height": 677
        },
        "id": "gGUR6UdVDqJu",
        "outputId": "e2351433-8437-4095-9e67-6dd2d73b8702"
      },
      "execution_count": 326,
      "outputs": [
        {
          "output_type": "display_data",
          "data": {
            "text/plain": [
              "<Figure size 1152x720 with 4 Axes>"
            ],
            "image/png": "[encoded data removed]"
          },
          "metadata": {
            "needs_background": "light"
          }
        }
      ]
    },
    {
      "cell_type": "code",
      "source": [
        "fig,axes = plt.subplots(2,2, figsize=(25,15))\n",
        "sns.barplot(x=data['Company'],y=data['Price'],ax=axes[0,0])\n",
        "sns.barplot(x=data['TypeName'],y=data['Price'],ax=axes[0,1])\n",
        "sns.barplot(x=data['OpSys'],y=data['Price'],ax=axes[1,0])\n",
        "sns.barplot(x=data['Ram'],y=data['Price'],ax=axes[1,1])\n",
        "plt.xticks(rotation='vertical')\n",
        "plt.show()"
      ],
      "metadata": {
        "colab": {
          "base_uri": "https://localhost:8080/",
          "height": 880
        },
        "id": "NKsM-rAFEBO9",
        "outputId": "d5ecaf37-db69-4cac-9d12-b274ad9d26ae"
      },
      "execution_count": 338,
      "outputs": [
        {
          "output_type": "display_data",
          "data": {
            "text/plain": [
              "<Figure size 1800x1080 with 4 Axes>"
            ],
            "image/png": "[encoded data removed]"
          },
          "metadata": {
            "needs_background": "light"
          }
        }
      ]
    },
    {
      "cell_type": "code",
      "source": [
        "fig,axes = plt.subplots(2,2, figsize=(25,15))\n",
        "sns.barplot(x=data['Touchscreen'],y=data['Price'],ax=axes[0,0])\n",
        "sns.barplot(x=data['IPS_panel'],y=data['Price'],ax=axes[0,1])\n",
        "sns.barplot(x=data['Gpu_brand'],y=data['Price'],ax=axes[1,0])\n",
        "sns.barplot(x=data['Company'],y=data['Price'],ax=axes[1,1])\n",
        "plt.xticks(rotation='vertical')\n",
        "plt.show()"
      ],
      "metadata": {
        "colab": {
          "base_uri": "https://localhost:8080/",
          "height": 919
        },
        "id": "NbsOZcXZMN9b",
        "outputId": "a37f4702-f280-4ce7-cc5c-954460e00196"
      },
      "execution_count": 396,
      "outputs": [
        {
          "output_type": "display_data",
          "data": {
            "text/plain": [
              "<Figure size 1800x1080 with 4 Axes>"
            ],
            "image/png": "[encoded data removed]"
          },
          "metadata": {
            "needs_background": "light"
          }
        }
      ]
    },
    {
      "cell_type": "code",
      "source": [
        "fig,axes = plt.subplots(2,2, figsize=(16,10))\n",
        "sns.countplot('SSD',data=data,ax=axes[0,0])\n",
        "sns.countplot('HDD',data=data,ax=axes[0,1])\n",
        "sns.countplot('Flash',data=data,ax=axes[1,0])\n",
        "sns.countplot('Company',data=data,ax=axes[1,1])\n",
        "plt.xticks(rotation='vertical')\n",
        "plt.show()"
      ],
      "metadata": {
        "colab": {
          "base_uri": "https://localhost:8080/",
          "height": 647
        },
        "id": "A1YZQcldMuQ6",
        "outputId": "458a31f9-127a-4db2-e721-69e3e2c2b121"
      },
      "execution_count": 395,
      "outputs": [
        {
          "output_type": "display_data",
          "data": {
            "text/plain": [
              "<Figure size 1152x720 with 4 Axes>"
            ],
            "image/png": "[encoded data removed]"
          },
          "metadata": {
            "needs_background": "light"
          }
        }
      ]
    },
    {
      "cell_type": "code",
      "source": [
        "sns.jointplot(x = data[\"SSD\"],y = data[\"Price\"],data=data,kind='reg')\n",
        "sns.jointplot(x = data[\"Ram\"],y = data[\"Price\"],data=data,kind='reg')"
      ],
      "metadata": {
        "colab": {
          "base_uri": "https://localhost:8080/",
          "height": 882
        },
        "id": "B0-fv87zNJtO",
        "outputId": "099dfb83-95e8-47b4-eb5a-da39dccc1a1e"
      },
      "execution_count": 393,
      "outputs": [
        {
          "output_type": "execute_result",
          "data": {
            "text/plain": [
              "<seaborn.axisgrid.JointGrid at 0x7f0dc97a6400>"
            ]
          },
          "metadata": {},
          "execution_count": 393
        },
        {
          "output_type": "display_data",
          "data": {
            "text/plain": [
              "<Figure size 432x432 with 3 Axes>"
            ],
            "image/png": "[encoded data removed]"
          },
          "metadata": {
            "needs_background": "light"
          }
        },
        {
          "output_type": "display_data",
          "data": {
            "text/plain": [
              "<Figure size 432x432 with 3 Axes>"
            ],
            "image/png": "[encoded data removed]"
          },
          "metadata": {
            "needs_background": "light"
          }
        }
      ]
    },
    {
      "cell_type": "code",
      "source": [
        "sns.heatmap(abs(data.corr()))"
      ],
      "metadata": {
        "colab": {
          "base_uri": "https://localhost:8080/",
          "height": 338
        },
        "id": "00qSL8JwPglz",
        "outputId": "4c0eb196-5996-4ac9-bd72-8e5d81a60045"
      },
      "execution_count": 398,
      "outputs": [
        {
          "output_type": "execute_result",
          "data": {
            "text/plain": [
              "<matplotlib.axes._subplots.AxesSubplot at 0x7f0dcc5f9d30>"
            ]
          },
          "metadata": {},
          "execution_count": 398
        },
        {
          "output_type": "display_data",
          "data": {
            "text/plain": [
              "<Figure size 432x288 with 2 Axes>"
            ],
            "image/png": "[encoded data removed]"
          },
          "metadata": {
            "needs_background": "light"
          }
        }
      ]
    },
    {
      "cell_type": "code",
      "source": [
        "data.head()"
      ],
      "metadata": {
        "colab": {
          "base_uri": "https://localhost:8080/",
          "height": 206
        },
        "id": "RqjqWFETQSdh",
        "outputId": "5580e8ee-a0ad-44ff-9b5e-2dfb6302bfaa"
      },
      "execution_count": 399,
      "outputs": [
        {
          "output_type": "execute_result",
          "data": {
            "text/plain": [
              "  Company   TypeName  Ram               OpSys  Weight        Price  \\\n",
              "0   Apple  Ultrabook    8                 Mac    1.37   71378.6832   \n",
              "1   Apple  Ultrabook    8                 Mac    1.34   47895.5232   \n",
              "2      HP   Notebook    8  Others/No OS/Linux    1.86   30636.0000   \n",
              "3   Apple  Ultrabook   16                 Mac    1.83  135195.3360   \n",
              "4   Apple  Ultrabook    8                 Mac    1.37   96095.8080   \n",
              "\n",
              "   Touchscreen  IPS_panel  SSD  HDD  Flash  Hybrid       Cpu_name Gpu_brand  \\\n",
              "0            0          1  128    0      0       0  Intel Core i5     Intel   \n",
              "1            0          0    0    0    128       0  Intel Core i5     Intel   \n",
              "2            0          0  256    0      0       0  Intel Core i5     Intel   \n",
              "3            0          1  512    0      0       0  Intel Core i7       AMD   \n",
              "4            0          1  256    0      0       0  Intel Core i5     Intel   \n",
              "\n",
              "          ppi  \n",
              "0  226.983005  \n",
              "1  127.677940  \n",
              "2  141.211998  \n",
              "3  220.534624  \n",
              "4  226.983005  "
            ],
            "text/html": [
              "\n",
              "  <div id=\"df-75a106ec-4286-4b53-b39a-05cc1c802078\">\n",
              "    <div class=\"colab-df-container\">\n",
              "      <div>\n",
              "<style scoped>\n",
              "    .dataframe tbody tr th:only-of-type {\n",
              "        vertical-align: middle;\n",
              "    }\n",
              "\n",
              "    .dataframe tbody tr th {\n",
              "        vertical-align: top;\n",
              "    }\n",
              "\n",
              "    .dataframe thead th {\n",
              "        text-align: right;\n",
              "    }\n",
              "</style>\n",
              "<table border=\"1\" class=\"dataframe\">\n",
              "  <thead>\n",
              "    <tr style=\"text-align: right;\">\n",
              "      <th></th>\n",
              "      <th>Company</th>\n",
              "      <th>TypeName</th>\n",
              "      <th>Ram</th>\n",
              "      <th>OpSys</th>\n",
              "      <th>Weight</th>\n",
              "      <th>Price</th>\n",
              "      <th>Touchscreen</th>\n",
              "      <th>IPS_panel</th>\n",
              "      <th>SSD</th>\n",
              "      <th>HDD</th>\n",
              "      <th>Flash</th>\n",
              "      <th>Hybrid</th>\n",
              "      <th>Cpu_name</th>\n",
              "      <th>Gpu_brand</th>\n",
              "      <th>ppi</th>\n",
              "    </tr>\n",
              "  </thead>\n",
              "  <tbody>\n",
              "    <tr>\n",
              "      <th>0</th>\n",
              "      <td>Apple</td>\n",
              "      <td>Ultrabook</td>\n",
              "      <td>8</td>\n",
              "      <td>Mac</td>\n",
              "      <td>1.37</td>\n",
              "      <td>71378.6832</td>\n",
              "      <td>0</td>\n",
              "      <td>1</td>\n",
              "      <td>128</td>\n",
              "      <td>0</td>\n",
              "      <td>0</td>\n",
              "      <td>0</td>\n",
              "      <td>Intel Core i5</td>\n",
              "      <td>Intel</td>\n",
              "      <td>226.983005</td>\n",
              "    </tr>\n",
              "    <tr>\n",
              "      <th>1</th>\n",
              "      <td>Apple</td>\n",
              "      <td>Ultrabook</td>\n",
              "      <td>8</td>\n",
              "      <td>Mac</td>\n",
              "      <td>1.34</td>\n",
              "      <td>47895.5232</td>\n",
              "      <td>0</td>\n",
              "      <td>0</td>\n",
              "      <td>0</td>\n",
              "      <td>0</td>\n",
              "      <td>128</td>\n",
              "      <td>0</td>\n",
              "      <td>Intel Core i5</td>\n",
              "      <td>Intel</td>\n",
              "      <td>127.677940</td>\n",
              "    </tr>\n",
              "    <tr>\n",
              "      <th>2</th>\n",
              "      <td>HP</td>\n",
              "      <td>Notebook</td>\n",
              "      <td>8</td>\n",
              "      <td>Others/No OS/Linux</td>\n",
              "      <td>1.86</td>\n",
              "      <td>30636.0000</td>\n",
              "      <td>0</td>\n",
              "      <td>0</td>\n",
              "      <td>256</td>\n",
              "      <td>0</td>\n",
              "      <td>0</td>\n",
              "      <td>0</td>\n",
              "      <td>Intel Core i5</td>\n",
              "      <td>Intel</td>\n",
              "      <td>141.211998</td>\n",
              "    </tr>\n",
              "    <tr>\n",
              "      <th>3</th>\n",
              "      <td>Apple</td>\n",
              "      <td>Ultrabook</td>\n",
              "      <td>16</td>\n",
              "      <td>Mac</td>\n",
              "      <td>1.83</td>\n",
              "      <td>135195.3360</td>\n",
              "      <td>0</td>\n",
              "      <td>1</td>\n",
              "      <td>512</td>\n",
              "      <td>0</td>\n",
              "      <td>0</td>\n",
              "      <td>0</td>\n",
              "      <td>Intel Core i7</td>\n",
              "      <td>AMD</td>\n",
              "      <td>220.534624</td>\n",
              "    </tr>\n",
              "    <tr>\n",
              "      <th>4</th>\n",
              "      <td>Apple</td>\n",
              "      <td>Ultrabook</td>\n",
              "      <td>8</td>\n",
              "      <td>Mac</td>\n",
              "      <td>1.37</td>\n",
              "      <td>96095.8080</td>\n",
              "      <td>0</td>\n",
              "      <td>1</td>\n",
              "      <td>256</td>\n",
              "      <td>0</td>\n",
              "      <td>0</td>\n",
              "      <td>0</td>\n",
              "      <td>Intel Core i5</td>\n",
              "      <td>Intel</td>\n",
              "      <td>226.983005</td>\n",
              "    </tr>\n",
              "  </tbody>\n",
              "</table>\n",
              "</div>\n",
              "      <button class=\"colab-df-convert\" onclick=\"convertToInteractive('df-75a106ec-4286-4b53-b39a-05cc1c802078')\"\n",
              "              title=\"Convert this dataframe to an interactive table.\"\n",
              "              style=\"display:none;\">\n",
              "        \n",
              "  <svg xmlns=\"http://www.w3.org/2000/svg\" height=\"24px\"viewBox=\"0 0 24 24\"\n",
              "       width=\"24px\">\n",
              "    <path d=\"M0 0h24v24H0V0z\" fill=\"none\"/>\n",
              "    <path d=\"M18.56 5.44l.94 2.06.94-2.06 2.06-.94-2.06-.94-.94-2.06-.94 2.06-2.06.94zm-11 1L8.5 8.5l.94-2.06 2.06-.94-2.06-.94L8.5 2.5l-.94 2.06-2.06.94zm10 10l.94 2.06.94-2.06 2.06-.94-2.06-.94-.94-2.06-.94 2.06-2.06.94z\"/><path d=\"M17.41 7.96l-1.37-1.37c-.4-.4-.92-.59-1.43-.59-.52 0-1.04.2-1.43.59L10.3 9.45l-7.72 7.72c-.78.78-.78 2.05 0 2.83L4 21.41c.39.39.9.59 1.41.59.51 0 1.02-.2 1.41-.59l7.78-7.78 2.81-2.81c.8-.78.8-2.07 0-2.86zM5.41 20L4 18.59l7.72-7.72 1.47 1.35L5.41 20z\"/>\n",
              "  </svg>\n",
              "      </button>\n",
              "      \n",
              "  <style>\n",
              "    .colab-df-container {\n",
              "      display:flex;\n",
              "      flex-wrap:wrap;\n",
              "      gap: 12px;\n",
              "    }\n",
              "\n",
              "    .colab-df-convert {\n",
              "      background-color: #E8F0FE;\n",
              "      border: none;\n",
              "      border-radius: 50%;\n",
              "      cursor: pointer;\n",
              "      display: none;\n",
              "      fill: #1967D2;\n",
              "      height: 32px;\n",
              "      padding: 0 0 0 0;\n",
              "      width: 32px;\n",
              "    }\n",
              "\n",
              "    .colab-df-convert:hover {\n",
              "      background-color: #E2EBFA;\n",
              "      box-shadow: 0px 1px 2px rgba(60, 64, 67, 0.3), 0px 1px 3px 1px rgba(60, 64, 67, 0.15);\n",
              "      fill: #174EA6;\n",
              "    }\n",
              "\n",
              "    [theme=dark] .colab-df-convert {\n",
              "      background-color: #3B4455;\n",
              "      fill: #D2E3FC;\n",
              "    }\n",
              "\n",
              "    [theme=dark] .colab-df-convert:hover {\n",
              "      background-color: #434B5C;\n",
              "      box-shadow: 0px 1px 3px 1px rgba(0, 0, 0, 0.15);\n",
              "      filter: drop-shadow(0px 1px 2px rgba(0, 0, 0, 0.3));\n",
              "      fill: #FFFFFF;\n",
              "    }\n",
              "  </style>\n",
              "\n",
              "      <script>\n",
              "        const buttonEl =\n",
              "          document.querySelector('#df-75a106ec-4286-4b53-b39a-05cc1c802078 button.colab-df-convert');\n",
              "        buttonEl.style.display =\n",
              "          google.colab.kernel.accessAllowed ? 'block' : 'none';\n",
              "\n",
              "        async function convertToInteractive(key) {\n",
              "          const element = document.querySelector('#df-75a106ec-4286-4b53-b39a-05cc1c802078');\n",
              "          const dataTable =\n",
              "            await google.colab.kernel.invokeFunction('convertToInteractive',\n",
              "                                                     [key], {});\n",
              "          if (!dataTable) return;\n",
              "\n",
              "          const docLinkHtml = 'Like what you see? Visit the ' +\n",
              "            '<a target=\"_blank\" href=https://colab.research.google.com/notebooks/data_table.ipynb>data table notebook</a>'\n",
              "            + ' to learn more about interactive tables.';\n",
              "          element.innerHTML = '';\n",
              "          dataTable['output_type'] = 'display_data';\n",
              "          await google.colab.output.renderOutput(dataTable, element);\n",
              "          const docLink = document.createElement('div');\n",
              "          docLink.innerHTML = docLinkHtml;\n",
              "          element.appendChild(docLink);\n",
              "        }\n",
              "      </script>\n",
              "    </div>\n",
              "  </div>\n",
              "  "
            ]
          },
          "metadata": {},
          "execution_count": 399
        }
      ]
    },
    {
      "cell_type": "code",
      "source": [
        "# droping columns\n",
        "selected_features=['Company','TypeName','OpSys','Weight','Touchscreen','IPS_panel','SSD','HDD','Cpu_name','Gpu_brand','ppi']"
      ],
      "metadata": {
        "id": "uTv-bEz8YEJD"
      },
      "execution_count": 400,
      "outputs": []
    },
    {
      "cell_type": "code",
      "source": [
        "X=data[selected_features]\n",
        "y=np.log10(data['Price'])"
      ],
      "metadata": {
        "id": "Yi_zxhW0YkFJ"
      },
      "execution_count": 402,
      "outputs": []
    },
    {
      "cell_type": "code",
      "source": [
        "from sklearn.compose import ColumnTransformer\n",
        "from sklearn.pipeline import Pipeline\n",
        "from sklearn.preprocessing import OneHotEncoder\n",
        "from sklearn.metrics import r2_score,mean_absolute_error\n",
        "from sklearn.preprocessing import StandardScaler\n",
        "from sklearn.metrics import r2_score,mean_absolute_error"
      ],
      "metadata": {
        "id": "09KYmHtDYyJo"
      },
      "execution_count": 431,
      "outputs": []
    },
    {
      "cell_type": "code",
      "source": [
        "from sklearn.linear_model import LinearRegression,Ridge,Lasso\n",
        "from sklearn.neighbors import KNeighborsRegressor\n",
        "from sklearn.tree import DecisionTreeRegressor\n",
        "from sklearn.ensemble import RandomForestRegressor,GradientBoostingRegressor,AdaBoostRegressor,ExtraTreesRegressor\n",
        "from sklearn.svm import SVR\n",
        "from xgboost import XGBRegressor"
      ],
      "metadata": {
        "id": "njsstuE7Y4Zb"
      },
      "execution_count": 403,
      "outputs": []
    },
    {
      "cell_type": "code",
      "source": [
        "from sklearn.model_selection import train_test_split\n",
        "X_train,X_test,y_train,y_test = train_test_split(X,y,test_size=0.15,random_state=2)"
      ],
      "metadata": {
        "id": "IPE6wAZ9Zkff"
      },
      "execution_count": 514,
      "outputs": []
    },
    {
      "cell_type": "code",
      "source": [
        "X_train.head(1)"
      ],
      "metadata": {
        "colab": {
          "base_uri": "https://localhost:8080/",
          "height": 81
        },
        "id": "TFB0kCsTnRGK",
        "outputId": "88678037-55a1-4832-c15f-614eb9909b5b"
      },
      "execution_count": 515,
      "outputs": [
        {
          "output_type": "execute_result",
          "data": {
            "text/plain": [
              "     Company  TypeName    OpSys  Weight  Touchscreen  IPS_panel  SSD  HDD  \\\n",
              "183  Toshiba  Notebook  Windows     2.0            0          0  128    0   \n",
              "\n",
              "          Cpu_name Gpu_brand        ppi  \n",
              "183  Intel Core i5     Intel  100.45467  "
            ],
            "text/html": [
              "\n",
              "  <div id=\"df-315b7032-49ba-4374-9c1d-012b85cb4537\">\n",
              "    <div class=\"colab-df-container\">\n",
              "      <div>\n",
              "<style scoped>\n",
              "    .dataframe tbody tr th:only-of-type {\n",
              "        vertical-align: middle;\n",
              "    }\n",
              "\n",
              "    .dataframe tbody tr th {\n",
              "        vertical-align: top;\n",
              "    }\n",
              "\n",
              "    .dataframe thead th {\n",
              "        text-align: right;\n",
              "    }\n",
              "</style>\n",
              "<table border=\"1\" class=\"dataframe\">\n",
              "  <thead>\n",
              "    <tr style=\"text-align: right;\">\n",
              "      <th></th>\n",
              "      <th>Company</th>\n",
              "      <th>TypeName</th>\n",
              "      <th>OpSys</th>\n",
              "      <th>Weight</th>\n",
              "      <th>Touchscreen</th>\n",
              "      <th>IPS_panel</th>\n",
              "      <th>SSD</th>\n",
              "      <th>HDD</th>\n",
              "      <th>Cpu_name</th>\n",
              "      <th>Gpu_brand</th>\n",
              "      <th>ppi</th>\n",
              "    </tr>\n",
              "  </thead>\n",
              "  <tbody>\n",
              "    <tr>\n",
              "      <th>183</th>\n",
              "      <td>Toshiba</td>\n",
              "      <td>Notebook</td>\n",
              "      <td>Windows</td>\n",
              "      <td>2.0</td>\n",
              "      <td>0</td>\n",
              "      <td>0</td>\n",
              "      <td>128</td>\n",
              "      <td>0</td>\n",
              "      <td>Intel Core i5</td>\n",
              "      <td>Intel</td>\n",
              "      <td>100.45467</td>\n",
              "    </tr>\n",
              "  </tbody>\n",
              "</table>\n",
              "</div>\n",
              "      <button class=\"colab-df-convert\" onclick=\"convertToInteractive('df-315b7032-49ba-4374-9c1d-012b85cb4537')\"\n",
              "              title=\"Convert this dataframe to an interactive table.\"\n",
              "              style=\"display:none;\">\n",
              "        \n",
              "  <svg xmlns=\"http://www.w3.org/2000/svg\" height=\"24px\"viewBox=\"0 0 24 24\"\n",
              "       width=\"24px\">\n",
              "    <path d=\"M0 0h24v24H0V0z\" fill=\"none\"/>\n",
              "    <path d=\"M18.56 5.44l.94 2.06.94-2.06 2.06-.94-2.06-.94-.94-2.06-.94 2.06-2.06.94zm-11 1L8.5 8.5l.94-2.06 2.06-.94-2.06-.94L8.5 2.5l-.94 2.06-2.06.94zm10 10l.94 2.06.94-2.06 2.06-.94-2.06-.94-.94-2.06-.94 2.06-2.06.94z\"/><path d=\"M17.41 7.96l-1.37-1.37c-.4-.4-.92-.59-1.43-.59-.52 0-1.04.2-1.43.59L10.3 9.45l-7.72 7.72c-.78.78-.78 2.05 0 2.83L4 21.41c.39.39.9.59 1.41.59.51 0 1.02-.2 1.41-.59l7.78-7.78 2.81-2.81c.8-.78.8-2.07 0-2.86zM5.41 20L4 18.59l7.72-7.72 1.47 1.35L5.41 20z\"/>\n",
              "  </svg>\n",
              "      </button>\n",
              "      \n",
              "  <style>\n",
              "    .colab-df-container {\n",
              "      display:flex;\n",
              "      flex-wrap:wrap;\n",
              "      gap: 12px;\n",
              "    }\n",
              "\n",
              "    .colab-df-convert {\n",
              "      background-color: #E8F0FE;\n",
              "      border: none;\n",
              "      border-radius: 50%;\n",
              "      cursor: pointer;\n",
              "      display: none;\n",
              "      fill: #1967D2;\n",
              "      height: 32px;\n",
              "      padding: 0 0 0 0;\n",
              "      width: 32px;\n",
              "    }\n",
              "\n",
              "    .colab-df-convert:hover {\n",
              "      background-color: #E2EBFA;\n",
              "      box-shadow: 0px 1px 2px rgba(60, 64, 67, 0.3), 0px 1px 3px 1px rgba(60, 64, 67, 0.15);\n",
              "      fill: #174EA6;\n",
              "    }\n",
              "\n",
              "    [theme=dark] .colab-df-convert {\n",
              "      background-color: #3B4455;\n",
              "      fill: #D2E3FC;\n",
              "    }\n",
              "\n",
              "    [theme=dark] .colab-df-convert:hover {\n",
              "      background-color: #434B5C;\n",
              "      box-shadow: 0px 1px 3px 1px rgba(0, 0, 0, 0.15);\n",
              "      filter: drop-shadow(0px 1px 2px rgba(0, 0, 0, 0.3));\n",
              "      fill: #FFFFFF;\n",
              "    }\n",
              "  </style>\n",
              "\n",
              "      <script>\n",
              "        const buttonEl =\n",
              "          document.querySelector('#df-315b7032-49ba-4374-9c1d-012b85cb4537 button.colab-df-convert');\n",
              "        buttonEl.style.display =\n",
              "          google.colab.kernel.accessAllowed ? 'block' : 'none';\n",
              "\n",
              "        async function convertToInteractive(key) {\n",
              "          const element = document.querySelector('#df-315b7032-49ba-4374-9c1d-012b85cb4537');\n",
              "          const dataTable =\n",
              "            await google.colab.kernel.invokeFunction('convertToInteractive',\n",
              "                                                     [key], {});\n",
              "          if (!dataTable) return;\n",
              "\n",
              "          const docLinkHtml = 'Like what you see? Visit the ' +\n",
              "            '<a target=\"_blank\" href=https://colab.research.google.com/notebooks/data_table.ipynb>data table notebook</a>'\n",
              "            + ' to learn more about interactive tables.';\n",
              "          element.innerHTML = '';\n",
              "          dataTable['output_type'] = 'display_data';\n",
              "          await google.colab.output.renderOutput(dataTable, element);\n",
              "          const docLink = document.createElement('div');\n",
              "          docLink.innerHTML = docLinkHtml;\n",
              "          element.appendChild(docLink);\n",
              "        }\n",
              "      </script>\n",
              "    </div>\n",
              "  </div>\n",
              "  "
            ]
          },
          "metadata": {},
          "execution_count": 515
        }
      ]
    },
    {
      "cell_type": "code",
      "source": [
        "categ_pipe=Pipeline(\n",
        "    steps=[('one_hot',OneHotEncoder(sparse=False,drop='first',handle_unknown='ignore'))])"
      ],
      "metadata": {
        "id": "AAg_lPHBY_bq"
      },
      "execution_count": 516,
      "outputs": []
    },
    {
      "cell_type": "code",
      "source": [
        "categ_pipe"
      ],
      "metadata": {
        "colab": {
          "base_uri": "https://localhost:8080/",
          "height": 92
        },
        "id": "7yggjPctpEHP",
        "outputId": "9c174622-3cd9-4685-c430-994fb395fc10"
      },
      "execution_count": 517,
      "outputs": [
        {
          "output_type": "execute_result",
          "data": {
            "text/plain": [
              "Pipeline(steps=[('one_hot',\n",
              "                 OneHotEncoder(drop='first', handle_unknown='ignore',\n",
              "                               sparse=False))])"
            ],
            "text/html": [
              "<style>#sk-000c1505-776a-4b46-ac21-2fc1c6ccde43 {color: black;background-color: white;}#sk-000c1505-776a-4b46-ac21-2fc1c6ccde43 pre{padding: 0;}#sk-000c1505-776a-4b46-ac21-2fc1c6ccde43 div.sk-toggleable {background-color: white;}#sk-000c1505-776a-4b46-ac21-2fc1c6ccde43 label.sk-toggleable__label {cursor: pointer;display: block;width: 100%;margin-bottom: 0;padding: 0.3em;box-sizing: border-box;text-align: center;}#sk-000c1505-776a-4b46-ac21-2fc1c6ccde43 label.sk-toggleable__label-arrow:before {content: \"▸\";float: left;margin-right: 0.25em;color: #696969;}#sk-000c1505-776a-4b46-ac21-2fc1c6ccde43 label.sk-toggleable__label-arrow:hover:before {color: black;}#sk-000c1505-776a-4b46-ac21-2fc1c6ccde43 div.sk-estimator:hover label.sk-toggleable__label-arrow:before {color: black;}#sk-000c1505-776a-4b46-ac21-2fc1c6ccde43 div.sk-toggleable__content {max-height: 0;max-width: 0;overflow: hidden;text-align: left;background-color: #f0f8ff;}#sk-000c1505-776a-4b46-ac21-2fc1c6ccde43 div.sk-toggleable__content pre {margin: 0.2em;color: black;border-radius: 0.25em;background-color: #f0f8ff;}#sk-000c1505-776a-4b46-ac21-2fc1c6ccde43 input.sk-toggleable__control:checked~div.sk-toggleable__content {max-height: 200px;max-width: 100%;overflow: auto;}#sk-000c1505-776a-4b46-ac21-2fc1c6ccde43 input.sk-toggleable__control:checked~label.sk-toggleable__label-arrow:before {content: \"▾\";}#sk-000c1505-776a-4b46-ac21-2fc1c6ccde43 div.sk-estimator input.sk-toggleable__control:checked~label.sk-toggleable__label {background-color: #d4ebff;}#sk-000c1505-776a-4b46-ac21-2fc1c6ccde43 div.sk-label input.sk-toggleable__control:checked~label.sk-toggleable__label {background-color: #d4ebff;}#sk-000c1505-776a-4b46-ac21-2fc1c6ccde43 input.sk-hidden--visually {border: 0;clip: rect(1px 1px 1px 1px);clip: rect(1px, 1px, 1px, 1px);height: 1px;margin: -1px;overflow: hidden;padding: 0;position: absolute;width: 1px;}#sk-000c1505-776a-4b46-ac21-2fc1c6ccde43 div.sk-estimator {font-family: monospace;background-color: #f0f8ff;border: 1px dotted black;border-radius: 0.25em;box-sizing: border-box;margin-bottom: 0.5em;}#sk-000c1505-776a-4b46-ac21-2fc1c6ccde43 div.sk-estimator:hover {background-color: #d4ebff;}#sk-000c1505-776a-4b46-ac21-2fc1c6ccde43 div.sk-parallel-item::after {content: \"\";width: 100%;border-bottom: 1px solid gray;flex-grow: 1;}#sk-000c1505-776a-4b46-ac21-2fc1c6ccde43 div.sk-label:hover label.sk-toggleable__label {background-color: #d4ebff;}#sk-000c1505-776a-4b46-ac21-2fc1c6ccde43 div.sk-serial::before {content: \"\";position: absolute;border-left: 1px solid gray;box-sizing: border-box;top: 2em;bottom: 0;left: 50%;}#sk-000c1505-776a-4b46-ac21-2fc1c6ccde43 div.sk-serial {display: flex;flex-direction: column;align-items: center;background-color: white;padding-right: 0.2em;padding-left: 0.2em;}#sk-000c1505-776a-4b46-ac21-2fc1c6ccde43 div.sk-item {z-index: 1;}#sk-000c1505-776a-4b46-ac21-2fc1c6ccde43 div.sk-parallel {display: flex;align-items: stretch;justify-content: center;background-color: white;}#sk-000c1505-776a-4b46-ac21-2fc1c6ccde43 div.sk-parallel::before {content: \"\";position: absolute;border-left: 1px solid gray;box-sizing: border-box;top: 2em;bottom: 0;left: 50%;}#sk-000c1505-776a-4b46-ac21-2fc1c6ccde43 div.sk-parallel-item {display: flex;flex-direction: column;position: relative;background-color: white;}#sk-000c1505-776a-4b46-ac21-2fc1c6ccde43 div.sk-parallel-item:first-child::after {align-self: flex-end;width: 50%;}#sk-000c1505-776a-4b46-ac21-2fc1c6ccde43 div.sk-parallel-item:last-child::after {align-self: flex-start;width: 50%;}#sk-000c1505-776a-4b46-ac21-2fc1c6ccde43 div.sk-parallel-item:only-child::after {width: 0;}#sk-000c1505-776a-4b46-ac21-2fc1c6ccde43 div.sk-dashed-wrapped {border: 1px dashed gray;margin: 0 0.4em 0.5em 0.4em;box-sizing: border-box;padding-bottom: 0.4em;background-color: white;position: relative;}#sk-000c1505-776a-4b46-ac21-2fc1c6ccde43 div.sk-label label {font-family: monospace;font-weight: bold;background-color: white;display: inline-block;line-height: 1.2em;}#sk-000c1505-776a-4b46-ac21-2fc1c6ccde43 div.sk-label-container {position: relative;z-index: 2;text-align: center;}#sk-000c1505-776a-4b46-ac21-2fc1c6ccde43 div.sk-container {/* jupyter's `normalize.less` sets `[hidden] { display: none; }` but bootstrap.min.css set `[hidden] { display: none !important; }` so we also need the `!important` here to be able to override the default hidden behavior on the sphinx rendered scikit-learn.org. See: https://github.com/scikit-learn/scikit-learn/issues/21755 */display: inline-block !important;position: relative;}#sk-000c1505-776a-4b46-ac21-2fc1c6ccde43 div.sk-text-repr-fallback {display: none;}</style><div id=\"sk-000c1505-776a-4b46-ac21-2fc1c6ccde43\" class=\"sk-top-container\"><div class=\"sk-text-repr-fallback\"><pre>Pipeline(steps=[(&#x27;one_hot&#x27;,\n",
              "                 OneHotEncoder(drop=&#x27;first&#x27;, handle_unknown=&#x27;ignore&#x27;,\n",
              "                               sparse=False))])</pre><b>Please rerun this cell to show the HTML repr or trust the notebook.</b></div><div class=\"sk-container\" hidden><div class=\"sk-item sk-dashed-wrapped\"><div class=\"sk-label-container\"><div class=\"sk-label sk-toggleable\"><input class=\"sk-toggleable__control sk-hidden--visually\" id=\"86627fee-8e2a-4de4-92f8-41c182063221\" type=\"checkbox\" ><label for=\"86627fee-8e2a-4de4-92f8-41c182063221\" class=\"sk-toggleable__label sk-toggleable__label-arrow\">Pipeline</label><div class=\"sk-toggleable__content\"><pre>Pipeline(steps=[(&#x27;one_hot&#x27;,\n",
              "                 OneHotEncoder(drop=&#x27;first&#x27;, handle_unknown=&#x27;ignore&#x27;,\n",
              "                               sparse=False))])</pre></div></div></div><div class=\"sk-serial\"><div class=\"sk-item\"><div class=\"sk-estimator sk-toggleable\"><input class=\"sk-toggleable__control sk-hidden--visually\" id=\"5373c044-cf5c-411d-b143-9b49c6ed9d0e\" type=\"checkbox\" ><label for=\"5373c044-cf5c-411d-b143-9b49c6ed9d0e\" class=\"sk-toggleable__label sk-toggleable__label-arrow\">OneHotEncoder</label><div class=\"sk-toggleable__content\"><pre>OneHotEncoder(drop=&#x27;first&#x27;, handle_unknown=&#x27;ignore&#x27;, sparse=False)</pre></div></div></div></div></div></div></div>"
            ]
          },
          "metadata": {},
          "execution_count": 517
        }
      ]
    },
    {
      "cell_type": "code",
      "source": [
        "from sklearn import set_config"
      ],
      "metadata": {
        "id": "2FS8oCBbo8a-"
      },
      "execution_count": 518,
      "outputs": []
    },
    {
      "cell_type": "code",
      "source": [
        "set_config(display=\"diagram\")"
      ],
      "metadata": {
        "id": "ymc0PJyxpAI1"
      },
      "execution_count": 519,
      "outputs": []
    },
    {
      "cell_type": "code",
      "source": [
        "numeric_pipe = Pipeline(steps=[('standard scaler',StandardScaler())])"
      ],
      "metadata": {
        "id": "JaYktwQSoyWg"
      },
      "execution_count": 520,
      "outputs": []
    },
    {
      "cell_type": "code",
      "source": [
        "preprocessor= ColumnTransformer([('catagorical',categ_pipe,['Company','TypeName','OpSys','Cpu_name','Gpu_brand']),\n",
        "                                 ('numeric',numeric_pipe,['Weight','ppi','SSD','HDD'])])"
      ],
      "metadata": {
        "id": "TXikmCxtpd5k"
      },
      "execution_count": 521,
      "outputs": []
    },
    {
      "cell_type": "code",
      "source": [
        "from sklearn.pipeline import make_pipeline\n",
        "pipe = make_pipeline(preprocessor,Ridge(alpha=0.01))"
      ],
      "metadata": {
        "id": "AMvYIra-qS6F"
      },
      "execution_count": 522,
      "outputs": []
    },
    {
      "cell_type": "code",
      "source": [
        "def best_model(algo,X_train,y_train,y_test):\n",
        "  pipe = make_pipeline(preprocessor,algo)\n",
        "  model=pipe.fit(X_train,y_train)\n",
        "  y_pred=model.predict(X_test)\n",
        "  print(f\"for {algo} the r2 Score is {r2_score(y_test,y_pred)}\")\n",
        "  return model\n"
      ],
      "metadata": {
        "id": "xoYdyTsVtCeu"
      },
      "execution_count": 523,
      "outputs": []
    },
    {
      "cell_type": "code",
      "source": [
        "best_model(Ridge(alpha=0.001),X_train,y_train,y_test)"
      ],
      "metadata": {
        "colab": {
          "base_uri": "https://localhost:8080/",
          "height": 210
        },
        "id": "DpCpQZbJqcu7",
        "outputId": "9596bba1-4203-4e26-981f-5e7a39e41fb2"
      },
      "execution_count": 524,
      "outputs": [
        {
          "output_type": "stream",
          "name": "stdout",
          "text": [
            "for Ridge(alpha=0.001) the r2 Score is 0.815025811994794\n"
          ]
        },
        {
          "output_type": "execute_result",
          "data": {
            "text/plain": [
              "Pipeline(steps=[('columntransformer',\n",
              "                 ColumnTransformer(transformers=[('catagorical',\n",
              "                                                  Pipeline(steps=[('one_hot',\n",
              "                                                                   OneHotEncoder(drop='first',\n",
              "                                                                                 handle_unknown='ignore',\n",
              "                                                                                 sparse=False))]),\n",
              "                                                  ['Company', 'TypeName',\n",
              "                                                   'OpSys', 'Cpu_name',\n",
              "                                                   'Gpu_brand']),\n",
              "                                                 ('numeric',\n",
              "                                                  Pipeline(steps=[('standard '\n",
              "                                                                   'scaler',\n",
              "                                                                   StandardScaler())]),\n",
              "                                                  ['Weight', 'ppi', 'SSD',\n",
              "                                                   'HDD'])])),\n",
              "                ('ridge', Ridge(alpha=0.001))])"
            ],
            "text/html": [
              "<style>#sk-841ca24f-4405-4490-8a0d-bc4b91517ec1 {color: black;background-color: white;}#sk-841ca24f-4405-4490-8a0d-bc4b91517ec1 pre{padding: 0;}#sk-841ca24f-4405-4490-8a0d-bc4b91517ec1 div.sk-toggleable {background-color: white;}#sk-841ca24f-4405-4490-8a0d-bc4b91517ec1 label.sk-toggleable__label {cursor: pointer;display: block;width: 100%;margin-bottom: 0;padding: 0.3em;box-sizing: border-box;text-align: center;}#sk-841ca24f-4405-4490-8a0d-bc4b91517ec1 label.sk-toggleable__label-arrow:before {content: \"▸\";float: left;margin-right: 0.25em;color: #696969;}#sk-841ca24f-4405-4490-8a0d-bc4b91517ec1 label.sk-toggleable__label-arrow:hover:before {color: black;}#sk-841ca24f-4405-4490-8a0d-bc4b91517ec1 div.sk-estimator:hover label.sk-toggleable__label-arrow:before {color: black;}#sk-841ca24f-4405-4490-8a0d-bc4b91517ec1 div.sk-toggleable__content {max-height: 0;max-width: 0;overflow: hidden;text-align: left;background-color: #f0f8ff;}#sk-841ca24f-4405-4490-8a0d-bc4b91517ec1 div.sk-toggleable__content pre {margin: 0.2em;color: black;border-radius: 0.25em;background-color: #f0f8ff;}#sk-841ca24f-4405-4490-8a0d-bc4b91517ec1 input.sk-toggleable__control:checked~div.sk-toggleable__content {max-height: 200px;max-width: 100%;overflow: auto;}#sk-841ca24f-4405-4490-8a0d-bc4b91517ec1 input.sk-toggleable__control:checked~label.sk-toggleable__label-arrow:before {content: \"▾\";}#sk-841ca24f-4405-4490-8a0d-bc4b91517ec1 div.sk-estimator input.sk-toggleable__control:checked~label.sk-toggleable__label {background-color: #d4ebff;}#sk-841ca24f-4405-4490-8a0d-bc4b91517ec1 div.sk-label input.sk-toggleable__control:checked~label.sk-toggleable__label {background-color: #d4ebff;}#sk-841ca24f-4405-4490-8a0d-bc4b91517ec1 input.sk-hidden--visually {border: 0;clip: rect(1px 1px 1px 1px);clip: rect(1px, 1px, 1px, 1px);height: 1px;margin: -1px;overflow: hidden;padding: 0;position: absolute;width: 1px;}#sk-841ca24f-4405-4490-8a0d-bc4b91517ec1 div.sk-estimator {font-family: monospace;background-color: #f0f8ff;border: 1px dotted black;border-radius: 0.25em;box-sizing: border-box;margin-bottom: 0.5em;}#sk-841ca24f-4405-4490-8a0d-bc4b91517ec1 div.sk-estimator:hover {background-color: #d4ebff;}#sk-841ca24f-4405-4490-8a0d-bc4b91517ec1 div.sk-parallel-item::after {content: \"\";width: 100%;border-bottom: 1px solid gray;flex-grow: 1;}#sk-841ca24f-4405-4490-8a0d-bc4b91517ec1 div.sk-label:hover label.sk-toggleable__label {background-color: #d4ebff;}#sk-841ca24f-4405-4490-8a0d-bc4b91517ec1 div.sk-serial::before {content: \"\";position: absolute;border-left: 1px solid gray;box-sizing: border-box;top: 2em;bottom: 0;left: 50%;}#sk-841ca24f-4405-4490-8a0d-bc4b91517ec1 div.sk-serial {display: flex;flex-direction: column;align-items: center;background-color: white;padding-right: 0.2em;padding-left: 0.2em;}#sk-841ca24f-4405-4490-8a0d-bc4b91517ec1 div.sk-item {z-index: 1;}#sk-841ca24f-4405-4490-8a0d-bc4b91517ec1 div.sk-parallel {display: flex;align-items: stretch;justify-content: center;background-color: white;}#sk-841ca24f-4405-4490-8a0d-bc4b91517ec1 div.sk-parallel::before {content: \"\";position: absolute;border-left: 1px solid gray;box-sizing: border-box;top: 2em;bottom: 0;left: 50%;}#sk-841ca24f-4405-4490-8a0d-bc4b91517ec1 div.sk-parallel-item {display: flex;flex-direction: column;position: relative;background-color: white;}#sk-841ca24f-4405-4490-8a0d-bc4b91517ec1 div.sk-parallel-item:first-child::after {align-self: flex-end;width: 50%;}#sk-841ca24f-4405-4490-8a0d-bc4b91517ec1 div.sk-parallel-item:last-child::after {align-self: flex-start;width: 50%;}#sk-841ca24f-4405-4490-8a0d-bc4b91517ec1 div.sk-parallel-item:only-child::after {width: 0;}#sk-841ca24f-4405-4490-8a0d-bc4b91517ec1 div.sk-dashed-wrapped {border: 1px dashed gray;margin: 0 0.4em 0.5em 0.4em;box-sizing: border-box;padding-bottom: 0.4em;background-color: white;position: relative;}#sk-841ca24f-4405-4490-8a0d-bc4b91517ec1 div.sk-label label {font-family: monospace;font-weight: bold;background-color: white;display: inline-block;line-height: 1.2em;}#sk-841ca24f-4405-4490-8a0d-bc4b91517ec1 div.sk-label-container {position: relative;z-index: 2;text-align: center;}#sk-841ca24f-4405-4490-8a0d-bc4b91517ec1 div.sk-container {/* jupyter's `normalize.less` sets `[hidden] { display: none; }` but bootstrap.min.css set `[hidden] { display: none !important; }` so we also need the `!important` here to be able to override the default hidden behavior on the sphinx rendered scikit-learn.org. See: https://github.com/scikit-learn/scikit-learn/issues/21755 */display: inline-block !important;position: relative;}#sk-841ca24f-4405-4490-8a0d-bc4b91517ec1 div.sk-text-repr-fallback {display: none;}</style><div id=\"sk-841ca24f-4405-4490-8a0d-bc4b91517ec1\" class=\"sk-top-container\"><div class=\"sk-text-repr-fallback\"><pre>Pipeline(steps=[(&#x27;columntransformer&#x27;,\n",
              "                 ColumnTransformer(transformers=[(&#x27;catagorical&#x27;,\n",
              "                                                  Pipeline(steps=[(&#x27;one_hot&#x27;,\n",
              "                                                                   OneHotEncoder(drop=&#x27;first&#x27;,\n",
              "                                                                                 handle_unknown=&#x27;ignore&#x27;,\n",
              "                                                                                 sparse=False))]),\n",
              "                                                  [&#x27;Company&#x27;, &#x27;TypeName&#x27;,\n",
              "                                                   &#x27;OpSys&#x27;, &#x27;Cpu_name&#x27;,\n",
              "                                                   &#x27;Gpu_brand&#x27;]),\n",
              "                                                 (&#x27;numeric&#x27;,\n",
              "                                                  Pipeline(steps=[(&#x27;standard &#x27;\n",
              "                                                                   &#x27;scaler&#x27;,\n",
              "                                                                   StandardScaler())]),\n",
              "                                                  [&#x27;Weight&#x27;, &#x27;ppi&#x27;, &#x27;SSD&#x27;,\n",
              "                                                   &#x27;HDD&#x27;])])),\n",
              "                (&#x27;ridge&#x27;, Ridge(alpha=0.001))])</pre><b>Please rerun this cell to show the HTML repr or trust the notebook.</b></div><div class=\"sk-container\" hidden><div class=\"sk-item sk-dashed-wrapped\"><div class=\"sk-label-container\"><div class=\"sk-label sk-toggleable\"><input class=\"sk-toggleable__control sk-hidden--visually\" id=\"7be78ee5-6113-48ac-817b-7fa2ff6db1af\" type=\"checkbox\" ><label for=\"7be78ee5-6113-48ac-817b-7fa2ff6db1af\" class=\"sk-toggleable__label sk-toggleable__label-arrow\">Pipeline</label><div class=\"sk-toggleable__content\"><pre>Pipeline(steps=[(&#x27;columntransformer&#x27;,\n",
              "                 ColumnTransformer(transformers=[(&#x27;catagorical&#x27;,\n",
              "                                                  Pipeline(steps=[(&#x27;one_hot&#x27;,\n",
              "                                                                   OneHotEncoder(drop=&#x27;first&#x27;,\n",
              "                                                                                 handle_unknown=&#x27;ignore&#x27;,\n",
              "                                                                                 sparse=False))]),\n",
              "                                                  [&#x27;Company&#x27;, &#x27;TypeName&#x27;,\n",
              "                                                   &#x27;OpSys&#x27;, &#x27;Cpu_name&#x27;,\n",
              "                                                   &#x27;Gpu_brand&#x27;]),\n",
              "                                                 (&#x27;numeric&#x27;,\n",
              "                                                  Pipeline(steps=[(&#x27;standard &#x27;\n",
              "                                                                   &#x27;scaler&#x27;,\n",
              "                                                                   StandardScaler())]),\n",
              "                                                  [&#x27;Weight&#x27;, &#x27;ppi&#x27;, &#x27;SSD&#x27;,\n",
              "                                                   &#x27;HDD&#x27;])])),\n",
              "                (&#x27;ridge&#x27;, Ridge(alpha=0.001))])</pre></div></div></div><div class=\"sk-serial\"><div class=\"sk-item sk-dashed-wrapped\"><div class=\"sk-label-container\"><div class=\"sk-label sk-toggleable\"><input class=\"sk-toggleable__control sk-hidden--visually\" id=\"054c18c2-456f-42b5-8448-60f1658273d7\" type=\"checkbox\" ><label for=\"054c18c2-456f-42b5-8448-60f1658273d7\" class=\"sk-toggleable__label sk-toggleable__label-arrow\">columntransformer: ColumnTransformer</label><div class=\"sk-toggleable__content\"><pre>ColumnTransformer(transformers=[(&#x27;catagorical&#x27;,\n",
              "                                 Pipeline(steps=[(&#x27;one_hot&#x27;,\n",
              "                                                  OneHotEncoder(drop=&#x27;first&#x27;,\n",
              "                                                                handle_unknown=&#x27;ignore&#x27;,\n",
              "                                                                sparse=False))]),\n",
              "                                 [&#x27;Company&#x27;, &#x27;TypeName&#x27;, &#x27;OpSys&#x27;, &#x27;Cpu_name&#x27;,\n",
              "                                  &#x27;Gpu_brand&#x27;]),\n",
              "                                (&#x27;numeric&#x27;,\n",
              "                                 Pipeline(steps=[(&#x27;standard scaler&#x27;,\n",
              "                                                  StandardScaler())]),\n",
              "                                 [&#x27;Weight&#x27;, &#x27;ppi&#x27;, &#x27;SSD&#x27;, &#x27;HDD&#x27;])])</pre></div></div></div><div class=\"sk-parallel\"><div class=\"sk-parallel-item\"><div class=\"sk-item\"><div class=\"sk-label-container\"><div class=\"sk-label sk-toggleable\"><input class=\"sk-toggleable__control sk-hidden--visually\" id=\"06420dab-117a-41dd-beec-51fc65bf5867\" type=\"checkbox\" ><label for=\"06420dab-117a-41dd-beec-51fc65bf5867\" class=\"sk-toggleable__label sk-toggleable__label-arrow\">catagorical</label><div class=\"sk-toggleable__content\"><pre>[&#x27;Company&#x27;, &#x27;TypeName&#x27;, &#x27;OpSys&#x27;, &#x27;Cpu_name&#x27;, &#x27;Gpu_brand&#x27;]</pre></div></div></div><div class=\"sk-serial\"><div class=\"sk-item\"><div class=\"sk-serial\"><div class=\"sk-item\"><div class=\"sk-estimator sk-toggleable\"><input class=\"sk-toggleable__control sk-hidden--visually\" id=\"7bfbd023-9aac-45b4-b7c3-312ee8b5ddbc\" type=\"checkbox\" ><label for=\"7bfbd023-9aac-45b4-b7c3-312ee8b5ddbc\" class=\"sk-toggleable__label sk-toggleable__label-arrow\">OneHotEncoder</label><div class=\"sk-toggleable__content\"><pre>OneHotEncoder(drop=&#x27;first&#x27;, handle_unknown=&#x27;ignore&#x27;, sparse=False)</pre></div></div></div></div></div></div></div></div><div class=\"sk-parallel-item\"><div class=\"sk-item\"><div class=\"sk-label-container\"><div class=\"sk-label sk-toggleable\"><input class=\"sk-toggleable__control sk-hidden--visually\" id=\"a612c889-5c80-45f9-97e0-e5323039ddae\" type=\"checkbox\" ><label for=\"a612c889-5c80-45f9-97e0-e5323039ddae\" class=\"sk-toggleable__label sk-toggleable__label-arrow\">numeric</label><div class=\"sk-toggleable__content\"><pre>[&#x27;Weight&#x27;, &#x27;ppi&#x27;, &#x27;SSD&#x27;, &#x27;HDD&#x27;]</pre></div></div></div><div class=\"sk-serial\"><div class=\"sk-item\"><div class=\"sk-serial\"><div class=\"sk-item\"><div class=\"sk-estimator sk-toggleable\"><input class=\"sk-toggleable__control sk-hidden--visually\" id=\"9df70ef3-d073-4f1a-878e-ec9f55912738\" type=\"checkbox\" ><label for=\"9df70ef3-d073-4f1a-878e-ec9f55912738\" class=\"sk-toggleable__label sk-toggleable__label-arrow\">StandardScaler</label><div class=\"sk-toggleable__content\"><pre>StandardScaler()</pre></div></div></div></div></div></div></div></div></div></div><div class=\"sk-item\"><div class=\"sk-estimator sk-toggleable\"><input class=\"sk-toggleable__control sk-hidden--visually\" id=\"b309d453-5e3f-45b0-981c-dc3c33d34e05\" type=\"checkbox\" ><label for=\"b309d453-5e3f-45b0-981c-dc3c33d34e05\" class=\"sk-toggleable__label sk-toggleable__label-arrow\">Ridge</label><div class=\"sk-toggleable__content\"><pre>Ridge(alpha=0.001)</pre></div></div></div></div></div></div></div>"
            ]
          },
          "metadata": {},
          "execution_count": 524
        }
      ]
    },
    {
      "cell_type": "code",
      "source": [
        "best_model(Lasso(alpha=0.001),X_train,y_train,y_test)"
      ],
      "metadata": {
        "colab": {
          "base_uri": "https://localhost:8080/",
          "height": 210
        },
        "id": "L4QH_wUXuhNN",
        "outputId": "9617e4bb-7697-435b-dc7f-9d8dc58aa73a"
      },
      "execution_count": 525,
      "outputs": [
        {
          "output_type": "stream",
          "name": "stdout",
          "text": [
            "for Lasso(alpha=0.001) the r2 Score is 0.805792315660615\n"
          ]
        },
        {
          "output_type": "execute_result",
          "data": {
            "text/plain": [
              "Pipeline(steps=[('columntransformer',\n",
              "                 ColumnTransformer(transformers=[('catagorical',\n",
              "                                                  Pipeline(steps=[('one_hot',\n",
              "                                                                   OneHotEncoder(drop='first',\n",
              "                                                                                 handle_unknown='ignore',\n",
              "                                                                                 sparse=False))]),\n",
              "                                                  ['Company', 'TypeName',\n",
              "                                                   'OpSys', 'Cpu_name',\n",
              "                                                   'Gpu_brand']),\n",
              "                                                 ('numeric',\n",
              "                                                  Pipeline(steps=[('standard '\n",
              "                                                                   'scaler',\n",
              "                                                                   StandardScaler())]),\n",
              "                                                  ['Weight', 'ppi', 'SSD',\n",
              "                                                   'HDD'])])),\n",
              "                ('lasso', Lasso(alpha=0.001))])"
            ],
            "text/html": [
              "<style>#sk-587325fa-a956-4087-85c9-647ffdbe8bf3 {color: black;background-color: white;}#sk-587325fa-a956-4087-85c9-647ffdbe8bf3 pre{padding: 0;}#sk-587325fa-a956-4087-85c9-647ffdbe8bf3 div.sk-toggleable {background-color: white;}#sk-587325fa-a956-4087-85c9-647ffdbe8bf3 label.sk-toggleable__label {cursor: pointer;display: block;width: 100%;margin-bottom: 0;padding: 0.3em;box-sizing: border-box;text-align: center;}#sk-587325fa-a956-4087-85c9-647ffdbe8bf3 label.sk-toggleable__label-arrow:before {content: \"▸\";float: left;margin-right: 0.25em;color: #696969;}#sk-587325fa-a956-4087-85c9-647ffdbe8bf3 label.sk-toggleable__label-arrow:hover:before {color: black;}#sk-587325fa-a956-4087-85c9-647ffdbe8bf3 div.sk-estimator:hover label.sk-toggleable__label-arrow:before {color: black;}#sk-587325fa-a956-4087-85c9-647ffdbe8bf3 div.sk-toggleable__content {max-height: 0;max-width: 0;overflow: hidden;text-align: left;background-color: #f0f8ff;}#sk-587325fa-a956-4087-85c9-647ffdbe8bf3 div.sk-toggleable__content pre {margin: 0.2em;color: black;border-radius: 0.25em;background-color: #f0f8ff;}#sk-587325fa-a956-4087-85c9-647ffdbe8bf3 input.sk-toggleable__control:checked~div.sk-toggleable__content {max-height: 200px;max-width: 100%;overflow: auto;}#sk-587325fa-a956-4087-85c9-647ffdbe8bf3 input.sk-toggleable__control:checked~label.sk-toggleable__label-arrow:before {content: \"▾\";}#sk-587325fa-a956-4087-85c9-647ffdbe8bf3 div.sk-estimator input.sk-toggleable__control:checked~label.sk-toggleable__label {background-color: #d4ebff;}#sk-587325fa-a956-4087-85c9-647ffdbe8bf3 div.sk-label input.sk-toggleable__control:checked~label.sk-toggleable__label {background-color: #d4ebff;}#sk-587325fa-a956-4087-85c9-647ffdbe8bf3 input.sk-hidden--visually {border: 0;clip: rect(1px 1px 1px 1px);clip: rect(1px, 1px, 1px, 1px);height: 1px;margin: -1px;overflow: hidden;padding: 0;position: absolute;width: 1px;}#sk-587325fa-a956-4087-85c9-647ffdbe8bf3 div.sk-estimator {font-family: monospace;background-color: #f0f8ff;border: 1px dotted black;border-radius: 0.25em;box-sizing: border-box;margin-bottom: 0.5em;}#sk-587325fa-a956-4087-85c9-647ffdbe8bf3 div.sk-estimator:hover {background-color: #d4ebff;}#sk-587325fa-a956-4087-85c9-647ffdbe8bf3 div.sk-parallel-item::after {content: \"\";width: 100%;border-bottom: 1px solid gray;flex-grow: 1;}#sk-587325fa-a956-4087-85c9-647ffdbe8bf3 div.sk-label:hover label.sk-toggleable__label {background-color: #d4ebff;}#sk-587325fa-a956-4087-85c9-647ffdbe8bf3 div.sk-serial::before {content: \"\";position: absolute;border-left: 1px solid gray;box-sizing: border-box;top: 2em;bottom: 0;left: 50%;}#sk-587325fa-a956-4087-85c9-647ffdbe8bf3 div.sk-serial {display: flex;flex-direction: column;align-items: center;background-color: white;padding-right: 0.2em;padding-left: 0.2em;}#sk-587325fa-a956-4087-85c9-647ffdbe8bf3 div.sk-item {z-index: 1;}#sk-587325fa-a956-4087-85c9-647ffdbe8bf3 div.sk-parallel {display: flex;align-items: stretch;justify-content: center;background-color: white;}#sk-587325fa-a956-4087-85c9-647ffdbe8bf3 div.sk-parallel::before {content: \"\";position: absolute;border-left: 1px solid gray;box-sizing: border-box;top: 2em;bottom: 0;left: 50%;}#sk-587325fa-a956-4087-85c9-647ffdbe8bf3 div.sk-parallel-item {display: flex;flex-direction: column;position: relative;background-color: white;}#sk-587325fa-a956-4087-85c9-647ffdbe8bf3 div.sk-parallel-item:first-child::after {align-self: flex-end;width: 50%;}#sk-587325fa-a956-4087-85c9-647ffdbe8bf3 div.sk-parallel-item:last-child::after {align-self: flex-start;width: 50%;}#sk-587325fa-a956-4087-85c9-647ffdbe8bf3 div.sk-parallel-item:only-child::after {width: 0;}#sk-587325fa-a956-4087-85c9-647ffdbe8bf3 div.sk-dashed-wrapped {border: 1px dashed gray;margin: 0 0.4em 0.5em 0.4em;box-sizing: border-box;padding-bottom: 0.4em;background-color: white;position: relative;}#sk-587325fa-a956-4087-85c9-647ffdbe8bf3 div.sk-label label {font-family: monospace;font-weight: bold;background-color: white;display: inline-block;line-height: 1.2em;}#sk-587325fa-a956-4087-85c9-647ffdbe8bf3 div.sk-label-container {position: relative;z-index: 2;text-align: center;}#sk-587325fa-a956-4087-85c9-647ffdbe8bf3 div.sk-container {/* jupyter's `normalize.less` sets `[hidden] { display: none; }` but bootstrap.min.css set `[hidden] { display: none !important; }` so we also need the `!important` here to be able to override the default hidden behavior on the sphinx rendered scikit-learn.org. See: https://github.com/scikit-learn/scikit-learn/issues/21755 */display: inline-block !important;position: relative;}#sk-587325fa-a956-4087-85c9-647ffdbe8bf3 div.sk-text-repr-fallback {display: none;}</style><div id=\"sk-587325fa-a956-4087-85c9-647ffdbe8bf3\" class=\"sk-top-container\"><div class=\"sk-text-repr-fallback\"><pre>Pipeline(steps=[(&#x27;columntransformer&#x27;,\n",
              "                 ColumnTransformer(transformers=[(&#x27;catagorical&#x27;,\n",
              "                                                  Pipeline(steps=[(&#x27;one_hot&#x27;,\n",
              "                                                                   OneHotEncoder(drop=&#x27;first&#x27;,\n",
              "                                                                                 handle_unknown=&#x27;ignore&#x27;,\n",
              "                                                                                 sparse=False))]),\n",
              "                                                  [&#x27;Company&#x27;, &#x27;TypeName&#x27;,\n",
              "                                                   &#x27;OpSys&#x27;, &#x27;Cpu_name&#x27;,\n",
              "                                                   &#x27;Gpu_brand&#x27;]),\n",
              "                                                 (&#x27;numeric&#x27;,\n",
              "                                                  Pipeline(steps=[(&#x27;standard &#x27;\n",
              "                                                                   &#x27;scaler&#x27;,\n",
              "                                                                   StandardScaler())]),\n",
              "                                                  [&#x27;Weight&#x27;, &#x27;ppi&#x27;, &#x27;SSD&#x27;,\n",
              "                                                   &#x27;HDD&#x27;])])),\n",
              "                (&#x27;lasso&#x27;, Lasso(alpha=0.001))])</pre><b>Please rerun this cell to show the HTML repr or trust the notebook.</b></div><div class=\"sk-container\" hidden><div class=\"sk-item sk-dashed-wrapped\"><div class=\"sk-label-container\"><div class=\"sk-label sk-toggleable\"><input class=\"sk-toggleable__control sk-hidden--visually\" id=\"728b2456-0720-4836-8282-a7321bd43709\" type=\"checkbox\" ><label for=\"728b2456-0720-4836-8282-a7321bd43709\" class=\"sk-toggleable__label sk-toggleable__label-arrow\">Pipeline</label><div class=\"sk-toggleable__content\"><pre>Pipeline(steps=[(&#x27;columntransformer&#x27;,\n",
              "                 ColumnTransformer(transformers=[(&#x27;catagorical&#x27;,\n",
              "                                                  Pipeline(steps=[(&#x27;one_hot&#x27;,\n",
              "                                                                   OneHotEncoder(drop=&#x27;first&#x27;,\n",
              "                                                                                 handle_unknown=&#x27;ignore&#x27;,\n",
              "                                                                                 sparse=False))]),\n",
              "                                                  [&#x27;Company&#x27;, &#x27;TypeName&#x27;,\n",
              "                                                   &#x27;OpSys&#x27;, &#x27;Cpu_name&#x27;,\n",
              "                                                   &#x27;Gpu_brand&#x27;]),\n",
              "                                                 (&#x27;numeric&#x27;,\n",
              "                                                  Pipeline(steps=[(&#x27;standard &#x27;\n",
              "                                                                   &#x27;scaler&#x27;,\n",
              "                                                                   StandardScaler())]),\n",
              "                                                  [&#x27;Weight&#x27;, &#x27;ppi&#x27;, &#x27;SSD&#x27;,\n",
              "                                                   &#x27;HDD&#x27;])])),\n",
              "                (&#x27;lasso&#x27;, Lasso(alpha=0.001))])</pre></div></div></div><div class=\"sk-serial\"><div class=\"sk-item sk-dashed-wrapped\"><div class=\"sk-label-container\"><div class=\"sk-label sk-toggleable\"><input class=\"sk-toggleable__control sk-hidden--visually\" id=\"6ab34002-9ff1-4aba-aae3-2a750a9380e9\" type=\"checkbox\" ><label for=\"6ab34002-9ff1-4aba-aae3-2a750a9380e9\" class=\"sk-toggleable__label sk-toggleable__label-arrow\">columntransformer: ColumnTransformer</label><div class=\"sk-toggleable__content\"><pre>ColumnTransformer(transformers=[(&#x27;catagorical&#x27;,\n",
              "                                 Pipeline(steps=[(&#x27;one_hot&#x27;,\n",
              "                                                  OneHotEncoder(drop=&#x27;first&#x27;,\n",
              "                                                                handle_unknown=&#x27;ignore&#x27;,\n",
              "                                                                sparse=False))]),\n",
              "                                 [&#x27;Company&#x27;, &#x27;TypeName&#x27;, &#x27;OpSys&#x27;, &#x27;Cpu_name&#x27;,\n",
              "                                  &#x27;Gpu_brand&#x27;]),\n",
              "                                (&#x27;numeric&#x27;,\n",
              "                                 Pipeline(steps=[(&#x27;standard scaler&#x27;,\n",
              "                                                  StandardScaler())]),\n",
              "                                 [&#x27;Weight&#x27;, &#x27;ppi&#x27;, &#x27;SSD&#x27;, &#x27;HDD&#x27;])])</pre></div></div></div><div class=\"sk-parallel\"><div class=\"sk-parallel-item\"><div class=\"sk-item\"><div class=\"sk-label-container\"><div class=\"sk-label sk-toggleable\"><input class=\"sk-toggleable__control sk-hidden--visually\" id=\"a007689b-6fe5-40b7-9767-6aa47b86bdea\" type=\"checkbox\" ><label for=\"a007689b-6fe5-40b7-9767-6aa47b86bdea\" class=\"sk-toggleable__label sk-toggleable__label-arrow\">catagorical</label><div class=\"sk-toggleable__content\"><pre>[&#x27;Company&#x27;, &#x27;TypeName&#x27;, &#x27;OpSys&#x27;, &#x27;Cpu_name&#x27;, &#x27;Gpu_brand&#x27;]</pre></div></div></div><div class=\"sk-serial\"><div class=\"sk-item\"><div class=\"sk-serial\"><div class=\"sk-item\"><div class=\"sk-estimator sk-toggleable\"><input class=\"sk-toggleable__control sk-hidden--visually\" id=\"6de81245-7811-40e5-a786-a3a5702a1a79\" type=\"checkbox\" ><label for=\"6de81245-7811-40e5-a786-a3a5702a1a79\" class=\"sk-toggleable__label sk-toggleable__label-arrow\">OneHotEncoder</label><div class=\"sk-toggleable__content\"><pre>OneHotEncoder(drop=&#x27;first&#x27;, handle_unknown=&#x27;ignore&#x27;, sparse=False)</pre></div></div></div></div></div></div></div></div><div class=\"sk-parallel-item\"><div class=\"sk-item\"><div class=\"sk-label-container\"><div class=\"sk-label sk-toggleable\"><input class=\"sk-toggleable__control sk-hidden--visually\" id=\"bc7c653b-de26-4cb5-b021-0ab483d517b3\" type=\"checkbox\" ><label for=\"bc7c653b-de26-4cb5-b021-0ab483d517b3\" class=\"sk-toggleable__label sk-toggleable__label-arrow\">numeric</label><div class=\"sk-toggleable__content\"><pre>[&#x27;Weight&#x27;, &#x27;ppi&#x27;, &#x27;SSD&#x27;, &#x27;HDD&#x27;]</pre></div></div></div><div class=\"sk-serial\"><div class=\"sk-item\"><div class=\"sk-serial\"><div class=\"sk-item\"><div class=\"sk-estimator sk-toggleable\"><input class=\"sk-toggleable__control sk-hidden--visually\" id=\"a9e43a60-ae6f-4a21-ae14-6a3e73c3cb0d\" type=\"checkbox\" ><label for=\"a9e43a60-ae6f-4a21-ae14-6a3e73c3cb0d\" class=\"sk-toggleable__label sk-toggleable__label-arrow\">StandardScaler</label><div class=\"sk-toggleable__content\"><pre>StandardScaler()</pre></div></div></div></div></div></div></div></div></div></div><div class=\"sk-item\"><div class=\"sk-estimator sk-toggleable\"><input class=\"sk-toggleable__control sk-hidden--visually\" id=\"bdfe605e-5bd0-4184-be7e-113a6451aba8\" type=\"checkbox\" ><label for=\"bdfe605e-5bd0-4184-be7e-113a6451aba8\" class=\"sk-toggleable__label sk-toggleable__label-arrow\">Lasso</label><div class=\"sk-toggleable__content\"><pre>Lasso(alpha=0.001)</pre></div></div></div></div></div></div></div>"
            ]
          },
          "metadata": {},
          "execution_count": 525
        }
      ]
    },
    {
      "cell_type": "code",
      "source": [
        "best_model(LinearRegression(),X_train,y_train,y_test)"
      ],
      "metadata": {
        "colab": {
          "base_uri": "https://localhost:8080/",
          "height": 210
        },
        "id": "AGET-1BTuk_c",
        "outputId": "4c5ae7d8-2bec-459e-e4f4-08fa9160ff39"
      },
      "execution_count": 526,
      "outputs": [
        {
          "output_type": "stream",
          "name": "stdout",
          "text": [
            "for LinearRegression() the r2 Score is 0.8150204642168307\n"
          ]
        },
        {
          "output_type": "execute_result",
          "data": {
            "text/plain": [
              "Pipeline(steps=[('columntransformer',\n",
              "                 ColumnTransformer(transformers=[('catagorical',\n",
              "                                                  Pipeline(steps=[('one_hot',\n",
              "                                                                   OneHotEncoder(drop='first',\n",
              "                                                                                 handle_unknown='ignore',\n",
              "                                                                                 sparse=False))]),\n",
              "                                                  ['Company', 'TypeName',\n",
              "                                                   'OpSys', 'Cpu_name',\n",
              "                                                   'Gpu_brand']),\n",
              "                                                 ('numeric',\n",
              "                                                  Pipeline(steps=[('standard '\n",
              "                                                                   'scaler',\n",
              "                                                                   StandardScaler())]),\n",
              "                                                  ['Weight', 'ppi', 'SSD',\n",
              "                                                   'HDD'])])),\n",
              "                ('linearregression', LinearRegression())])"
            ],
            "text/html": [
              "<style>#sk-197551e7-fff8-4132-8c3d-3b7746e865e7 {color: black;background-color: white;}#sk-197551e7-fff8-4132-8c3d-3b7746e865e7 pre{padding: 0;}#sk-197551e7-fff8-4132-8c3d-3b7746e865e7 div.sk-toggleable {background-color: white;}#sk-197551e7-fff8-4132-8c3d-3b7746e865e7 label.sk-toggleable__label {cursor: pointer;display: block;width: 100%;margin-bottom: 0;padding: 0.3em;box-sizing: border-box;text-align: center;}#sk-197551e7-fff8-4132-8c3d-3b7746e865e7 label.sk-toggleable__label-arrow:before {content: \"▸\";float: left;margin-right: 0.25em;color: #696969;}#sk-197551e7-fff8-4132-8c3d-3b7746e865e7 label.sk-toggleable__label-arrow:hover:before {color: black;}#sk-197551e7-fff8-4132-8c3d-3b7746e865e7 div.sk-estimator:hover label.sk-toggleable__label-arrow:before {color: black;}#sk-197551e7-fff8-4132-8c3d-3b7746e865e7 div.sk-toggleable__content {max-height: 0;max-width: 0;overflow: hidden;text-align: left;background-color: #f0f8ff;}#sk-197551e7-fff8-4132-8c3d-3b7746e865e7 div.sk-toggleable__content pre {margin: 0.2em;color: black;border-radius: 0.25em;background-color: #f0f8ff;}#sk-197551e7-fff8-4132-8c3d-3b7746e865e7 input.sk-toggleable__control:checked~div.sk-toggleable__content {max-height: 200px;max-width: 100%;overflow: auto;}#sk-197551e7-fff8-4132-8c3d-3b7746e865e7 input.sk-toggleable__control:checked~label.sk-toggleable__label-arrow:before {content: \"▾\";}#sk-197551e7-fff8-4132-8c3d-3b7746e865e7 div.sk-estimator input.sk-toggleable__control:checked~label.sk-toggleable__label {background-color: #d4ebff;}#sk-197551e7-fff8-4132-8c3d-3b7746e865e7 div.sk-label input.sk-toggleable__control:checked~label.sk-toggleable__label {background-color: #d4ebff;}#sk-197551e7-fff8-4132-8c3d-3b7746e865e7 input.sk-hidden--visually {border: 0;clip: rect(1px 1px 1px 1px);clip: rect(1px, 1px, 1px, 1px);height: 1px;margin: -1px;overflow: hidden;padding: 0;position: absolute;width: 1px;}#sk-197551e7-fff8-4132-8c3d-3b7746e865e7 div.sk-estimator {font-family: monospace;background-color: #f0f8ff;border: 1px dotted black;border-radius: 0.25em;box-sizing: border-box;margin-bottom: 0.5em;}#sk-197551e7-fff8-4132-8c3d-3b7746e865e7 div.sk-estimator:hover {background-color: #d4ebff;}#sk-197551e7-fff8-4132-8c3d-3b7746e865e7 div.sk-parallel-item::after {content: \"\";width: 100%;border-bottom: 1px solid gray;flex-grow: 1;}#sk-197551e7-fff8-4132-8c3d-3b7746e865e7 div.sk-label:hover label.sk-toggleable__label {background-color: #d4ebff;}#sk-197551e7-fff8-4132-8c3d-3b7746e865e7 div.sk-serial::before {content: \"\";position: absolute;border-left: 1px solid gray;box-sizing: border-box;top: 2em;bottom: 0;left: 50%;}#sk-197551e7-fff8-4132-8c3d-3b7746e865e7 div.sk-serial {display: flex;flex-direction: column;align-items: center;background-color: white;padding-right: 0.2em;padding-left: 0.2em;}#sk-197551e7-fff8-4132-8c3d-3b7746e865e7 div.sk-item {z-index: 1;}#sk-197551e7-fff8-4132-8c3d-3b7746e865e7 div.sk-parallel {display: flex;align-items: stretch;justify-content: center;background-color: white;}#sk-197551e7-fff8-4132-8c3d-3b7746e865e7 div.sk-parallel::before {content: \"\";position: absolute;border-left: 1px solid gray;box-sizing: border-box;top: 2em;bottom: 0;left: 50%;}#sk-197551e7-fff8-4132-8c3d-3b7746e865e7 div.sk-parallel-item {display: flex;flex-direction: column;position: relative;background-color: white;}#sk-197551e7-fff8-4132-8c3d-3b7746e865e7 div.sk-parallel-item:first-child::after {align-self: flex-end;width: 50%;}#sk-197551e7-fff8-4132-8c3d-3b7746e865e7 div.sk-parallel-item:last-child::after {align-self: flex-start;width: 50%;}#sk-197551e7-fff8-4132-8c3d-3b7746e865e7 div.sk-parallel-item:only-child::after {width: 0;}#sk-197551e7-fff8-4132-8c3d-3b7746e865e7 div.sk-dashed-wrapped {border: 1px dashed gray;margin: 0 0.4em 0.5em 0.4em;box-sizing: border-box;padding-bottom: 0.4em;background-color: white;position: relative;}#sk-197551e7-fff8-4132-8c3d-3b7746e865e7 div.sk-label label {font-family: monospace;font-weight: bold;background-color: white;display: inline-block;line-height: 1.2em;}#sk-197551e7-fff8-4132-8c3d-3b7746e865e7 div.sk-label-container {position: relative;z-index: 2;text-align: center;}#sk-197551e7-fff8-4132-8c3d-3b7746e865e7 div.sk-container {/* jupyter's `normalize.less` sets `[hidden] { display: none; }` but bootstrap.min.css set `[hidden] { display: none !important; }` so we also need the `!important` here to be able to override the default hidden behavior on the sphinx rendered scikit-learn.org. See: https://github.com/scikit-learn/scikit-learn/issues/21755 */display: inline-block !important;position: relative;}#sk-197551e7-fff8-4132-8c3d-3b7746e865e7 div.sk-text-repr-fallback {display: none;}</style><div id=\"sk-197551e7-fff8-4132-8c3d-3b7746e865e7\" class=\"sk-top-container\"><div class=\"sk-text-repr-fallback\"><pre>Pipeline(steps=[(&#x27;columntransformer&#x27;,\n",
              "                 ColumnTransformer(transformers=[(&#x27;catagorical&#x27;,\n",
              "                                                  Pipeline(steps=[(&#x27;one_hot&#x27;,\n",
              "                                                                   OneHotEncoder(drop=&#x27;first&#x27;,\n",
              "                                                                                 handle_unknown=&#x27;ignore&#x27;,\n",
              "                                                                                 sparse=False))]),\n",
              "                                                  [&#x27;Company&#x27;, &#x27;TypeName&#x27;,\n",
              "                                                   &#x27;OpSys&#x27;, &#x27;Cpu_name&#x27;,\n",
              "                                                   &#x27;Gpu_brand&#x27;]),\n",
              "                                                 (&#x27;numeric&#x27;,\n",
              "                                                  Pipeline(steps=[(&#x27;standard &#x27;\n",
              "                                                                   &#x27;scaler&#x27;,\n",
              "                                                                   StandardScaler())]),\n",
              "                                                  [&#x27;Weight&#x27;, &#x27;ppi&#x27;, &#x27;SSD&#x27;,\n",
              "                                                   &#x27;HDD&#x27;])])),\n",
              "                (&#x27;linearregression&#x27;, LinearRegression())])</pre><b>Please rerun this cell to show the HTML repr or trust the notebook.</b></div><div class=\"sk-container\" hidden><div class=\"sk-item sk-dashed-wrapped\"><div class=\"sk-label-container\"><div class=\"sk-label sk-toggleable\"><input class=\"sk-toggleable__control sk-hidden--visually\" id=\"c5afd6af-e405-433a-b0bd-9b600348c627\" type=\"checkbox\" ><label for=\"c5afd6af-e405-433a-b0bd-9b600348c627\" class=\"sk-toggleable__label sk-toggleable__label-arrow\">Pipeline</label><div class=\"sk-toggleable__content\"><pre>Pipeline(steps=[(&#x27;columntransformer&#x27;,\n",
              "                 ColumnTransformer(transformers=[(&#x27;catagorical&#x27;,\n",
              "                                                  Pipeline(steps=[(&#x27;one_hot&#x27;,\n",
              "                                                                   OneHotEncoder(drop=&#x27;first&#x27;,\n",
              "                                                                                 handle_unknown=&#x27;ignore&#x27;,\n",
              "                                                                                 sparse=False))]),\n",
              "                                                  [&#x27;Company&#x27;, &#x27;TypeName&#x27;,\n",
              "                                                   &#x27;OpSys&#x27;, &#x27;Cpu_name&#x27;,\n",
              "                                                   &#x27;Gpu_brand&#x27;]),\n",
              "                                                 (&#x27;numeric&#x27;,\n",
              "                                                  Pipeline(steps=[(&#x27;standard &#x27;\n",
              "                                                                   &#x27;scaler&#x27;,\n",
              "                                                                   StandardScaler())]),\n",
              "                                                  [&#x27;Weight&#x27;, &#x27;ppi&#x27;, &#x27;SSD&#x27;,\n",
              "                                                   &#x27;HDD&#x27;])])),\n",
              "                (&#x27;linearregression&#x27;, LinearRegression())])</pre></div></div></div><div class=\"sk-serial\"><div class=\"sk-item sk-dashed-wrapped\"><div class=\"sk-label-container\"><div class=\"sk-label sk-toggleable\"><input class=\"sk-toggleable__control sk-hidden--visually\" id=\"9366bb2f-0621-4f0d-9892-47efad47ff78\" type=\"checkbox\" ><label for=\"9366bb2f-0621-4f0d-9892-47efad47ff78\" class=\"sk-toggleable__label sk-toggleable__label-arrow\">columntransformer: ColumnTransformer</label><div class=\"sk-toggleable__content\"><pre>ColumnTransformer(transformers=[(&#x27;catagorical&#x27;,\n",
              "                                 Pipeline(steps=[(&#x27;one_hot&#x27;,\n",
              "                                                  OneHotEncoder(drop=&#x27;first&#x27;,\n",
              "                                                                handle_unknown=&#x27;ignore&#x27;,\n",
              "                                                                sparse=False))]),\n",
              "                                 [&#x27;Company&#x27;, &#x27;TypeName&#x27;, &#x27;OpSys&#x27;, &#x27;Cpu_name&#x27;,\n",
              "                                  &#x27;Gpu_brand&#x27;]),\n",
              "                                (&#x27;numeric&#x27;,\n",
              "                                 Pipeline(steps=[(&#x27;standard scaler&#x27;,\n",
              "                                                  StandardScaler())]),\n",
              "                                 [&#x27;Weight&#x27;, &#x27;ppi&#x27;, &#x27;SSD&#x27;, &#x27;HDD&#x27;])])</pre></div></div></div><div class=\"sk-parallel\"><div class=\"sk-parallel-item\"><div class=\"sk-item\"><div class=\"sk-label-container\"><div class=\"sk-label sk-toggleable\"><input class=\"sk-toggleable__control sk-hidden--visually\" id=\"8228b2f5-ae61-4356-8840-a6f028a8b49a\" type=\"checkbox\" ><label for=\"8228b2f5-ae61-4356-8840-a6f028a8b49a\" class=\"sk-toggleable__label sk-toggleable__label-arrow\">catagorical</label><div class=\"sk-toggleable__content\"><pre>[&#x27;Company&#x27;, &#x27;TypeName&#x27;, &#x27;OpSys&#x27;, &#x27;Cpu_name&#x27;, &#x27;Gpu_brand&#x27;]</pre></div></div></div><div class=\"sk-serial\"><div class=\"sk-item\"><div class=\"sk-serial\"><div class=\"sk-item\"><div class=\"sk-estimator sk-toggleable\"><input class=\"sk-toggleable__control sk-hidden--visually\" id=\"bdea4fe4-8ba5-4974-9528-eb13b0bb1c08\" type=\"checkbox\" ><label for=\"bdea4fe4-8ba5-4974-9528-eb13b0bb1c08\" class=\"sk-toggleable__label sk-toggleable__label-arrow\">OneHotEncoder</label><div class=\"sk-toggleable__content\"><pre>OneHotEncoder(drop=&#x27;first&#x27;, handle_unknown=&#x27;ignore&#x27;, sparse=False)</pre></div></div></div></div></div></div></div></div><div class=\"sk-parallel-item\"><div class=\"sk-item\"><div class=\"sk-label-container\"><div class=\"sk-label sk-toggleable\"><input class=\"sk-toggleable__control sk-hidden--visually\" id=\"d7eda125-a230-497b-bea6-cde049ab4610\" type=\"checkbox\" ><label for=\"d7eda125-a230-497b-bea6-cde049ab4610\" class=\"sk-toggleable__label sk-toggleable__label-arrow\">numeric</label><div class=\"sk-toggleable__content\"><pre>[&#x27;Weight&#x27;, &#x27;ppi&#x27;, &#x27;SSD&#x27;, &#x27;HDD&#x27;]</pre></div></div></div><div class=\"sk-serial\"><div class=\"sk-item\"><div class=\"sk-serial\"><div class=\"sk-item\"><div class=\"sk-estimator sk-toggleable\"><input class=\"sk-toggleable__control sk-hidden--visually\" id=\"ef9eace1-e3db-47a3-81f4-91e84053f1eb\" type=\"checkbox\" ><label for=\"ef9eace1-e3db-47a3-81f4-91e84053f1eb\" class=\"sk-toggleable__label sk-toggleable__label-arrow\">StandardScaler</label><div class=\"sk-toggleable__content\"><pre>StandardScaler()</pre></div></div></div></div></div></div></div></div></div></div><div class=\"sk-item\"><div class=\"sk-estimator sk-toggleable\"><input class=\"sk-toggleable__control sk-hidden--visually\" id=\"005bf1fa-7e59-4c2e-b64f-6e75cc838fe6\" type=\"checkbox\" ><label for=\"005bf1fa-7e59-4c2e-b64f-6e75cc838fe6\" class=\"sk-toggleable__label sk-toggleable__label-arrow\">LinearRegression</label><div class=\"sk-toggleable__content\"><pre>LinearRegression()</pre></div></div></div></div></div></div></div>"
            ]
          },
          "metadata": {},
          "execution_count": 526
        }
      ]
    },
    {
      "cell_type": "code",
      "source": [
        "best_model(DecisionTreeRegressor(max_depth=8),X_train,y_train,y_test)"
      ],
      "metadata": {
        "colab": {
          "base_uri": "https://localhost:8080/",
          "height": 210
        },
        "id": "xRSk-9yOuxNU",
        "outputId": "d59b2d5c-45a7-4f89-920b-a39c24716f06"
      },
      "execution_count": 527,
      "outputs": [
        {
          "output_type": "stream",
          "name": "stdout",
          "text": [
            "for DecisionTreeRegressor(max_depth=8) the r2 Score is 0.8251105088805953\n"
          ]
        },
        {
          "output_type": "execute_result",
          "data": {
            "text/plain": [
              "Pipeline(steps=[('columntransformer',\n",
              "                 ColumnTransformer(transformers=[('catagorical',\n",
              "                                                  Pipeline(steps=[('one_hot',\n",
              "                                                                   OneHotEncoder(drop='first',\n",
              "                                                                                 handle_unknown='ignore',\n",
              "                                                                                 sparse=False))]),\n",
              "                                                  ['Company', 'TypeName',\n",
              "                                                   'OpSys', 'Cpu_name',\n",
              "                                                   'Gpu_brand']),\n",
              "                                                 ('numeric',\n",
              "                                                  Pipeline(steps=[('standard '\n",
              "                                                                   'scaler',\n",
              "                                                                   StandardScaler())]),\n",
              "                                                  ['Weight', 'ppi', 'SSD',\n",
              "                                                   'HDD'])])),\n",
              "                ('decisiontreeregressor', DecisionTreeRegressor(max_depth=8))])"
            ],
            "text/html": [
              "<style>#sk-f7949690-6c30-4872-a09a-6854edff0425 {color: black;background-color: white;}#sk-f7949690-6c30-4872-a09a-6854edff0425 pre{padding: 0;}#sk-f7949690-6c30-4872-a09a-6854edff0425 div.sk-toggleable {background-color: white;}#sk-f7949690-6c30-4872-a09a-6854edff0425 label.sk-toggleable__label {cursor: pointer;display: block;width: 100%;margin-bottom: 0;padding: 0.3em;box-sizing: border-box;text-align: center;}#sk-f7949690-6c30-4872-a09a-6854edff0425 label.sk-toggleable__label-arrow:before {content: \"▸\";float: left;margin-right: 0.25em;color: #696969;}#sk-f7949690-6c30-4872-a09a-6854edff0425 label.sk-toggleable__label-arrow:hover:before {color: black;}#sk-f7949690-6c30-4872-a09a-6854edff0425 div.sk-estimator:hover label.sk-toggleable__label-arrow:before {color: black;}#sk-f7949690-6c30-4872-a09a-6854edff0425 div.sk-toggleable__content {max-height: 0;max-width: 0;overflow: hidden;text-align: left;background-color: #f0f8ff;}#sk-f7949690-6c30-4872-a09a-6854edff0425 div.sk-toggleable__content pre {margin: 0.2em;color: black;border-radius: 0.25em;background-color: #f0f8ff;}#sk-f7949690-6c30-4872-a09a-6854edff0425 input.sk-toggleable__control:checked~div.sk-toggleable__content {max-height: 200px;max-width: 100%;overflow: auto;}#sk-f7949690-6c30-4872-a09a-6854edff0425 input.sk-toggleable__control:checked~label.sk-toggleable__label-arrow:before {content: \"▾\";}#sk-f7949690-6c30-4872-a09a-6854edff0425 div.sk-estimator input.sk-toggleable__control:checked~label.sk-toggleable__label {background-color: #d4ebff;}#sk-f7949690-6c30-4872-a09a-6854edff0425 div.sk-label input.sk-toggleable__control:checked~label.sk-toggleable__label {background-color: #d4ebff;}#sk-f7949690-6c30-4872-a09a-6854edff0425 input.sk-hidden--visually {border: 0;clip: rect(1px 1px 1px 1px);clip: rect(1px, 1px, 1px, 1px);height: 1px;margin: -1px;overflow: hidden;padding: 0;position: absolute;width: 1px;}#sk-f7949690-6c30-4872-a09a-6854edff0425 div.sk-estimator {font-family: monospace;background-color: #f0f8ff;border: 1px dotted black;border-radius: 0.25em;box-sizing: border-box;margin-bottom: 0.5em;}#sk-f7949690-6c30-4872-a09a-6854edff0425 div.sk-estimator:hover {background-color: #d4ebff;}#sk-f7949690-6c30-4872-a09a-6854edff0425 div.sk-parallel-item::after {content: \"\";width: 100%;border-bottom: 1px solid gray;flex-grow: 1;}#sk-f7949690-6c30-4872-a09a-6854edff0425 div.sk-label:hover label.sk-toggleable__label {background-color: #d4ebff;}#sk-f7949690-6c30-4872-a09a-6854edff0425 div.sk-serial::before {content: \"\";position: absolute;border-left: 1px solid gray;box-sizing: border-box;top: 2em;bottom: 0;left: 50%;}#sk-f7949690-6c30-4872-a09a-6854edff0425 div.sk-serial {display: flex;flex-direction: column;align-items: center;background-color: white;padding-right: 0.2em;padding-left: 0.2em;}#sk-f7949690-6c30-4872-a09a-6854edff0425 div.sk-item {z-index: 1;}#sk-f7949690-6c30-4872-a09a-6854edff0425 div.sk-parallel {display: flex;align-items: stretch;justify-content: center;background-color: white;}#sk-f7949690-6c30-4872-a09a-6854edff0425 div.sk-parallel::before {content: \"\";position: absolute;border-left: 1px solid gray;box-sizing: border-box;top: 2em;bottom: 0;left: 50%;}#sk-f7949690-6c30-4872-a09a-6854edff0425 div.sk-parallel-item {display: flex;flex-direction: column;position: relative;background-color: white;}#sk-f7949690-6c30-4872-a09a-6854edff0425 div.sk-parallel-item:first-child::after {align-self: flex-end;width: 50%;}#sk-f7949690-6c30-4872-a09a-6854edff0425 div.sk-parallel-item:last-child::after {align-self: flex-start;width: 50%;}#sk-f7949690-6c30-4872-a09a-6854edff0425 div.sk-parallel-item:only-child::after {width: 0;}#sk-f7949690-6c30-4872-a09a-6854edff0425 div.sk-dashed-wrapped {border: 1px dashed gray;margin: 0 0.4em 0.5em 0.4em;box-sizing: border-box;padding-bottom: 0.4em;background-color: white;position: relative;}#sk-f7949690-6c30-4872-a09a-6854edff0425 div.sk-label label {font-family: monospace;font-weight: bold;background-color: white;display: inline-block;line-height: 1.2em;}#sk-f7949690-6c30-4872-a09a-6854edff0425 div.sk-label-container {position: relative;z-index: 2;text-align: center;}#sk-f7949690-6c30-4872-a09a-6854edff0425 div.sk-container {/* jupyter's `normalize.less` sets `[hidden] { display: none; }` but bootstrap.min.css set `[hidden] { display: none !important; }` so we also need the `!important` here to be able to override the default hidden behavior on the sphinx rendered scikit-learn.org. See: https://github.com/scikit-learn/scikit-learn/issues/21755 */display: inline-block !important;position: relative;}#sk-f7949690-6c30-4872-a09a-6854edff0425 div.sk-text-repr-fallback {display: none;}</style><div id=\"sk-f7949690-6c30-4872-a09a-6854edff0425\" class=\"sk-top-container\"><div class=\"sk-text-repr-fallback\"><pre>Pipeline(steps=[(&#x27;columntransformer&#x27;,\n",
              "                 ColumnTransformer(transformers=[(&#x27;catagorical&#x27;,\n",
              "                                                  Pipeline(steps=[(&#x27;one_hot&#x27;,\n",
              "                                                                   OneHotEncoder(drop=&#x27;first&#x27;,\n",
              "                                                                                 handle_unknown=&#x27;ignore&#x27;,\n",
              "                                                                                 sparse=False))]),\n",
              "                                                  [&#x27;Company&#x27;, &#x27;TypeName&#x27;,\n",
              "                                                   &#x27;OpSys&#x27;, &#x27;Cpu_name&#x27;,\n",
              "                                                   &#x27;Gpu_brand&#x27;]),\n",
              "                                                 (&#x27;numeric&#x27;,\n",
              "                                                  Pipeline(steps=[(&#x27;standard &#x27;\n",
              "                                                                   &#x27;scaler&#x27;,\n",
              "                                                                   StandardScaler())]),\n",
              "                                                  [&#x27;Weight&#x27;, &#x27;ppi&#x27;, &#x27;SSD&#x27;,\n",
              "                                                   &#x27;HDD&#x27;])])),\n",
              "                (&#x27;decisiontreeregressor&#x27;, DecisionTreeRegressor(max_depth=8))])</pre><b>Please rerun this cell to show the HTML repr or trust the notebook.</b></div><div class=\"sk-container\" hidden><div class=\"sk-item sk-dashed-wrapped\"><div class=\"sk-label-container\"><div class=\"sk-label sk-toggleable\"><input class=\"sk-toggleable__control sk-hidden--visually\" id=\"f1c77918-0271-436a-bca1-c984fbeb3a17\" type=\"checkbox\" ><label for=\"f1c77918-0271-436a-bca1-c984fbeb3a17\" class=\"sk-toggleable__label sk-toggleable__label-arrow\">Pipeline</label><div class=\"sk-toggleable__content\"><pre>Pipeline(steps=[(&#x27;columntransformer&#x27;,\n",
              "                 ColumnTransformer(transformers=[(&#x27;catagorical&#x27;,\n",
              "                                                  Pipeline(steps=[(&#x27;one_hot&#x27;,\n",
              "                                                                   OneHotEncoder(drop=&#x27;first&#x27;,\n",
              "                                                                                 handle_unknown=&#x27;ignore&#x27;,\n",
              "                                                                                 sparse=False))]),\n",
              "                                                  [&#x27;Company&#x27;, &#x27;TypeName&#x27;,\n",
              "                                                   &#x27;OpSys&#x27;, &#x27;Cpu_name&#x27;,\n",
              "                                                   &#x27;Gpu_brand&#x27;]),\n",
              "                                                 (&#x27;numeric&#x27;,\n",
              "                                                  Pipeline(steps=[(&#x27;standard &#x27;\n",
              "                                                                   &#x27;scaler&#x27;,\n",
              "                                                                   StandardScaler())]),\n",
              "                                                  [&#x27;Weight&#x27;, &#x27;ppi&#x27;, &#x27;SSD&#x27;,\n",
              "                                                   &#x27;HDD&#x27;])])),\n",
              "                (&#x27;decisiontreeregressor&#x27;, DecisionTreeRegressor(max_depth=8))])</pre></div></div></div><div class=\"sk-serial\"><div class=\"sk-item sk-dashed-wrapped\"><div class=\"sk-label-container\"><div class=\"sk-label sk-toggleable\"><input class=\"sk-toggleable__control sk-hidden--visually\" id=\"c194d122-a2bc-4f1a-9e03-4c0f6e2cd98b\" type=\"checkbox\" ><label for=\"c194d122-a2bc-4f1a-9e03-4c0f6e2cd98b\" class=\"sk-toggleable__label sk-toggleable__label-arrow\">columntransformer: ColumnTransformer</label><div class=\"sk-toggleable__content\"><pre>ColumnTransformer(transformers=[(&#x27;catagorical&#x27;,\n",
              "                                 Pipeline(steps=[(&#x27;one_hot&#x27;,\n",
              "                                                  OneHotEncoder(drop=&#x27;first&#x27;,\n",
              "                                                                handle_unknown=&#x27;ignore&#x27;,\n",
              "                                                                sparse=False))]),\n",
              "                                 [&#x27;Company&#x27;, &#x27;TypeName&#x27;, &#x27;OpSys&#x27;, &#x27;Cpu_name&#x27;,\n",
              "                                  &#x27;Gpu_brand&#x27;]),\n",
              "                                (&#x27;numeric&#x27;,\n",
              "                                 Pipeline(steps=[(&#x27;standard scaler&#x27;,\n",
              "                                                  StandardScaler())]),\n",
              "                                 [&#x27;Weight&#x27;, &#x27;ppi&#x27;, &#x27;SSD&#x27;, &#x27;HDD&#x27;])])</pre></div></div></div><div class=\"sk-parallel\"><div class=\"sk-parallel-item\"><div class=\"sk-item\"><div class=\"sk-label-container\"><div class=\"sk-label sk-toggleable\"><input class=\"sk-toggleable__control sk-hidden--visually\" id=\"eeda2f02-dafd-4c89-a5cb-5406dc0f03ab\" type=\"checkbox\" ><label for=\"eeda2f02-dafd-4c89-a5cb-5406dc0f03ab\" class=\"sk-toggleable__label sk-toggleable__label-arrow\">catagorical</label><div class=\"sk-toggleable__content\"><pre>[&#x27;Company&#x27;, &#x27;TypeName&#x27;, &#x27;OpSys&#x27;, &#x27;Cpu_name&#x27;, &#x27;Gpu_brand&#x27;]</pre></div></div></div><div class=\"sk-serial\"><div class=\"sk-item\"><div class=\"sk-serial\"><div class=\"sk-item\"><div class=\"sk-estimator sk-toggleable\"><input class=\"sk-toggleable__control sk-hidden--visually\" id=\"ea8b7e43-8406-46d4-a4bc-c19a17c11247\" type=\"checkbox\" ><label for=\"ea8b7e43-8406-46d4-a4bc-c19a17c11247\" class=\"sk-toggleable__label sk-toggleable__label-arrow\">OneHotEncoder</label><div class=\"sk-toggleable__content\"><pre>OneHotEncoder(drop=&#x27;first&#x27;, handle_unknown=&#x27;ignore&#x27;, sparse=False)</pre></div></div></div></div></div></div></div></div><div class=\"sk-parallel-item\"><div class=\"sk-item\"><div class=\"sk-label-container\"><div class=\"sk-label sk-toggleable\"><input class=\"sk-toggleable__control sk-hidden--visually\" id=\"4d552a49-7ed6-4c86-a179-d25be1903620\" type=\"checkbox\" ><label for=\"4d552a49-7ed6-4c86-a179-d25be1903620\" class=\"sk-toggleable__label sk-toggleable__label-arrow\">numeric</label><div class=\"sk-toggleable__content\"><pre>[&#x27;Weight&#x27;, &#x27;ppi&#x27;, &#x27;SSD&#x27;, &#x27;HDD&#x27;]</pre></div></div></div><div class=\"sk-serial\"><div class=\"sk-item\"><div class=\"sk-serial\"><div class=\"sk-item\"><div class=\"sk-estimator sk-toggleable\"><input class=\"sk-toggleable__control sk-hidden--visually\" id=\"471f50cc-e59d-4341-94cd-cdd3a9d08eb4\" type=\"checkbox\" ><label for=\"471f50cc-e59d-4341-94cd-cdd3a9d08eb4\" class=\"sk-toggleable__label sk-toggleable__label-arrow\">StandardScaler</label><div class=\"sk-toggleable__content\"><pre>StandardScaler()</pre></div></div></div></div></div></div></div></div></div></div><div class=\"sk-item\"><div class=\"sk-estimator sk-toggleable\"><input class=\"sk-toggleable__control sk-hidden--visually\" id=\"7469ad1c-f94f-4091-a143-70314744efff\" type=\"checkbox\" ><label for=\"7469ad1c-f94f-4091-a143-70314744efff\" class=\"sk-toggleable__label sk-toggleable__label-arrow\">DecisionTreeRegressor</label><div class=\"sk-toggleable__content\"><pre>DecisionTreeRegressor(max_depth=8)</pre></div></div></div></div></div></div></div>"
            ]
          },
          "metadata": {},
          "execution_count": 527
        }
      ]
    },
    {
      "cell_type": "code",
      "source": [
        "best_model(SVR(),X_train,y_train,y_test)"
      ],
      "metadata": {
        "colab": {
          "base_uri": "https://localhost:8080/",
          "height": 210
        },
        "id": "MXFnIvTju7kg",
        "outputId": "36c8948c-2b66-45d6-8cd8-62179a3aec6b"
      },
      "execution_count": 529,
      "outputs": [
        {
          "output_type": "stream",
          "name": "stdout",
          "text": [
            "for SVR() the r2 Score is 0.8697314283572288\n"
          ]
        },
        {
          "output_type": "execute_result",
          "data": {
            "text/plain": [
              "Pipeline(steps=[('columntransformer',\n",
              "                 ColumnTransformer(transformers=[('catagorical',\n",
              "                                                  Pipeline(steps=[('one_hot',\n",
              "                                                                   OneHotEncoder(drop='first',\n",
              "                                                                                 handle_unknown='ignore',\n",
              "                                                                                 sparse=False))]),\n",
              "                                                  ['Company', 'TypeName',\n",
              "                                                   'OpSys', 'Cpu_name',\n",
              "                                                   'Gpu_brand']),\n",
              "                                                 ('numeric',\n",
              "                                                  Pipeline(steps=[('standard '\n",
              "                                                                   'scaler',\n",
              "                                                                   StandardScaler())]),\n",
              "                                                  ['Weight', 'ppi', 'SSD',\n",
              "                                                   'HDD'])])),\n",
              "                ('svr', SVR())])"
            ],
            "text/html": [
              "<style>#sk-4315e34e-6ed1-44fe-84fb-f157e40e1e93 {color: black;background-color: white;}#sk-4315e34e-6ed1-44fe-84fb-f157e40e1e93 pre{padding: 0;}#sk-4315e34e-6ed1-44fe-84fb-f157e40e1e93 div.sk-toggleable {background-color: white;}#sk-4315e34e-6ed1-44fe-84fb-f157e40e1e93 label.sk-toggleable__label {cursor: pointer;display: block;width: 100%;margin-bottom: 0;padding: 0.3em;box-sizing: border-box;text-align: center;}#sk-4315e34e-6ed1-44fe-84fb-f157e40e1e93 label.sk-toggleable__label-arrow:before {content: \"▸\";float: left;margin-right: 0.25em;color: #696969;}#sk-4315e34e-6ed1-44fe-84fb-f157e40e1e93 label.sk-toggleable__label-arrow:hover:before {color: black;}#sk-4315e34e-6ed1-44fe-84fb-f157e40e1e93 div.sk-estimator:hover label.sk-toggleable__label-arrow:before {color: black;}#sk-4315e34e-6ed1-44fe-84fb-f157e40e1e93 div.sk-toggleable__content {max-height: 0;max-width: 0;overflow: hidden;text-align: left;background-color: #f0f8ff;}#sk-4315e34e-6ed1-44fe-84fb-f157e40e1e93 div.sk-toggleable__content pre {margin: 0.2em;color: black;border-radius: 0.25em;background-color: #f0f8ff;}#sk-4315e34e-6ed1-44fe-84fb-f157e40e1e93 input.sk-toggleable__control:checked~div.sk-toggleable__content {max-height: 200px;max-width: 100%;overflow: auto;}#sk-4315e34e-6ed1-44fe-84fb-f157e40e1e93 input.sk-toggleable__control:checked~label.sk-toggleable__label-arrow:before {content: \"▾\";}#sk-4315e34e-6ed1-44fe-84fb-f157e40e1e93 div.sk-estimator input.sk-toggleable__control:checked~label.sk-toggleable__label {background-color: #d4ebff;}#sk-4315e34e-6ed1-44fe-84fb-f157e40e1e93 div.sk-label input.sk-toggleable__control:checked~label.sk-toggleable__label {background-color: #d4ebff;}#sk-4315e34e-6ed1-44fe-84fb-f157e40e1e93 input.sk-hidden--visually {border: 0;clip: rect(1px 1px 1px 1px);clip: rect(1px, 1px, 1px, 1px);height: 1px;margin: -1px;overflow: hidden;padding: 0;position: absolute;width: 1px;}#sk-4315e34e-6ed1-44fe-84fb-f157e40e1e93 div.sk-estimator {font-family: monospace;background-color: #f0f8ff;border: 1px dotted black;border-radius: 0.25em;box-sizing: border-box;margin-bottom: 0.5em;}#sk-4315e34e-6ed1-44fe-84fb-f157e40e1e93 div.sk-estimator:hover {background-color: #d4ebff;}#sk-4315e34e-6ed1-44fe-84fb-f157e40e1e93 div.sk-parallel-item::after {content: \"\";width: 100%;border-bottom: 1px solid gray;flex-grow: 1;}#sk-4315e34e-6ed1-44fe-84fb-f157e40e1e93 div.sk-label:hover label.sk-toggleable__label {background-color: #d4ebff;}#sk-4315e34e-6ed1-44fe-84fb-f157e40e1e93 div.sk-serial::before {content: \"\";position: absolute;border-left: 1px solid gray;box-sizing: border-box;top: 2em;bottom: 0;left: 50%;}#sk-4315e34e-6ed1-44fe-84fb-f157e40e1e93 div.sk-serial {display: flex;flex-direction: column;align-items: center;background-color: white;padding-right: 0.2em;padding-left: 0.2em;}#sk-4315e34e-6ed1-44fe-84fb-f157e40e1e93 div.sk-item {z-index: 1;}#sk-4315e34e-6ed1-44fe-84fb-f157e40e1e93 div.sk-parallel {display: flex;align-items: stretch;justify-content: center;background-color: white;}#sk-4315e34e-6ed1-44fe-84fb-f157e40e1e93 div.sk-parallel::before {content: \"\";position: absolute;border-left: 1px solid gray;box-sizing: border-box;top: 2em;bottom: 0;left: 50%;}#sk-4315e34e-6ed1-44fe-84fb-f157e40e1e93 div.sk-parallel-item {display: flex;flex-direction: column;position: relative;background-color: white;}#sk-4315e34e-6ed1-44fe-84fb-f157e40e1e93 div.sk-parallel-item:first-child::after {align-self: flex-end;width: 50%;}#sk-4315e34e-6ed1-44fe-84fb-f157e40e1e93 div.sk-parallel-item:last-child::after {align-self: flex-start;width: 50%;}#sk-4315e34e-6ed1-44fe-84fb-f157e40e1e93 div.sk-parallel-item:only-child::after {width: 0;}#sk-4315e34e-6ed1-44fe-84fb-f157e40e1e93 div.sk-dashed-wrapped {border: 1px dashed gray;margin: 0 0.4em 0.5em 0.4em;box-sizing: border-box;padding-bottom: 0.4em;background-color: white;position: relative;}#sk-4315e34e-6ed1-44fe-84fb-f157e40e1e93 div.sk-label label {font-family: monospace;font-weight: bold;background-color: white;display: inline-block;line-height: 1.2em;}#sk-4315e34e-6ed1-44fe-84fb-f157e40e1e93 div.sk-label-container {position: relative;z-index: 2;text-align: center;}#sk-4315e34e-6ed1-44fe-84fb-f157e40e1e93 div.sk-container {/* jupyter's `normalize.less` sets `[hidden] { display: none; }` but bootstrap.min.css set `[hidden] { display: none !important; }` so we also need the `!important` here to be able to override the default hidden behavior on the sphinx rendered scikit-learn.org. See: https://github.com/scikit-learn/scikit-learn/issues/21755 */display: inline-block !important;position: relative;}#sk-4315e34e-6ed1-44fe-84fb-f157e40e1e93 div.sk-text-repr-fallback {display: none;}</style><div id=\"sk-4315e34e-6ed1-44fe-84fb-f157e40e1e93\" class=\"sk-top-container\"><div class=\"sk-text-repr-fallback\"><pre>Pipeline(steps=[(&#x27;columntransformer&#x27;,\n",
              "                 ColumnTransformer(transformers=[(&#x27;catagorical&#x27;,\n",
              "                                                  Pipeline(steps=[(&#x27;one_hot&#x27;,\n",
              "                                                                   OneHotEncoder(drop=&#x27;first&#x27;,\n",
              "                                                                                 handle_unknown=&#x27;ignore&#x27;,\n",
              "                                                                                 sparse=False))]),\n",
              "                                                  [&#x27;Company&#x27;, &#x27;TypeName&#x27;,\n",
              "                                                   &#x27;OpSys&#x27;, &#x27;Cpu_name&#x27;,\n",
              "                                                   &#x27;Gpu_brand&#x27;]),\n",
              "                                                 (&#x27;numeric&#x27;,\n",
              "                                                  Pipeline(steps=[(&#x27;standard &#x27;\n",
              "                                                                   &#x27;scaler&#x27;,\n",
              "                                                                   StandardScaler())]),\n",
              "                                                  [&#x27;Weight&#x27;, &#x27;ppi&#x27;, &#x27;SSD&#x27;,\n",
              "                                                   &#x27;HDD&#x27;])])),\n",
              "                (&#x27;svr&#x27;, SVR())])</pre><b>Please rerun this cell to show the HTML repr or trust the notebook.</b></div><div class=\"sk-container\" hidden><div class=\"sk-item sk-dashed-wrapped\"><div class=\"sk-label-container\"><div class=\"sk-label sk-toggleable\"><input class=\"sk-toggleable__control sk-hidden--visually\" id=\"0f9c375a-38f3-4168-b18b-e5b4dee48e8e\" type=\"checkbox\" ><label for=\"0f9c375a-38f3-4168-b18b-e5b4dee48e8e\" class=\"sk-toggleable__label sk-toggleable__label-arrow\">Pipeline</label><div class=\"sk-toggleable__content\"><pre>Pipeline(steps=[(&#x27;columntransformer&#x27;,\n",
              "                 ColumnTransformer(transformers=[(&#x27;catagorical&#x27;,\n",
              "                                                  Pipeline(steps=[(&#x27;one_hot&#x27;,\n",
              "                                                                   OneHotEncoder(drop=&#x27;first&#x27;,\n",
              "                                                                                 handle_unknown=&#x27;ignore&#x27;,\n",
              "                                                                                 sparse=False))]),\n",
              "                                                  [&#x27;Company&#x27;, &#x27;TypeName&#x27;,\n",
              "                                                   &#x27;OpSys&#x27;, &#x27;Cpu_name&#x27;,\n",
              "                                                   &#x27;Gpu_brand&#x27;]),\n",
              "                                                 (&#x27;numeric&#x27;,\n",
              "                                                  Pipeline(steps=[(&#x27;standard &#x27;\n",
              "                                                                   &#x27;scaler&#x27;,\n",
              "                                                                   StandardScaler())]),\n",
              "                                                  [&#x27;Weight&#x27;, &#x27;ppi&#x27;, &#x27;SSD&#x27;,\n",
              "                                                   &#x27;HDD&#x27;])])),\n",
              "                (&#x27;svr&#x27;, SVR())])</pre></div></div></div><div class=\"sk-serial\"><div class=\"sk-item sk-dashed-wrapped\"><div class=\"sk-label-container\"><div class=\"sk-label sk-toggleable\"><input class=\"sk-toggleable__control sk-hidden--visually\" id=\"8500a0f8-c8c0-4a79-900f-9859cc992406\" type=\"checkbox\" ><label for=\"8500a0f8-c8c0-4a79-900f-9859cc992406\" class=\"sk-toggleable__label sk-toggleable__label-arrow\">columntransformer: ColumnTransformer</label><div class=\"sk-toggleable__content\"><pre>ColumnTransformer(transformers=[(&#x27;catagorical&#x27;,\n",
              "                                 Pipeline(steps=[(&#x27;one_hot&#x27;,\n",
              "                                                  OneHotEncoder(drop=&#x27;first&#x27;,\n",
              "                                                                handle_unknown=&#x27;ignore&#x27;,\n",
              "                                                                sparse=False))]),\n",
              "                                 [&#x27;Company&#x27;, &#x27;TypeName&#x27;, &#x27;OpSys&#x27;, &#x27;Cpu_name&#x27;,\n",
              "                                  &#x27;Gpu_brand&#x27;]),\n",
              "                                (&#x27;numeric&#x27;,\n",
              "                                 Pipeline(steps=[(&#x27;standard scaler&#x27;,\n",
              "                                                  StandardScaler())]),\n",
              "                                 [&#x27;Weight&#x27;, &#x27;ppi&#x27;, &#x27;SSD&#x27;, &#x27;HDD&#x27;])])</pre></div></div></div><div class=\"sk-parallel\"><div class=\"sk-parallel-item\"><div class=\"sk-item\"><div class=\"sk-label-container\"><div class=\"sk-label sk-toggleable\"><input class=\"sk-toggleable__control sk-hidden--visually\" id=\"5b7db192-07a6-4f17-930c-b3821813fa85\" type=\"checkbox\" ><label for=\"5b7db192-07a6-4f17-930c-b3821813fa85\" class=\"sk-toggleable__label sk-toggleable__label-arrow\">catagorical</label><div class=\"sk-toggleable__content\"><pre>[&#x27;Company&#x27;, &#x27;TypeName&#x27;, &#x27;OpSys&#x27;, &#x27;Cpu_name&#x27;, &#x27;Gpu_brand&#x27;]</pre></div></div></div><div class=\"sk-serial\"><div class=\"sk-item\"><div class=\"sk-serial\"><div class=\"sk-item\"><div class=\"sk-estimator sk-toggleable\"><input class=\"sk-toggleable__control sk-hidden--visually\" id=\"e81e988f-4736-4def-94db-4edcba79aa6b\" type=\"checkbox\" ><label for=\"e81e988f-4736-4def-94db-4edcba79aa6b\" class=\"sk-toggleable__label sk-toggleable__label-arrow\">OneHotEncoder</label><div class=\"sk-toggleable__content\"><pre>OneHotEncoder(drop=&#x27;first&#x27;, handle_unknown=&#x27;ignore&#x27;, sparse=False)</pre></div></div></div></div></div></div></div></div><div class=\"sk-parallel-item\"><div class=\"sk-item\"><div class=\"sk-label-container\"><div class=\"sk-label sk-toggleable\"><input class=\"sk-toggleable__control sk-hidden--visually\" id=\"b38b99fb-9e63-417e-9ebb-7b8013cbd0ed\" type=\"checkbox\" ><label for=\"b38b99fb-9e63-417e-9ebb-7b8013cbd0ed\" class=\"sk-toggleable__label sk-toggleable__label-arrow\">numeric</label><div class=\"sk-toggleable__content\"><pre>[&#x27;Weight&#x27;, &#x27;ppi&#x27;, &#x27;SSD&#x27;, &#x27;HDD&#x27;]</pre></div></div></div><div class=\"sk-serial\"><div class=\"sk-item\"><div class=\"sk-serial\"><div class=\"sk-item\"><div class=\"sk-estimator sk-toggleable\"><input class=\"sk-toggleable__control sk-hidden--visually\" id=\"8bc1692b-0f03-4fac-957d-40f0a395a25b\" type=\"checkbox\" ><label for=\"8bc1692b-0f03-4fac-957d-40f0a395a25b\" class=\"sk-toggleable__label sk-toggleable__label-arrow\">StandardScaler</label><div class=\"sk-toggleable__content\"><pre>StandardScaler()</pre></div></div></div></div></div></div></div></div></div></div><div class=\"sk-item\"><div class=\"sk-estimator sk-toggleable\"><input class=\"sk-toggleable__control sk-hidden--visually\" id=\"7acb38f6-fc34-4ca6-9d4b-14e6f5fe8062\" type=\"checkbox\" ><label for=\"7acb38f6-fc34-4ca6-9d4b-14e6f5fe8062\" class=\"sk-toggleable__label sk-toggleable__label-arrow\">SVR</label><div class=\"sk-toggleable__content\"><pre>SVR()</pre></div></div></div></div></div></div></div>"
            ]
          },
          "metadata": {},
          "execution_count": 529
        }
      ]
    },
    {
      "cell_type": "code",
      "source": [
        "best_model(RandomForestRegressor(),X_train,y_train,y_test)"
      ],
      "metadata": {
        "colab": {
          "base_uri": "https://localhost:8080/",
          "height": 210
        },
        "id": "zMePorT9u8Bm",
        "outputId": "400e1238-d908-4d7c-fa17-8b2a5babb4b8"
      },
      "execution_count": 530,
      "outputs": [
        {
          "output_type": "stream",
          "name": "stdout",
          "text": [
            "for RandomForestRegressor() the r2 Score is 0.8746593402992022\n"
          ]
        },
        {
          "output_type": "execute_result",
          "data": {
            "text/plain": [
              "Pipeline(steps=[('columntransformer',\n",
              "                 ColumnTransformer(transformers=[('catagorical',\n",
              "                                                  Pipeline(steps=[('one_hot',\n",
              "                                                                   OneHotEncoder(drop='first',\n",
              "                                                                                 handle_unknown='ignore',\n",
              "                                                                                 sparse=False))]),\n",
              "                                                  ['Company', 'TypeName',\n",
              "                                                   'OpSys', 'Cpu_name',\n",
              "                                                   'Gpu_brand']),\n",
              "                                                 ('numeric',\n",
              "                                                  Pipeline(steps=[('standard '\n",
              "                                                                   'scaler',\n",
              "                                                                   StandardScaler())]),\n",
              "                                                  ['Weight', 'ppi', 'SSD',\n",
              "                                                   'HDD'])])),\n",
              "                ('randomforestregressor', RandomForestRegressor())])"
            ],
            "text/html": [
              "<style>#sk-29f62ff7-f1a0-4397-9d98-9fd6fc6615b3 {color: black;background-color: white;}#sk-29f62ff7-f1a0-4397-9d98-9fd6fc6615b3 pre{padding: 0;}#sk-29f62ff7-f1a0-4397-9d98-9fd6fc6615b3 div.sk-toggleable {background-color: white;}#sk-29f62ff7-f1a0-4397-9d98-9fd6fc6615b3 label.sk-toggleable__label {cursor: pointer;display: block;width: 100%;margin-bottom: 0;padding: 0.3em;box-sizing: border-box;text-align: center;}#sk-29f62ff7-f1a0-4397-9d98-9fd6fc6615b3 label.sk-toggleable__label-arrow:before {content: \"▸\";float: left;margin-right: 0.25em;color: #696969;}#sk-29f62ff7-f1a0-4397-9d98-9fd6fc6615b3 label.sk-toggleable__label-arrow:hover:before {color: black;}#sk-29f62ff7-f1a0-4397-9d98-9fd6fc6615b3 div.sk-estimator:hover label.sk-toggleable__label-arrow:before {color: black;}#sk-29f62ff7-f1a0-4397-9d98-9fd6fc6615b3 div.sk-toggleable__content {max-height: 0;max-width: 0;overflow: hidden;text-align: left;background-color: #f0f8ff;}#sk-29f62ff7-f1a0-4397-9d98-9fd6fc6615b3 div.sk-toggleable__content pre {margin: 0.2em;color: black;border-radius: 0.25em;background-color: #f0f8ff;}#sk-29f62ff7-f1a0-4397-9d98-9fd6fc6615b3 input.sk-toggleable__control:checked~div.sk-toggleable__content {max-height: 200px;max-width: 100%;overflow: auto;}#sk-29f62ff7-f1a0-4397-9d98-9fd6fc6615b3 input.sk-toggleable__control:checked~label.sk-toggleable__label-arrow:before {content: \"▾\";}#sk-29f62ff7-f1a0-4397-9d98-9fd6fc6615b3 div.sk-estimator input.sk-toggleable__control:checked~label.sk-toggleable__label {background-color: #d4ebff;}#sk-29f62ff7-f1a0-4397-9d98-9fd6fc6615b3 div.sk-label input.sk-toggleable__control:checked~label.sk-toggleable__label {background-color: #d4ebff;}#sk-29f62ff7-f1a0-4397-9d98-9fd6fc6615b3 input.sk-hidden--visually {border: 0;clip: rect(1px 1px 1px 1px);clip: rect(1px, 1px, 1px, 1px);height: 1px;margin: -1px;overflow: hidden;padding: 0;position: absolute;width: 1px;}#sk-29f62ff7-f1a0-4397-9d98-9fd6fc6615b3 div.sk-estimator {font-family: monospace;background-color: #f0f8ff;border: 1px dotted black;border-radius: 0.25em;box-sizing: border-box;margin-bottom: 0.5em;}#sk-29f62ff7-f1a0-4397-9d98-9fd6fc6615b3 div.sk-estimator:hover {background-color: #d4ebff;}#sk-29f62ff7-f1a0-4397-9d98-9fd6fc6615b3 div.sk-parallel-item::after {content: \"\";width: 100%;border-bottom: 1px solid gray;flex-grow: 1;}#sk-29f62ff7-f1a0-4397-9d98-9fd6fc6615b3 div.sk-label:hover label.sk-toggleable__label {background-color: #d4ebff;}#sk-29f62ff7-f1a0-4397-9d98-9fd6fc6615b3 div.sk-serial::before {content: \"\";position: absolute;border-left: 1px solid gray;box-sizing: border-box;top: 2em;bottom: 0;left: 50%;}#sk-29f62ff7-f1a0-4397-9d98-9fd6fc6615b3 div.sk-serial {display: flex;flex-direction: column;align-items: center;background-color: white;padding-right: 0.2em;padding-left: 0.2em;}#sk-29f62ff7-f1a0-4397-9d98-9fd6fc6615b3 div.sk-item {z-index: 1;}#sk-29f62ff7-f1a0-4397-9d98-9fd6fc6615b3 div.sk-parallel {display: flex;align-items: stretch;justify-content: center;background-color: white;}#sk-29f62ff7-f1a0-4397-9d98-9fd6fc6615b3 div.sk-parallel::before {content: \"\";position: absolute;border-left: 1px solid gray;box-sizing: border-box;top: 2em;bottom: 0;left: 50%;}#sk-29f62ff7-f1a0-4397-9d98-9fd6fc6615b3 div.sk-parallel-item {display: flex;flex-direction: column;position: relative;background-color: white;}#sk-29f62ff7-f1a0-4397-9d98-9fd6fc6615b3 div.sk-parallel-item:first-child::after {align-self: flex-end;width: 50%;}#sk-29f62ff7-f1a0-4397-9d98-9fd6fc6615b3 div.sk-parallel-item:last-child::after {align-self: flex-start;width: 50%;}#sk-29f62ff7-f1a0-4397-9d98-9fd6fc6615b3 div.sk-parallel-item:only-child::after {width: 0;}#sk-29f62ff7-f1a0-4397-9d98-9fd6fc6615b3 div.sk-dashed-wrapped {border: 1px dashed gray;margin: 0 0.4em 0.5em 0.4em;box-sizing: border-box;padding-bottom: 0.4em;background-color: white;position: relative;}#sk-29f62ff7-f1a0-4397-9d98-9fd6fc6615b3 div.sk-label label {font-family: monospace;font-weight: bold;background-color: white;display: inline-block;line-height: 1.2em;}#sk-29f62ff7-f1a0-4397-9d98-9fd6fc6615b3 div.sk-label-container {position: relative;z-index: 2;text-align: center;}#sk-29f62ff7-f1a0-4397-9d98-9fd6fc6615b3 div.sk-container {/* jupyter's `normalize.less` sets `[hidden] { display: none; }` but bootstrap.min.css set `[hidden] { display: none !important; }` so we also need the `!important` here to be able to override the default hidden behavior on the sphinx rendered scikit-learn.org. See: https://github.com/scikit-learn/scikit-learn/issues/21755 */display: inline-block !important;position: relative;}#sk-29f62ff7-f1a0-4397-9d98-9fd6fc6615b3 div.sk-text-repr-fallback {display: none;}</style><div id=\"sk-29f62ff7-f1a0-4397-9d98-9fd6fc6615b3\" class=\"sk-top-container\"><div class=\"sk-text-repr-fallback\"><pre>Pipeline(steps=[(&#x27;columntransformer&#x27;,\n",
              "                 ColumnTransformer(transformers=[(&#x27;catagorical&#x27;,\n",
              "                                                  Pipeline(steps=[(&#x27;one_hot&#x27;,\n",
              "                                                                   OneHotEncoder(drop=&#x27;first&#x27;,\n",
              "                                                                                 handle_unknown=&#x27;ignore&#x27;,\n",
              "                                                                                 sparse=False))]),\n",
              "                                                  [&#x27;Company&#x27;, &#x27;TypeName&#x27;,\n",
              "                                                   &#x27;OpSys&#x27;, &#x27;Cpu_name&#x27;,\n",
              "                                                   &#x27;Gpu_brand&#x27;]),\n",
              "                                                 (&#x27;numeric&#x27;,\n",
              "                                                  Pipeline(steps=[(&#x27;standard &#x27;\n",
              "                                                                   &#x27;scaler&#x27;,\n",
              "                                                                   StandardScaler())]),\n",
              "                                                  [&#x27;Weight&#x27;, &#x27;ppi&#x27;, &#x27;SSD&#x27;,\n",
              "                                                   &#x27;HDD&#x27;])])),\n",
              "                (&#x27;randomforestregressor&#x27;, RandomForestRegressor())])</pre><b>Please rerun this cell to show the HTML repr or trust the notebook.</b></div><div class=\"sk-container\" hidden><div class=\"sk-item sk-dashed-wrapped\"><div class=\"sk-label-container\"><div class=\"sk-label sk-toggleable\"><input class=\"sk-toggleable__control sk-hidden--visually\" id=\"cb4655cf-c90d-4654-b0d0-32a2ee5e8dbc\" type=\"checkbox\" ><label for=\"cb4655cf-c90d-4654-b0d0-32a2ee5e8dbc\" class=\"sk-toggleable__label sk-toggleable__label-arrow\">Pipeline</label><div class=\"sk-toggleable__content\"><pre>Pipeline(steps=[(&#x27;columntransformer&#x27;,\n",
              "                 ColumnTransformer(transformers=[(&#x27;catagorical&#x27;,\n",
              "                                                  Pipeline(steps=[(&#x27;one_hot&#x27;,\n",
              "                                                                   OneHotEncoder(drop=&#x27;first&#x27;,\n",
              "                                                                                 handle_unknown=&#x27;ignore&#x27;,\n",
              "                                                                                 sparse=False))]),\n",
              "                                                  [&#x27;Company&#x27;, &#x27;TypeName&#x27;,\n",
              "                                                   &#x27;OpSys&#x27;, &#x27;Cpu_name&#x27;,\n",
              "                                                   &#x27;Gpu_brand&#x27;]),\n",
              "                                                 (&#x27;numeric&#x27;,\n",
              "                                                  Pipeline(steps=[(&#x27;standard &#x27;\n",
              "                                                                   &#x27;scaler&#x27;,\n",
              "                                                                   StandardScaler())]),\n",
              "                                                  [&#x27;Weight&#x27;, &#x27;ppi&#x27;, &#x27;SSD&#x27;,\n",
              "                                                   &#x27;HDD&#x27;])])),\n",
              "                (&#x27;randomforestregressor&#x27;, RandomForestRegressor())])</pre></div></div></div><div class=\"sk-serial\"><div class=\"sk-item sk-dashed-wrapped\"><div class=\"sk-label-container\"><div class=\"sk-label sk-toggleable\"><input class=\"sk-toggleable__control sk-hidden--visually\" id=\"ff29e931-e830-4275-a41e-a363c4e0e5e9\" type=\"checkbox\" ><label for=\"ff29e931-e830-4275-a41e-a363c4e0e5e9\" class=\"sk-toggleable__label sk-toggleable__label-arrow\">columntransformer: ColumnTransformer</label><div class=\"sk-toggleable__content\"><pre>ColumnTransformer(transformers=[(&#x27;catagorical&#x27;,\n",
              "                                 Pipeline(steps=[(&#x27;one_hot&#x27;,\n",
              "                                                  OneHotEncoder(drop=&#x27;first&#x27;,\n",
              "                                                                handle_unknown=&#x27;ignore&#x27;,\n",
              "                                                                sparse=False))]),\n",
              "                                 [&#x27;Company&#x27;, &#x27;TypeName&#x27;, &#x27;OpSys&#x27;, &#x27;Cpu_name&#x27;,\n",
              "                                  &#x27;Gpu_brand&#x27;]),\n",
              "                                (&#x27;numeric&#x27;,\n",
              "                                 Pipeline(steps=[(&#x27;standard scaler&#x27;,\n",
              "                                                  StandardScaler())]),\n",
              "                                 [&#x27;Weight&#x27;, &#x27;ppi&#x27;, &#x27;SSD&#x27;, &#x27;HDD&#x27;])])</pre></div></div></div><div class=\"sk-parallel\"><div class=\"sk-parallel-item\"><div class=\"sk-item\"><div class=\"sk-label-container\"><div class=\"sk-label sk-toggleable\"><input class=\"sk-toggleable__control sk-hidden--visually\" id=\"a299f7c0-b2be-4ca6-b993-e1273cfc84f6\" type=\"checkbox\" ><label for=\"a299f7c0-b2be-4ca6-b993-e1273cfc84f6\" class=\"sk-toggleable__label sk-toggleable__label-arrow\">catagorical</label><div class=\"sk-toggleable__content\"><pre>[&#x27;Company&#x27;, &#x27;TypeName&#x27;, &#x27;OpSys&#x27;, &#x27;Cpu_name&#x27;, &#x27;Gpu_brand&#x27;]</pre></div></div></div><div class=\"sk-serial\"><div class=\"sk-item\"><div class=\"sk-serial\"><div class=\"sk-item\"><div class=\"sk-estimator sk-toggleable\"><input class=\"sk-toggleable__control sk-hidden--visually\" id=\"9f9230e9-f323-4fef-8fa0-263d8816af8e\" type=\"checkbox\" ><label for=\"9f9230e9-f323-4fef-8fa0-263d8816af8e\" class=\"sk-toggleable__label sk-toggleable__label-arrow\">OneHotEncoder</label><div class=\"sk-toggleable__content\"><pre>OneHotEncoder(drop=&#x27;first&#x27;, handle_unknown=&#x27;ignore&#x27;, sparse=False)</pre></div></div></div></div></div></div></div></div><div class=\"sk-parallel-item\"><div class=\"sk-item\"><div class=\"sk-label-container\"><div class=\"sk-label sk-toggleable\"><input class=\"sk-toggleable__control sk-hidden--visually\" id=\"5cb6a97e-857f-49f2-b877-dbdd48a3fa4d\" type=\"checkbox\" ><label for=\"5cb6a97e-857f-49f2-b877-dbdd48a3fa4d\" class=\"sk-toggleable__label sk-toggleable__label-arrow\">numeric</label><div class=\"sk-toggleable__content\"><pre>[&#x27;Weight&#x27;, &#x27;ppi&#x27;, &#x27;SSD&#x27;, &#x27;HDD&#x27;]</pre></div></div></div><div class=\"sk-serial\"><div class=\"sk-item\"><div class=\"sk-serial\"><div class=\"sk-item\"><div class=\"sk-estimator sk-toggleable\"><input class=\"sk-toggleable__control sk-hidden--visually\" id=\"ccdc4fbb-3910-42a5-87e4-cc471f860a93\" type=\"checkbox\" ><label for=\"ccdc4fbb-3910-42a5-87e4-cc471f860a93\" class=\"sk-toggleable__label sk-toggleable__label-arrow\">StandardScaler</label><div class=\"sk-toggleable__content\"><pre>StandardScaler()</pre></div></div></div></div></div></div></div></div></div></div><div class=\"sk-item\"><div class=\"sk-estimator sk-toggleable\"><input class=\"sk-toggleable__control sk-hidden--visually\" id=\"01ac7c07-5849-4ed3-bc9f-27f1e59fe916\" type=\"checkbox\" ><label for=\"01ac7c07-5849-4ed3-bc9f-27f1e59fe916\" class=\"sk-toggleable__label sk-toggleable__label-arrow\">RandomForestRegressor</label><div class=\"sk-toggleable__content\"><pre>RandomForestRegressor()</pre></div></div></div></div></div></div></div>"
            ]
          },
          "metadata": {},
          "execution_count": 530
        }
      ]
    },
    {
      "cell_type": "code",
      "source": [
        "best_model(AdaBoostRegressor(),X_train,y_train,y_test)"
      ],
      "metadata": {
        "colab": {
          "base_uri": "https://localhost:8080/",
          "height": 210
        },
        "id": "OlY_BfC8vkiA",
        "outputId": "df34ab10-0316-404b-beff-c145216a4fc6"
      },
      "execution_count": 532,
      "outputs": [
        {
          "output_type": "stream",
          "name": "stdout",
          "text": [
            "for AdaBoostRegressor() the r2 Score is 0.7929920100532288\n"
          ]
        },
        {
          "output_type": "execute_result",
          "data": {
            "text/plain": [
              "Pipeline(steps=[('columntransformer',\n",
              "                 ColumnTransformer(transformers=[('catagorical',\n",
              "                                                  Pipeline(steps=[('one_hot',\n",
              "                                                                   OneHotEncoder(drop='first',\n",
              "                                                                                 handle_unknown='ignore',\n",
              "                                                                                 sparse=False))]),\n",
              "                                                  ['Company', 'TypeName',\n",
              "                                                   'OpSys', 'Cpu_name',\n",
              "                                                   'Gpu_brand']),\n",
              "                                                 ('numeric',\n",
              "                                                  Pipeline(steps=[('standard '\n",
              "                                                                   'scaler',\n",
              "                                                                   StandardScaler())]),\n",
              "                                                  ['Weight', 'ppi', 'SSD',\n",
              "                                                   'HDD'])])),\n",
              "                ('adaboostregressor', AdaBoostRegressor())])"
            ],
            "text/html": [
              "<style>#sk-ce217fc3-44df-4007-b80d-fd208368e680 {color: black;background-color: white;}#sk-ce217fc3-44df-4007-b80d-fd208368e680 pre{padding: 0;}#sk-ce217fc3-44df-4007-b80d-fd208368e680 div.sk-toggleable {background-color: white;}#sk-ce217fc3-44df-4007-b80d-fd208368e680 label.sk-toggleable__label {cursor: pointer;display: block;width: 100%;margin-bottom: 0;padding: 0.3em;box-sizing: border-box;text-align: center;}#sk-ce217fc3-44df-4007-b80d-fd208368e680 label.sk-toggleable__label-arrow:before {content: \"▸\";float: left;margin-right: 0.25em;color: #696969;}#sk-ce217fc3-44df-4007-b80d-fd208368e680 label.sk-toggleable__label-arrow:hover:before {color: black;}#sk-ce217fc3-44df-4007-b80d-fd208368e680 div.sk-estimator:hover label.sk-toggleable__label-arrow:before {color: black;}#sk-ce217fc3-44df-4007-b80d-fd208368e680 div.sk-toggleable__content {max-height: 0;max-width: 0;overflow: hidden;text-align: left;background-color: #f0f8ff;}#sk-ce217fc3-44df-4007-b80d-fd208368e680 div.sk-toggleable__content pre {margin: 0.2em;color: black;border-radius: 0.25em;background-color: #f0f8ff;}#sk-ce217fc3-44df-4007-b80d-fd208368e680 input.sk-toggleable__control:checked~div.sk-toggleable__content {max-height: 200px;max-width: 100%;overflow: auto;}#sk-ce217fc3-44df-4007-b80d-fd208368e680 input.sk-toggleable__control:checked~label.sk-toggleable__label-arrow:before {content: \"▾\";}#sk-ce217fc3-44df-4007-b80d-fd208368e680 div.sk-estimator input.sk-toggleable__control:checked~label.sk-toggleable__label {background-color: #d4ebff;}#sk-ce217fc3-44df-4007-b80d-fd208368e680 div.sk-label input.sk-toggleable__control:checked~label.sk-toggleable__label {background-color: #d4ebff;}#sk-ce217fc3-44df-4007-b80d-fd208368e680 input.sk-hidden--visually {border: 0;clip: rect(1px 1px 1px 1px);clip: rect(1px, 1px, 1px, 1px);height: 1px;margin: -1px;overflow: hidden;padding: 0;position: absolute;width: 1px;}#sk-ce217fc3-44df-4007-b80d-fd208368e680 div.sk-estimator {font-family: monospace;background-color: #f0f8ff;border: 1px dotted black;border-radius: 0.25em;box-sizing: border-box;margin-bottom: 0.5em;}#sk-ce217fc3-44df-4007-b80d-fd208368e680 div.sk-estimator:hover {background-color: #d4ebff;}#sk-ce217fc3-44df-4007-b80d-fd208368e680 div.sk-parallel-item::after {content: \"\";width: 100%;border-bottom: 1px solid gray;flex-grow: 1;}#sk-ce217fc3-44df-4007-b80d-fd208368e680 div.sk-label:hover label.sk-toggleable__label {background-color: #d4ebff;}#sk-ce217fc3-44df-4007-b80d-fd208368e680 div.sk-serial::before {content: \"\";position: absolute;border-left: 1px solid gray;box-sizing: border-box;top: 2em;bottom: 0;left: 50%;}#sk-ce217fc3-44df-4007-b80d-fd208368e680 div.sk-serial {display: flex;flex-direction: column;align-items: center;background-color: white;padding-right: 0.2em;padding-left: 0.2em;}#sk-ce217fc3-44df-4007-b80d-fd208368e680 div.sk-item {z-index: 1;}#sk-ce217fc3-44df-4007-b80d-fd208368e680 div.sk-parallel {display: flex;align-items: stretch;justify-content: center;background-color: white;}#sk-ce217fc3-44df-4007-b80d-fd208368e680 div.sk-parallel::before {content: \"\";position: absolute;border-left: 1px solid gray;box-sizing: border-box;top: 2em;bottom: 0;left: 50%;}#sk-ce217fc3-44df-4007-b80d-fd208368e680 div.sk-parallel-item {display: flex;flex-direction: column;position: relative;background-color: white;}#sk-ce217fc3-44df-4007-b80d-fd208368e680 div.sk-parallel-item:first-child::after {align-self: flex-end;width: 50%;}#sk-ce217fc3-44df-4007-b80d-fd208368e680 div.sk-parallel-item:last-child::after {align-self: flex-start;width: 50%;}#sk-ce217fc3-44df-4007-b80d-fd208368e680 div.sk-parallel-item:only-child::after {width: 0;}#sk-ce217fc3-44df-4007-b80d-fd208368e680 div.sk-dashed-wrapped {border: 1px dashed gray;margin: 0 0.4em 0.5em 0.4em;box-sizing: border-box;padding-bottom: 0.4em;background-color: white;position: relative;}#sk-ce217fc3-44df-4007-b80d-fd208368e680 div.sk-label label {font-family: monospace;font-weight: bold;background-color: white;display: inline-block;line-height: 1.2em;}#sk-ce217fc3-44df-4007-b80d-fd208368e680 div.sk-label-container {position: relative;z-index: 2;text-align: center;}#sk-ce217fc3-44df-4007-b80d-fd208368e680 div.sk-container {/* jupyter's `normalize.less` sets `[hidden] { display: none; }` but bootstrap.min.css set `[hidden] { display: none !important; }` so we also need the `!important` here to be able to override the default hidden behavior on the sphinx rendered scikit-learn.org. See: https://github.com/scikit-learn/scikit-learn/issues/21755 */display: inline-block !important;position: relative;}#sk-ce217fc3-44df-4007-b80d-fd208368e680 div.sk-text-repr-fallback {display: none;}</style><div id=\"sk-ce217fc3-44df-4007-b80d-fd208368e680\" class=\"sk-top-container\"><div class=\"sk-text-repr-fallback\"><pre>Pipeline(steps=[(&#x27;columntransformer&#x27;,\n",
              "                 ColumnTransformer(transformers=[(&#x27;catagorical&#x27;,\n",
              "                                                  Pipeline(steps=[(&#x27;one_hot&#x27;,\n",
              "                                                                   OneHotEncoder(drop=&#x27;first&#x27;,\n",
              "                                                                                 handle_unknown=&#x27;ignore&#x27;,\n",
              "                                                                                 sparse=False))]),\n",
              "                                                  [&#x27;Company&#x27;, &#x27;TypeName&#x27;,\n",
              "                                                   &#x27;OpSys&#x27;, &#x27;Cpu_name&#x27;,\n",
              "                                                   &#x27;Gpu_brand&#x27;]),\n",
              "                                                 (&#x27;numeric&#x27;,\n",
              "                                                  Pipeline(steps=[(&#x27;standard &#x27;\n",
              "                                                                   &#x27;scaler&#x27;,\n",
              "                                                                   StandardScaler())]),\n",
              "                                                  [&#x27;Weight&#x27;, &#x27;ppi&#x27;, &#x27;SSD&#x27;,\n",
              "                                                   &#x27;HDD&#x27;])])),\n",
              "                (&#x27;adaboostregressor&#x27;, AdaBoostRegressor())])</pre><b>Please rerun this cell to show the HTML repr or trust the notebook.</b></div><div class=\"sk-container\" hidden><div class=\"sk-item sk-dashed-wrapped\"><div class=\"sk-label-container\"><div class=\"sk-label sk-toggleable\"><input class=\"sk-toggleable__control sk-hidden--visually\" id=\"a5f652c7-28b5-4e29-9dd2-55f99076c22c\" type=\"checkbox\" ><label for=\"a5f652c7-28b5-4e29-9dd2-55f99076c22c\" class=\"sk-toggleable__label sk-toggleable__label-arrow\">Pipeline</label><div class=\"sk-toggleable__content\"><pre>Pipeline(steps=[(&#x27;columntransformer&#x27;,\n",
              "                 ColumnTransformer(transformers=[(&#x27;catagorical&#x27;,\n",
              "                                                  Pipeline(steps=[(&#x27;one_hot&#x27;,\n",
              "                                                                   OneHotEncoder(drop=&#x27;first&#x27;,\n",
              "                                                                                 handle_unknown=&#x27;ignore&#x27;,\n",
              "                                                                                 sparse=False))]),\n",
              "                                                  [&#x27;Company&#x27;, &#x27;TypeName&#x27;,\n",
              "                                                   &#x27;OpSys&#x27;, &#x27;Cpu_name&#x27;,\n",
              "                                                   &#x27;Gpu_brand&#x27;]),\n",
              "                                                 (&#x27;numeric&#x27;,\n",
              "                                                  Pipeline(steps=[(&#x27;standard &#x27;\n",
              "                                                                   &#x27;scaler&#x27;,\n",
              "                                                                   StandardScaler())]),\n",
              "                                                  [&#x27;Weight&#x27;, &#x27;ppi&#x27;, &#x27;SSD&#x27;,\n",
              "                                                   &#x27;HDD&#x27;])])),\n",
              "                (&#x27;adaboostregressor&#x27;, AdaBoostRegressor())])</pre></div></div></div><div class=\"sk-serial\"><div class=\"sk-item sk-dashed-wrapped\"><div class=\"sk-label-container\"><div class=\"sk-label sk-toggleable\"><input class=\"sk-toggleable__control sk-hidden--visually\" id=\"2f532c45-5c47-457d-aff7-24331df775ad\" type=\"checkbox\" ><label for=\"2f532c45-5c47-457d-aff7-24331df775ad\" class=\"sk-toggleable__label sk-toggleable__label-arrow\">columntransformer: ColumnTransformer</label><div class=\"sk-toggleable__content\"><pre>ColumnTransformer(transformers=[(&#x27;catagorical&#x27;,\n",
              "                                 Pipeline(steps=[(&#x27;one_hot&#x27;,\n",
              "                                                  OneHotEncoder(drop=&#x27;first&#x27;,\n",
              "                                                                handle_unknown=&#x27;ignore&#x27;,\n",
              "                                                                sparse=False))]),\n",
              "                                 [&#x27;Company&#x27;, &#x27;TypeName&#x27;, &#x27;OpSys&#x27;, &#x27;Cpu_name&#x27;,\n",
              "                                  &#x27;Gpu_brand&#x27;]),\n",
              "                                (&#x27;numeric&#x27;,\n",
              "                                 Pipeline(steps=[(&#x27;standard scaler&#x27;,\n",
              "                                                  StandardScaler())]),\n",
              "                                 [&#x27;Weight&#x27;, &#x27;ppi&#x27;, &#x27;SSD&#x27;, &#x27;HDD&#x27;])])</pre></div></div></div><div class=\"sk-parallel\"><div class=\"sk-parallel-item\"><div class=\"sk-item\"><div class=\"sk-label-container\"><div class=\"sk-label sk-toggleable\"><input class=\"sk-toggleable__control sk-hidden--visually\" id=\"8a09f3c3-355d-4c9c-b930-1f6d108cc16d\" type=\"checkbox\" ><label for=\"8a09f3c3-355d-4c9c-b930-1f6d108cc16d\" class=\"sk-toggleable__label sk-toggleable__label-arrow\">catagorical</label><div class=\"sk-toggleable__content\"><pre>[&#x27;Company&#x27;, &#x27;TypeName&#x27;, &#x27;OpSys&#x27;, &#x27;Cpu_name&#x27;, &#x27;Gpu_brand&#x27;]</pre></div></div></div><div class=\"sk-serial\"><div class=\"sk-item\"><div class=\"sk-serial\"><div class=\"sk-item\"><div class=\"sk-estimator sk-toggleable\"><input class=\"sk-toggleable__control sk-hidden--visually\" id=\"b4f655de-f0e7-4760-bdd8-2547d4d9dd7a\" type=\"checkbox\" ><label for=\"b4f655de-f0e7-4760-bdd8-2547d4d9dd7a\" class=\"sk-toggleable__label sk-toggleable__label-arrow\">OneHotEncoder</label><div class=\"sk-toggleable__content\"><pre>OneHotEncoder(drop=&#x27;first&#x27;, handle_unknown=&#x27;ignore&#x27;, sparse=False)</pre></div></div></div></div></div></div></div></div><div class=\"sk-parallel-item\"><div class=\"sk-item\"><div class=\"sk-label-container\"><div class=\"sk-label sk-toggleable\"><input class=\"sk-toggleable__control sk-hidden--visually\" id=\"9172a36a-c48d-44f1-b6ec-96d9bddfb1fc\" type=\"checkbox\" ><label for=\"9172a36a-c48d-44f1-b6ec-96d9bddfb1fc\" class=\"sk-toggleable__label sk-toggleable__label-arrow\">numeric</label><div class=\"sk-toggleable__content\"><pre>[&#x27;Weight&#x27;, &#x27;ppi&#x27;, &#x27;SSD&#x27;, &#x27;HDD&#x27;]</pre></div></div></div><div class=\"sk-serial\"><div class=\"sk-item\"><div class=\"sk-serial\"><div class=\"sk-item\"><div class=\"sk-estimator sk-toggleable\"><input class=\"sk-toggleable__control sk-hidden--visually\" id=\"1a12411e-344d-469f-ae75-b25962721c2b\" type=\"checkbox\" ><label for=\"1a12411e-344d-469f-ae75-b25962721c2b\" class=\"sk-toggleable__label sk-toggleable__label-arrow\">StandardScaler</label><div class=\"sk-toggleable__content\"><pre>StandardScaler()</pre></div></div></div></div></div></div></div></div></div></div><div class=\"sk-item\"><div class=\"sk-estimator sk-toggleable\"><input class=\"sk-toggleable__control sk-hidden--visually\" id=\"01071807-7253-408f-90c8-143a8a7f2012\" type=\"checkbox\" ><label for=\"01071807-7253-408f-90c8-143a8a7f2012\" class=\"sk-toggleable__label sk-toggleable__label-arrow\">AdaBoostRegressor</label><div class=\"sk-toggleable__content\"><pre>AdaBoostRegressor()</pre></div></div></div></div></div></div></div>"
            ]
          },
          "metadata": {},
          "execution_count": 532
        }
      ]
    },
    {
      "cell_type": "code",
      "source": [
        "best_model(XGBRegressor(),X_train,y_train,y_test)"
      ],
      "metadata": {
        "colab": {
          "base_uri": "https://localhost:8080/",
          "height": 228
        },
        "id": "JHG-j21qvlHc",
        "outputId": "f15e0b98-9999-4ad4-d99b-8867b092d083"
      },
      "execution_count": 533,
      "outputs": [
        {
          "output_type": "stream",
          "name": "stdout",
          "text": [
            "[21:50:45] WARNING: /workspace/src/objective/regression_obj.cu:152: reg:linear is now deprecated in favor of reg:squarederror.\n",
            "for XGBRegressor() the r2 Score is 0.8674066461786902\n"
          ]
        },
        {
          "output_type": "execute_result",
          "data": {
            "text/plain": [
              "Pipeline(steps=[('columntransformer',\n",
              "                 ColumnTransformer(transformers=[('catagorical',\n",
              "                                                  Pipeline(steps=[('one_hot',\n",
              "                                                                   OneHotEncoder(drop='first',\n",
              "                                                                                 handle_unknown='ignore',\n",
              "                                                                                 sparse=False))]),\n",
              "                                                  ['Company', 'TypeName',\n",
              "                                                   'OpSys', 'Cpu_name',\n",
              "                                                   'Gpu_brand']),\n",
              "                                                 ('numeric',\n",
              "                                                  Pipeline(steps=[('standard '\n",
              "                                                                   'scaler',\n",
              "                                                                   StandardScaler())]),\n",
              "                                                  ['Weight', 'ppi', 'SSD',\n",
              "                                                   'HDD'])])),\n",
              "                ('xgbregressor', XGBRegressor())])"
            ],
            "text/html": [
              "<style>#sk-a9527cf7-2a5b-4feb-b1af-b42de6726eeb {color: black;background-color: white;}#sk-a9527cf7-2a5b-4feb-b1af-b42de6726eeb pre{padding: 0;}#sk-a9527cf7-2a5b-4feb-b1af-b42de6726eeb div.sk-toggleable {background-color: white;}#sk-a9527cf7-2a5b-4feb-b1af-b42de6726eeb label.sk-toggleable__label {cursor: pointer;display: block;width: 100%;margin-bottom: 0;padding: 0.3em;box-sizing: border-box;text-align: center;}#sk-a9527cf7-2a5b-4feb-b1af-b42de6726eeb label.sk-toggleable__label-arrow:before {content: \"▸\";float: left;margin-right: 0.25em;color: #696969;}#sk-a9527cf7-2a5b-4feb-b1af-b42de6726eeb label.sk-toggleable__label-arrow:hover:before {color: black;}#sk-a9527cf7-2a5b-4feb-b1af-b42de6726eeb div.sk-estimator:hover label.sk-toggleable__label-arrow:before {color: black;}#sk-a9527cf7-2a5b-4feb-b1af-b42de6726eeb div.sk-toggleable__content {max-height: 0;max-width: 0;overflow: hidden;text-align: left;background-color: #f0f8ff;}#sk-a9527cf7-2a5b-4feb-b1af-b42de6726eeb div.sk-toggleable__content pre {margin: 0.2em;color: black;border-radius: 0.25em;background-color: #f0f8ff;}#sk-a9527cf7-2a5b-4feb-b1af-b42de6726eeb input.sk-toggleable__control:checked~div.sk-toggleable__content {max-height: 200px;max-width: 100%;overflow: auto;}#sk-a9527cf7-2a5b-4feb-b1af-b42de6726eeb input.sk-toggleable__control:checked~label.sk-toggleable__label-arrow:before {content: \"▾\";}#sk-a9527cf7-2a5b-4feb-b1af-b42de6726eeb div.sk-estimator input.sk-toggleable__control:checked~label.sk-toggleable__label {background-color: #d4ebff;}#sk-a9527cf7-2a5b-4feb-b1af-b42de6726eeb div.sk-label input.sk-toggleable__control:checked~label.sk-toggleable__label {background-color: #d4ebff;}#sk-a9527cf7-2a5b-4feb-b1af-b42de6726eeb input.sk-hidden--visually {border: 0;clip: rect(1px 1px 1px 1px);clip: rect(1px, 1px, 1px, 1px);height: 1px;margin: -1px;overflow: hidden;padding: 0;position: absolute;width: 1px;}#sk-a9527cf7-2a5b-4feb-b1af-b42de6726eeb div.sk-estimator {font-family: monospace;background-color: #f0f8ff;border: 1px dotted black;border-radius: 0.25em;box-sizing: border-box;margin-bottom: 0.5em;}#sk-a9527cf7-2a5b-4feb-b1af-b42de6726eeb div.sk-estimator:hover {background-color: #d4ebff;}#sk-a9527cf7-2a5b-4feb-b1af-b42de6726eeb div.sk-parallel-item::after {content: \"\";width: 100%;border-bottom: 1px solid gray;flex-grow: 1;}#sk-a9527cf7-2a5b-4feb-b1af-b42de6726eeb div.sk-label:hover label.sk-toggleable__label {background-color: #d4ebff;}#sk-a9527cf7-2a5b-4feb-b1af-b42de6726eeb div.sk-serial::before {content: \"\";position: absolute;border-left: 1px solid gray;box-sizing: border-box;top: 2em;bottom: 0;left: 50%;}#sk-a9527cf7-2a5b-4feb-b1af-b42de6726eeb div.sk-serial {display: flex;flex-direction: column;align-items: center;background-color: white;padding-right: 0.2em;padding-left: 0.2em;}#sk-a9527cf7-2a5b-4feb-b1af-b42de6726eeb div.sk-item {z-index: 1;}#sk-a9527cf7-2a5b-4feb-b1af-b42de6726eeb div.sk-parallel {display: flex;align-items: stretch;justify-content: center;background-color: white;}#sk-a9527cf7-2a5b-4feb-b1af-b42de6726eeb div.sk-parallel::before {content: \"\";position: absolute;border-left: 1px solid gray;box-sizing: border-box;top: 2em;bottom: 0;left: 50%;}#sk-a9527cf7-2a5b-4feb-b1af-b42de6726eeb div.sk-parallel-item {display: flex;flex-direction: column;position: relative;background-color: white;}#sk-a9527cf7-2a5b-4feb-b1af-b42de6726eeb div.sk-parallel-item:first-child::after {align-self: flex-end;width: 50%;}#sk-a9527cf7-2a5b-4feb-b1af-b42de6726eeb div.sk-parallel-item:last-child::after {align-self: flex-start;width: 50%;}#sk-a9527cf7-2a5b-4feb-b1af-b42de6726eeb div.sk-parallel-item:only-child::after {width: 0;}#sk-a9527cf7-2a5b-4feb-b1af-b42de6726eeb div.sk-dashed-wrapped {border: 1px dashed gray;margin: 0 0.4em 0.5em 0.4em;box-sizing: border-box;padding-bottom: 0.4em;background-color: white;position: relative;}#sk-a9527cf7-2a5b-4feb-b1af-b42de6726eeb div.sk-label label {font-family: monospace;font-weight: bold;background-color: white;display: inline-block;line-height: 1.2em;}#sk-a9527cf7-2a5b-4feb-b1af-b42de6726eeb div.sk-label-container {position: relative;z-index: 2;text-align: center;}#sk-a9527cf7-2a5b-4feb-b1af-b42de6726eeb div.sk-container {/* jupyter's `normalize.less` sets `[hidden] { display: none; }` but bootstrap.min.css set `[hidden] { display: none !important; }` so we also need the `!important` here to be able to override the default hidden behavior on the sphinx rendered scikit-learn.org. See: https://github.com/scikit-learn/scikit-learn/issues/21755 */display: inline-block !important;position: relative;}#sk-a9527cf7-2a5b-4feb-b1af-b42de6726eeb div.sk-text-repr-fallback {display: none;}</style><div id=\"sk-a9527cf7-2a5b-4feb-b1af-b42de6726eeb\" class=\"sk-top-container\"><div class=\"sk-text-repr-fallback\"><pre>Pipeline(steps=[(&#x27;columntransformer&#x27;,\n",
              "                 ColumnTransformer(transformers=[(&#x27;catagorical&#x27;,\n",
              "                                                  Pipeline(steps=[(&#x27;one_hot&#x27;,\n",
              "                                                                   OneHotEncoder(drop=&#x27;first&#x27;,\n",
              "                                                                                 handle_unknown=&#x27;ignore&#x27;,\n",
              "                                                                                 sparse=False))]),\n",
              "                                                  [&#x27;Company&#x27;, &#x27;TypeName&#x27;,\n",
              "                                                   &#x27;OpSys&#x27;, &#x27;Cpu_name&#x27;,\n",
              "                                                   &#x27;Gpu_brand&#x27;]),\n",
              "                                                 (&#x27;numeric&#x27;,\n",
              "                                                  Pipeline(steps=[(&#x27;standard &#x27;\n",
              "                                                                   &#x27;scaler&#x27;,\n",
              "                                                                   StandardScaler())]),\n",
              "                                                  [&#x27;Weight&#x27;, &#x27;ppi&#x27;, &#x27;SSD&#x27;,\n",
              "                                                   &#x27;HDD&#x27;])])),\n",
              "                (&#x27;xgbregressor&#x27;, XGBRegressor())])</pre><b>Please rerun this cell to show the HTML repr or trust the notebook.</b></div><div class=\"sk-container\" hidden><div class=\"sk-item sk-dashed-wrapped\"><div class=\"sk-label-container\"><div class=\"sk-label sk-toggleable\"><input class=\"sk-toggleable__control sk-hidden--visually\" id=\"37ff4999-b137-49d9-ba3a-ec7fbc6308ff\" type=\"checkbox\" ><label for=\"37ff4999-b137-49d9-ba3a-ec7fbc6308ff\" class=\"sk-toggleable__label sk-toggleable__label-arrow\">Pipeline</label><div class=\"sk-toggleable__content\"><pre>Pipeline(steps=[(&#x27;columntransformer&#x27;,\n",
              "                 ColumnTransformer(transformers=[(&#x27;catagorical&#x27;,\n",
              "                                                  Pipeline(steps=[(&#x27;one_hot&#x27;,\n",
              "                                                                   OneHotEncoder(drop=&#x27;first&#x27;,\n",
              "                                                                                 handle_unknown=&#x27;ignore&#x27;,\n",
              "                                                                                 sparse=False))]),\n",
              "                                                  [&#x27;Company&#x27;, &#x27;TypeName&#x27;,\n",
              "                                                   &#x27;OpSys&#x27;, &#x27;Cpu_name&#x27;,\n",
              "                                                   &#x27;Gpu_brand&#x27;]),\n",
              "                                                 (&#x27;numeric&#x27;,\n",
              "                                                  Pipeline(steps=[(&#x27;standard &#x27;\n",
              "                                                                   &#x27;scaler&#x27;,\n",
              "                                                                   StandardScaler())]),\n",
              "                                                  [&#x27;Weight&#x27;, &#x27;ppi&#x27;, &#x27;SSD&#x27;,\n",
              "                                                   &#x27;HDD&#x27;])])),\n",
              "                (&#x27;xgbregressor&#x27;, XGBRegressor())])</pre></div></div></div><div class=\"sk-serial\"><div class=\"sk-item sk-dashed-wrapped\"><div class=\"sk-label-container\"><div class=\"sk-label sk-toggleable\"><input class=\"sk-toggleable__control sk-hidden--visually\" id=\"5e5e9523-e46e-44b2-aba8-f31451814e6b\" type=\"checkbox\" ><label for=\"5e5e9523-e46e-44b2-aba8-f31451814e6b\" class=\"sk-toggleable__label sk-toggleable__label-arrow\">columntransformer: ColumnTransformer</label><div class=\"sk-toggleable__content\"><pre>ColumnTransformer(transformers=[(&#x27;catagorical&#x27;,\n",
              "                                 Pipeline(steps=[(&#x27;one_hot&#x27;,\n",
              "                                                  OneHotEncoder(drop=&#x27;first&#x27;,\n",
              "                                                                handle_unknown=&#x27;ignore&#x27;,\n",
              "                                                                sparse=False))]),\n",
              "                                 [&#x27;Company&#x27;, &#x27;TypeName&#x27;, &#x27;OpSys&#x27;, &#x27;Cpu_name&#x27;,\n",
              "                                  &#x27;Gpu_brand&#x27;]),\n",
              "                                (&#x27;numeric&#x27;,\n",
              "                                 Pipeline(steps=[(&#x27;standard scaler&#x27;,\n",
              "                                                  StandardScaler())]),\n",
              "                                 [&#x27;Weight&#x27;, &#x27;ppi&#x27;, &#x27;SSD&#x27;, &#x27;HDD&#x27;])])</pre></div></div></div><div class=\"sk-parallel\"><div class=\"sk-parallel-item\"><div class=\"sk-item\"><div class=\"sk-label-container\"><div class=\"sk-label sk-toggleable\"><input class=\"sk-toggleable__control sk-hidden--visually\" id=\"ce30d59d-a1ac-4c9b-8a75-a594a72a5723\" type=\"checkbox\" ><label for=\"ce30d59d-a1ac-4c9b-8a75-a594a72a5723\" class=\"sk-toggleable__label sk-toggleable__label-arrow\">catagorical</label><div class=\"sk-toggleable__content\"><pre>[&#x27;Company&#x27;, &#x27;TypeName&#x27;, &#x27;OpSys&#x27;, &#x27;Cpu_name&#x27;, &#x27;Gpu_brand&#x27;]</pre></div></div></div><div class=\"sk-serial\"><div class=\"sk-item\"><div class=\"sk-serial\"><div class=\"sk-item\"><div class=\"sk-estimator sk-toggleable\"><input class=\"sk-toggleable__control sk-hidden--visually\" id=\"8a5da68f-0b0b-40a0-97ff-a7460c16cad4\" type=\"checkbox\" ><label for=\"8a5da68f-0b0b-40a0-97ff-a7460c16cad4\" class=\"sk-toggleable__label sk-toggleable__label-arrow\">OneHotEncoder</label><div class=\"sk-toggleable__content\"><pre>OneHotEncoder(drop=&#x27;first&#x27;, handle_unknown=&#x27;ignore&#x27;, sparse=False)</pre></div></div></div></div></div></div></div></div><div class=\"sk-parallel-item\"><div class=\"sk-item\"><div class=\"sk-label-container\"><div class=\"sk-label sk-toggleable\"><input class=\"sk-toggleable__control sk-hidden--visually\" id=\"c4687354-9566-4079-bce5-b3d929251011\" type=\"checkbox\" ><label for=\"c4687354-9566-4079-bce5-b3d929251011\" class=\"sk-toggleable__label sk-toggleable__label-arrow\">numeric</label><div class=\"sk-toggleable__content\"><pre>[&#x27;Weight&#x27;, &#x27;ppi&#x27;, &#x27;SSD&#x27;, &#x27;HDD&#x27;]</pre></div></div></div><div class=\"sk-serial\"><div class=\"sk-item\"><div class=\"sk-serial\"><div class=\"sk-item\"><div class=\"sk-estimator sk-toggleable\"><input class=\"sk-toggleable__control sk-hidden--visually\" id=\"cfe17034-3cb8-47ea-b828-5e59cf302b32\" type=\"checkbox\" ><label for=\"cfe17034-3cb8-47ea-b828-5e59cf302b32\" class=\"sk-toggleable__label sk-toggleable__label-arrow\">StandardScaler</label><div class=\"sk-toggleable__content\"><pre>StandardScaler()</pre></div></div></div></div></div></div></div></div></div></div><div class=\"sk-item\"><div class=\"sk-estimator sk-toggleable\"><input class=\"sk-toggleable__control sk-hidden--visually\" id=\"f3cd6774-44c4-42cc-ae01-81c179346778\" type=\"checkbox\" ><label for=\"f3cd6774-44c4-42cc-ae01-81c179346778\" class=\"sk-toggleable__label sk-toggleable__label-arrow\">XGBRegressor</label><div class=\"sk-toggleable__content\"><pre>XGBRegressor()</pre></div></div></div></div></div></div></div>"
            ]
          },
          "metadata": {},
          "execution_count": 533
        }
      ]
    },
    {
      "cell_type": "code",
      "source": [
        "from sklearn.model_selection import GridSearchCV\n",
        "hyperpipe= Pipeline([('preprocessing',preprocessor),\n",
        "    ('reg',XGBRegressor())])\n",
        "\n",
        "grid_params = [{\n",
        "      'reg': [XGBRegressor()],\n",
        "      'reg__n_estimators': [44,45,46],\n",
        "      'reg__learning_rate':[0.2,0.3,0.4],\n",
        "      'reg__max_depth':[10,12,13]},\n",
        "      {\n",
        "      'reg': [GradientBoostingRegressor()],\n",
        "      'reg__n_estimators': [80,85,95,100],\n",
        "      'reg__max_features':[0.2,0.3,0.4,0.5]\n",
        "       }]\n",
        "\n",
        "gridsearch = GridSearchCV(hyperpipe,grid_params,cv=5,verbose=0,n_jobs=-1)\n",
        "final_model= gridsearch.fit(X_train,y_train)\n"
      ],
      "metadata": {
        "colab": {
          "base_uri": "https://localhost:8080/"
        },
        "id": "7_9XasYYxARM",
        "outputId": "2603dfa2-351d-4f17-d624-cc677474828a"
      },
      "execution_count": 508,
      "outputs": [
        {
          "output_type": "stream",
          "name": "stdout",
          "text": [
            "[21:47:08] WARNING: /workspace/src/objective/regression_obj.cu:152: reg:linear is now deprecated in favor of reg:squarederror.\n"
          ]
        }
      ]
    },
    {
      "cell_type": "code",
      "source": [
        "from sklearn.ensemble import VotingRegressor,StackingRegressor\n",
        "estimators = [\n",
        "    ('rf', RandomForestRegressor(n_estimators=350,random_state=3,max_samples=0.5,max_features=0.75,max_depth=15)),\n",
        "    ('gbdt',GradientBoostingRegressor(n_estimators=100,max_features=0.5)),\n",
        "    ('xgb', XGBRegressor(n_estimators=25,learning_rate=0.3,max_depth=5))\n",
        "]\n",
        "\n",
        "fin_model=best_model(StackingRegressor(estimators=estimators, final_estimator=Ridge(alpha=0.01)),X_train,y_train,y_test)"
      ],
      "metadata": {
        "colab": {
          "base_uri": "https://localhost:8080/"
        },
        "id": "-G3AfLKUwFQv",
        "outputId": "0922a2df-5723-4b81-bc81-8aa7c9be5219"
      },
      "execution_count": 541,
      "outputs": [
        {
          "output_type": "stream",
          "name": "stdout",
          "text": [
            "[21:57:24] WARNING: /workspace/src/objective/regression_obj.cu:152: reg:linear is now deprecated in favor of reg:squarederror.\n",
            "[21:57:29] WARNING: /workspace/src/objective/regression_obj.cu:152: reg:linear is now deprecated in favor of reg:squarederror.\n",
            "[21:57:29] WARNING: /workspace/src/objective/regression_obj.cu:152: reg:linear is now deprecated in favor of reg:squarederror.\n",
            "[21:57:29] WARNING: /workspace/src/objective/regression_obj.cu:152: reg:linear is now deprecated in favor of reg:squarederror.\n",
            "[21:57:29] WARNING: /workspace/src/objective/regression_obj.cu:152: reg:linear is now deprecated in favor of reg:squarederror.\n",
            "[21:57:29] WARNING: /workspace/src/objective/regression_obj.cu:152: reg:linear is now deprecated in favor of reg:squarederror.\n",
            "for StackingRegressor(estimators=[('rf',\n",
            "                               RandomForestRegressor(max_depth=15,\n",
            "                                                     max_features=0.75,\n",
            "                                                     max_samples=0.5,\n",
            "                                                     n_estimators=350,\n",
            "                                                     random_state=3)),\n",
            "                              ('gbdt',\n",
            "                               GradientBoostingRegressor(max_features=0.5)),\n",
            "                              ('xgb',\n",
            "                               XGBRegressor(learning_rate=0.3, max_depth=5,\n",
            "                                            n_estimators=25))],\n",
            "                  final_estimator=Ridge(alpha=0.01)) the r2 Score is 0.8850237527315822\n"
          ]
        }
      ]
    },
    {
      "cell_type": "code",
      "source": [],
      "metadata": {
        "id": "Lc6ejQN6_YYJ"
      },
      "execution_count": 542,
      "outputs": []
    }
  ]
}